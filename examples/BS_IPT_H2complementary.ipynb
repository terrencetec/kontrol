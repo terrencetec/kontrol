{
 "cells": [
  {
   "cell_type": "code",
   "execution_count": 1,
   "metadata": {},
   "outputs": [],
   "source": [
    "import numpy as np\n",
    "import matplotlib.pyplot as plt\n",
    "from kontrol import *\n",
    "from kontrol.model import make_weight\n",
    "from control import *\n",
    "import dtt2hdf"
   ]
  },
  {
   "cell_type": "code",
   "execution_count": 2,
   "metadata": {},
   "outputs": [],
   "source": [
    "items = dtt2hdf.read_diaggui('./data/BS_IP_noise_20200721.xml')\n",
    "f = items.results.PSD['K1:VIS-BS_IP_BLEND_ACCL_IN1'].FHz\n",
    "noise_lvdtt_data = items.results.PSD['K1:VIS-BS_IP_BLEND_LVDTT_IN1'].PSD[0]\n",
    "noise_geot_data = items.results.PSD['K1:VIS-BS_IP_BLEND_ACCT_IN1'].PSD[0]\n",
    "\n",
    "mask = (f > 1e-2) & (f < 1e1)\n",
    "f = f[mask]\n",
    "noise_lvdtt_data = noise_lvdtt_data[mask]\n",
    "noise_geot_data = noise_geot_data[mask]"
   ]
  },
  {
   "cell_type": "code",
   "execution_count": 135,
   "metadata": {},
   "outputs": [],
   "source": [
    "from scipy.optimize import minimize\n",
    "def noise2zpk(f, noise_data, x0 = None, bounds=None, max_order=20, weight=None):\n",
    "    \"\"\" Noise spectrum regression using zpk defined transfer function.\n",
    "    \n",
    "    Parameter\n",
    "    ---------\n",
    "        f: numpy.ndarray\n",
    "            Frequency axis of the noise spectrum. In Hz.\n",
    "        noise_data: numpy.ndarray\n",
    "            The amplitude/amplitude spectral density of the noise.\n",
    "        x0: numpy.ndarray, optional\n",
    "            Initial guess for of the noise model parameters. If not specified,\n",
    "            zeros and poles will be default to logrithmic center of f, gain\n",
    "            will be defaulted to noise_data[0]\n",
    "        bounds: tuple of (float, float), optional\n",
    "            The bounds for the zeros and poles in unit of Hz.\n",
    "            This will default to (min(f) - 1 decade, max(f +1 decade),\n",
    "            if not specified. The bounds for the gain goes\n",
    "            to the last entry and is defaulted to be\n",
    "            (noise_data[0]*1e-6, noise_data[0]*1e6)\n",
    "        max_order: int, optional\n",
    "            The maximum number of zeros and poles. Note that the number\n",
    "            of zeros and poles are the same in this regression.\n",
    "            Defaults to be 20, maximum allowable order in foton.\n",
    "        weight: numpy.ndarray, optional\n",
    "            Weightings in frequency domain that will be multiplied to the\n",
    "            residues before summing. This can be used to filter unwanted data\n",
    "            or to emphasize particular frequency regions.\n",
    "    \n",
    "    Returns\n",
    "    -------\n",
    "        noise_zpk: control.xferfcn.TransferFunction\n",
    "            The regressed transfer function with magnitude profile\n",
    "            matching the noise spectrum specified.\n",
    "    \n",
    "    Notes\n",
    "    -----\n",
    "        The reason why the numbers of zeros and poles are the same here\n",
    "        is because the magnitude have to be bounded, i.e. flat at\n",
    "        very low and very high frequencies, for H2 and H-infinity synthesis\n",
    "        to work. This doesn't really matter if the flattness only happens at\n",
    "        irrelevant frequencies. We can always modify the final filter by\n",
    "        removing the corresponding zeros/poles that make the filter flat.\n",
    "    \"\"\"\n",
    "    \n",
    "    if x0 is None:\n",
    "        log_center = (np.log10(max(f)) + np.log10(min(f))) / 2\n",
    "        log_center = 10**log_center\n",
    "        x0 = np.ones(max_order*2) * log_center\n",
    "        x0 = np.append(x0, noise_data[0])\n",
    "#     print(len(x0))\n",
    "    if bounds is None:\n",
    "        bounds = [(min(f)*0.1, max(f)*10)]*max_order*2\n",
    "        bounds.append([noise_data[0]*1e-6, noise_data[0]*1e6])\n",
    "#     print(len(bounds))\n",
    "    if weight is None:\n",
    "        weight = np.ones_like(noise_data)\n",
    "        \n",
    "    def args2zpk(args):\n",
    "        \"\"\" Convert a list of arguments to zpk transfer function.\n",
    "        \n",
    "        Parameters\n",
    "        ----------\n",
    "            args: list of floats\n",
    "                Length must be odd. The last number is gain. The first half of\n",
    "                the rest are zeros, and the second half are poles.\n",
    "        return\n",
    "        ------\n",
    "            control.xferfcn.TransferFunction\n",
    "                The transfer function defined with the arguments.\n",
    "        \"\"\"\n",
    "        \n",
    "        zeros = args[0:int(len(args)/2)]\n",
    "        poles = args[int(len(args)/2):len(args)-1]\n",
    "        gain = args[-1]\n",
    "        return(zpk(zeros, poles, gain))\n",
    "    \n",
    "    def cost(args):\n",
    "        zpk_fit = args2zpk(args)\n",
    "        mag_fit = abs(zpk_fit.horner(2*np.pi*1j*f)[0][0])\n",
    "        residue = sum(np.sqrt(((mag_fit - noise_data) / noise_data * weight)**2))\n",
    "        return(residue)\n",
    "            \n",
    "    res = minimize(cost, x0=x0, bounds=bounds, method='Powell', options={'disp':True})\n",
    "#     print(bounds)\n",
    "#     print(res.x)\n",
    "    noise_zpk = args2zpk(res.x)\n",
    "    return(noise_zpk)\n",
    "    "
   ]
  },
  {
   "cell_type": "code",
   "execution_count": 136,
   "metadata": {
    "scrolled": false
   },
   "outputs": [
    {
     "name": "stdout",
     "output_type": "stream",
     "text": [
      "Optimization terminated successfully.\n",
      "         Current function value: 28.268235\n",
      "         Iterations: 25\n",
      "         Function evaluations: 15476\n",
      "Optimization terminated successfully.\n",
      "         Current function value: 29.009633\n",
      "         Iterations: 13\n",
      "         Function evaluations: 7771\n"
     ]
    }
   ],
   "source": [
    "weight = np.exp(-f)\n",
    "noise_lvdtt_fit=noise2zpk(f, noise_lvdtt_data, max_order=10, weight=weight)\n",
    "noise_geot_fit=noise2zpk(f, noise_geot_data, max_order=10, weight=weight)"
   ]
  },
  {
   "cell_type": "code",
   "execution_count": 208,
   "metadata": {},
   "outputs": [],
   "source": [
    "noise_geot_fit_aug = (noise_geot_fit\n",
    "                      *tf([1, -noise_geot_fit.pole()[-1]],[1])\n",
    "                      *tf([1, -noise_geot_fit.pole()[-2]],[1])\n",
    "                      *tf([1, -noise_geot_fit.pole()[-3]],[1])\n",
    "                      *tf([1],[1,2*np.pi*min(f)])**3)"
   ]
  },
  {
   "cell_type": "code",
   "execution_count": 209,
   "metadata": {
    "scrolled": false
   },
   "outputs": [
    {
     "data": {
      "text/plain": [
       "Text(0.5, 0, 'Frequency (Hz)')"
      ]
     },
     "execution_count": 209,
     "metadata": {},
     "output_type": "execute_result"
    },
    {
     "data": {
      "image/png": "[encoded data removed]",
      "text/plain": [
       "<Figure size 432x288 with 1 Axes>"
      ]
     },
     "metadata": {
      "needs_background": "light"
     },
     "output_type": "display_data"
    }
   ],
   "source": [
    "_f=np.linspace(min(f)*1e-2, max(f)*1e2, 1000000)\n",
    "plt.loglog(f, noise_lvdtt_data, label='IP T LVDT noise')\n",
    "plt.loglog(_f, abs(noise_lvdtt_fit.horner(2*np.pi*1j*_f)[0][0]), label='IP T LVDT noise fit')\n",
    "plt.loglog(f, noise_geot_data, label='IP T geophone noise')\n",
    "plt.loglog(_f, abs(noise_geot_fit.horner(2*np.pi*1j*_f)[0][0]), label='IP T LVDT noise fit')\n",
    "plt.loglog(_f, abs(noise_geot_fit_aug.horner(2*np.pi*1j*_f)[0][0]), label='IP T LVDT noise fit')\n",
    "\n",
    "\n",
    "plt.legend(loc=0)\n",
    "plt.grid()\n",
    "plt.ylabel('ASD')\n",
    "plt.xlabel('Frequency (Hz)')"
   ]
  },
  {
   "cell_type": "code",
   "execution_count": 51,
   "metadata": {},
   "outputs": [
    {
     "data": {
      "text/plain": [
       "array([ 1.02350981e-07, -4.04097319e-02,  8.61603423e-01, -9.94982268e+00,\n",
       "        1.22283911e+01,  1.06055449e+00,  3.11836096e+02,  3.18296152e+02,\n",
       "       -6.33870797e+01,  1.77895813e+00, -7.84834231e-01])"
      ]
     },
     "execution_count": 51,
     "metadata": {},
     "output_type": "execute_result"
    }
   ],
   "source": [
    "noise_geot_tf = tf([1,2,3,4,5],[1,2,3,4,5,6])\n",
    "x0 = list(noise_geot_tf.num[0][0])+list(noise_geot_tf.den[0][0])\n",
    "weight = make_weight(f, ((0.07, 0.9), 0))\n",
    "res = minimize(cost, args=(noise_geot_tf, f, noise_geot_data, weight), x0=x0)\n",
    "res.x"
   ]
  },
  {
   "cell_type": "code",
   "execution_count": 215,
   "metadata": {
    "scrolled": true
   },
   "outputs": [],
   "source": [
    "from kontrol.filter import h2complementary\n",
    "h1, h2 = h2complementary(noise_lvdtt_fit/noise_geot_fit_aug, noise_geot_fit_aug/noise_lvdtt_fit)"
   ]
  },
  {
   "cell_type": "code",
   "execution_count": 221,
   "metadata": {
    "scrolled": true
   },
   "outputs": [
    {
     "data": {
      "text/plain": [
       "[<matplotlib.lines.Line2D at 0x1e81adcbbb0>]"
      ]
     },
     "execution_count": 221,
     "metadata": {},
     "output_type": "execute_result"
    },
    {
     "data": {
      "image/png": "[encoded data removed]",
      "text/plain": [
       "<Figure size 432x288 with 1 Axes>"
      ]
     },
     "metadata": {
      "needs_background": "light"
     },
     "output_type": "display_data"
    }
   ],
   "source": [
    "# f=np.logspace(-3,3,1000)\n",
    "# plt.loglog(_f, abs(h1.horner(2*np.pi*1j*_f)[0][0]))\n",
    "# plt.loglog(_f, abs(h2.horner(2*np.pi*1j*_f)[0][0]))\n",
    "# plt.loglog(_f, abs(h2_aug.horner(2*np.pi*1j*_f)[0][0]))\n",
    "# plt.loglog(_f, abs((h1+h2_aug).horner(2*np.pi*1j*_f)[0][0]))\n",
    "\n",
    "# plt.ylim(0.1,10)\n",
    "plt.loglog(_f, abs(noise_lvdtt_fit.horner(2*np.pi*1j*_f)[0][0]))\n",
    "plt.loglog(_f, abs(noise_geot_fit_aug.horner(2*np.pi*1j*_f)[0][0]))\n",
    "plt.loglog(_f, quad_sum(abs(noise_lvdtt_fit.horner(2*np.pi*1j*_f)[0][0])*abs(h1.horner(2*np.pi*1j*_f)[0][0]),\n",
    "                        abs(noise_geot_fit_aug.horner(2*np.pi*1j*_f)[0][0])*abs(h2_aug.horner(2*np.pi*1j*_f)[0][0])))"
   ]
  },
  {
   "cell_type": "code",
   "execution_count": 217,
   "metadata": {
    "scrolled": true
   },
   "outputs": [
    {
     "data": {
      "text/plain": [
       "array([-6.68240104e+02+1.79821281e+01j, -6.68240104e+02-1.79821281e+01j,\n",
       "       -6.45620210e+02+4.56038445e+01j, -6.45620210e+02-4.56038445e+01j,\n",
       "       -6.46097271e+02+0.00000000e+00j, -6.07679922e+02+5.31177341e+01j,\n",
       "       -6.07679922e+02-5.31177341e+01j, -5.67572658e+02+3.63758170e+01j,\n",
       "       -5.67572658e+02-3.63758170e+01j, -5.48000303e+02+0.00000000e+00j,\n",
       "       -4.90176532e+02+2.18602431e+00j, -4.90176532e+02-2.18602431e+00j,\n",
       "       -2.38841087e+02+8.30967010e-02j, -2.38841087e+02-8.30967010e-02j,\n",
       "       -1.13204414e+02+1.23348839e+00j, -1.13204414e+02-1.23348839e+00j,\n",
       "       -9.82370432e+01+4.97576627e+00j, -9.82370432e+01-4.97576627e+00j,\n",
       "       -8.93348926e+01+6.62543160e+00j, -8.93348926e+01-6.62543160e+00j,\n",
       "       -8.03248167e+01+3.76737529e+00j, -8.03248167e+01-3.76737529e+00j,\n",
       "       -7.18553699e+01+9.30414902e-01j, -7.18553699e+01-9.30414902e-01j,\n",
       "       -4.92092679e+01+1.02051880e-02j, -4.92092679e+01-1.02051880e-02j,\n",
       "       -1.51622758e+00+2.34308128e+00j, -1.51622758e+00-2.34308128e+00j,\n",
       "       -4.58654654e+00+0.00000000e+00j, -4.58622204e+00+0.00000000e+00j,\n",
       "       -4.01783849e+00+7.61951577e-01j, -4.01783849e+00-7.61951577e-01j,\n",
       "       -4.04493553e+00+0.00000000e+00j, -2.13673539e+00+0.00000000e+00j,\n",
       "       -1.94336714e+00+0.00000000e+00j, -4.97608255e-01+0.00000000e+00j,\n",
       "       -9.92670707e-02+0.00000000e+00j, -9.76401306e-02+9.33380813e-04j,\n",
       "       -9.76401306e-02-9.33380813e-04j, -1.60824969e-02+0.00000000e+00j])"
      ]
     },
     "execution_count": 217,
     "metadata": {},
     "output_type": "execute_result"
    }
   ],
   "source": [
    "h2.zero()"
   ]
  },
  {
   "cell_type": "code",
   "execution_count": 218,
   "metadata": {},
   "outputs": [],
   "source": [
    "h2_aug = h2/tf([1, -h2.zero()[-1]],[1])/tf([1, -h2.zero()[-2]],[1])/tf([1, -h2.zero()[-3]],[1])/tf([1, -h2.zero()[-4]],[1])\n",
    "# h2_aug = h2/tf([1/1.02740754e-2, 1],[1])/tf([1/1.60787326e-2, 1],[1])/tf([1/1.65289665e-1, 1],[1])\n",
    "h2_aug = h2_aug*tf([1,0],[1])**4"
   ]
  },
  {
   "cell_type": "code",
   "execution_count": 187,
   "metadata": {},
   "outputs": [
    {
     "data": {
      "text/plain": [
       "(-0.016080250937094934+0j)"
      ]
     },
     "execution_count": 187,
     "metadata": {},
     "output_type": "execute_result"
    }
   ],
   "source": [
    "h2.zero()[-2]"
   ]
  },
  {
   "cell_type": "code",
   "execution_count": 39,
   "metadata": {},
   "outputs": [
    {
     "data": {
      "text/plain": [
       "array([-1.28800324e+01+0.j        ,  1.02358516e-07+0.75129115j,\n",
       "        1.02358516e-07-0.75129115j, -1.41929067e-06+0.11407442j,\n",
       "       -1.41929067e-06-0.11407442j])"
      ]
     },
     "execution_count": 39,
     "metadata": {},
     "output_type": "execute_result"
    }
   ],
   "source": [
    "noise_lvdtt_fit.pole()"
   ]
  },
  {
   "cell_type": "code",
   "execution_count": 7,
   "metadata": {},
   "outputs": [],
   "source": [
    "# def make_weight(x, *segments, default_weight=1.):\n",
    "#     \"\"\"Make weighting functions for data fitting\n",
    "    \n",
    "#     Parameters\n",
    "#     ----------\n",
    "#         x: list or np.ndarray\n",
    "#             The data points for evaluation\n",
    "#         *segments: tuples of (tuple of (float, float), float)\n",
    "#             Set weights values for segments of the data. \n",
    "#             The first entry specify the bound of the segment.\n",
    "#             The second entry specify the weight of the segment.\n",
    "#             Use np.inf for unbounded segments.\n",
    "#         default_weight: float, optional\n",
    "#             The default value of the weighting function.\n",
    "#             Defaults to be 1.\n",
    "    \n",
    "#     Returns\n",
    "#     -------\n",
    "#         weight: np.ndarray\n",
    "#             The weighting function as specfied.\n",
    "#     \"\"\"\n",
    "\n",
    "#     weight = np.ones_like(x) * default_weight\n",
    "    \n",
    "#     for seg in segments:\n",
    "#         lower = seg[0][0]\n",
    "#         upper = seg[0][1]\n",
    "#         weight_val = seg[1]\n",
    "#         if lower > upper:\n",
    "#             _ = lower\n",
    "#             lower = upper\n",
    "#             upper = _\n",
    "#         mask_bool = (x >= lower) & (x <= upper) \n",
    "#         mask_value = mask_bool * weight_val\n",
    "#         weight *= np.logical_not(mask_bool)\n",
    "#         weight += mask_value\n",
    "    \n",
    "#     return(weight)"
   ]
  },
  {
   "cell_type": "code",
   "execution_count": 8,
   "metadata": {},
   "outputs": [
    {
     "data": {
      "text/plain": [
       "[<matplotlib.lines.Line2D at 0x1d81f9aff70>]"
      ]
     },
     "execution_count": 8,
     "metadata": {},
     "output_type": "execute_result"
    },
    {
     "data": {
      "image/png": "[encoded data removed]",
      "text/plain": [
       "<Figure size 432x288 with 1 Axes>"
      ]
     },
     "metadata": {
      "needs_background": "light"
     },
     "output_type": "display_data"
    }
   ],
   "source": [
    "x = np.linspace(0,20, 100)\n",
    "weight = make_weight(x, ((1, 2), 0), ((3, 4), 2), ((5, 10), 3), default_weight=10)\n",
    "plt.plot(x, weight)\n",
    "# plt.plot(weight)"
   ]
  },
  {
   "cell_type": "code",
   "execution_count": 37,
   "metadata": {},
   "outputs": [
    {
     "data": {
      "text/plain": [
       "[1, 4, 5, 4]"
      ]
     },
     "execution_count": 37,
     "metadata": {},
     "output_type": "execute_result"
    }
   ],
   "source": [
    "a=[1,2,3,4]\n",
    "a[1:3]=[4,5]\n",
    "a"
   ]
  },
  {
   "cell_type": "code",
   "execution_count": 45,
   "metadata": {},
   "outputs": [
    {
     "data": {
      "text/plain": [
       "array([  0.        ,   0.        ,   0.        , ...,  99.99218628,\n",
       "        99.99999939, 100.0078125 ])"
      ]
     },
     "execution_count": 45,
     "metadata": {},
     "output_type": "execute_result"
    }
   ],
   "source": [
    "mask=(f>0)&(f<10)\n",
    "f*np.logical_not(mask)"
   ]
  },
  {
   "cell_type": "code",
   "execution_count": null,
   "metadata": {},
   "outputs": [],
   "source": []
  }
 ],
 "metadata": {
  "kernelspec": {
   "display_name": "Python 3",
   "language": "python",
   "name": "python3"
  },
  "language_info": {
   "codemirror_mode": {
    "name": "ipython",
    "version": 3
   },
   "file_extension": ".py",
   "mimetype": "text/x-python",
   "name": "python",
   "nbconvert_exporter": "python",
   "pygments_lexer": "ipython3",
   "version": "3.8.4"
  }
 },
 "nbformat": 4,
 "nbformat_minor": 4
}
