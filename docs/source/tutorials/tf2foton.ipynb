{
 "cells": [
  {
   "cell_type": "markdown",
   "metadata": {},
   "source": [
    "# Converting Python TransferFunction objects to Foton expression\n",
    "\n",
    "In this tutorial, we will demonstrate how to use `kontrol.foton` to convert transfer functions defined in Python to Foton expressions like `zpk([1;2;3],[4;5;6+i*7;6-i*7],8)`.\n",
    "\n",
    "We will use the following transfer function for an example\n",
    "\\begin{equation}\n",
    "    \\frac{s(s+1)}{s^2+0.01\\pi s + \\pi^2}\\,.\n",
    "\\end{equation}\n",
    "For this transfer function, we should expect to see two zeros at 0 and 1 rad/s and two complex poles at $\\pi$ rad/s."
   ]
  },
  {
   "cell_type": "code",
   "execution_count": 1,
   "metadata": {},
   "outputs": [
    {
     "data": {
      "text/latex": [
       "$$\\frac{s^2 + s}{s^2 + 0.03142 s + 9.87}$$"
      ],
      "text/plain": [
       "TransferFunction(array([1, 1, 0]), array([1.        , 0.03141593, 9.8696044 ]))"
      ]
     },
     "execution_count": 1,
     "metadata": {},
     "output_type": "execute_result"
    }
   ],
   "source": [
    "import control\n",
    "import numpy as np\n",
    "\n",
    "\n",
    "s = control.tf(\"s\")\n",
    "tf = s*(s+1) / (s**2 + 0.01*np.pi*s + np.pi**2)\n",
    "tf"
   ]
  },
  {
   "cell_type": "code",
   "execution_count": 5,
   "metadata": {},
   "outputs": [
    {
     "name": "stdout",
     "output_type": "stream",
     "text": [
      "Default expression:\n",
      "zpk([0.0;-1.0],[-0.015707963267948967+i*3.141553383436184;-0.015707963267948967+i*-3.141553383436184],1.0,\"s\")\n",
      "\n",
      "s format:\n",
      "zpk([0.0;-1.0],[-0.015707963267948967+i*3.141553383436184;-0.015707963267948967+i*-3.141553383436184],1.0,\"s\")\n",
      "\n",
      "f format:\n",
      "zpk([0.0;-0.15915494309189535],[-0.0025000000000000005+i*0.49999374996093715;-0.0025000000000000005+i*-0.49999374996093715],1.0,\"f\")\n",
      "\n",
      "n format:\n",
      "zpk([-0.0;0.15915494309189535],[0.0025000000000000005+i*0.49999374996093715;0.0025000000000000005+i*-0.49999374996093715],0.636619772367581,\"n\")\n"
     ]
    }
   ],
   "source": [
    "import kontrol\n",
    "\n",
    "## By default, it uses zpk([...],[...],...,\"s\") expression.\n",
    "foton_expression = kontrol.foton.tf2foton(tf)\n",
    "print(\"Default expression:\")\n",
    "print(foton_expression)\n",
    "print(\"\")\n",
    "\n",
    "# We can use other format as well.\n",
    "zpk_s_expression = kontrol.foton.tf2foton(tf, root_location=\"s\")\n",
    "zpk_f_expression = kontrol.foton.tf2foton(tf, root_location=\"f\")\n",
    "zpk_n_expression = kontrol.foton.tf2foton(tf, root_location=\"n\")\n",
    "print(\"s format:\")\n",
    "print(zpk_s_expression)\n",
    "print(\"\")\n",
    "print(\"f format:\")\n",
    "print(zpk_f_expression)\n",
    "print(\"\")\n",
    "print(\"n format:\")\n",
    "print(zpk_n_expression)"
   ]
  },
  {
   "cell_type": "code",
   "execution_count": 6,
   "metadata": {},
   "outputs": [
    {
     "name": "stdout",
     "output_type": "stream",
     "text": [
      "rpoly expression:\n",
      "rpoly([1.0;1.0;0.0],[1.0;0.031415926535897934;9.869604401089362],1.0)\n"
     ]
    }
   ],
   "source": [
    "# rpoly expressions are also supported.\n",
    "rpoly_expression = kontrol.foton.tf2foton(tf, expression=\"rpoly\")\n",
    "print(\"rpoly expression:\")\n",
    "print(rpoly_expression)"
   ]
  }
 ],
 "metadata": {
  "kernelspec": {
   "display_name": "Python 3",
   "language": "python",
   "name": "python3"
  },
  "language_info": {
   "codemirror_mode": {
    "name": "ipython",
    "version": 3
   },
   "file_extension": ".py",
   "mimetype": "text/x-python",
   "name": "python",
   "nbconvert_exporter": "python",
   "pygments_lexer": "ipython3",
   "version": "3.9.0"
  }
 },
 "nbformat": 4,
 "nbformat_minor": 4
}
