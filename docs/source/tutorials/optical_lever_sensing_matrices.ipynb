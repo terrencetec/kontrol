{
 "cells": [
  {
   "cell_type": "markdown",
   "metadata": {},
   "source": [
    "# Optical Lever Sensing Matrices\n",
    "\n",
    "In this tutorial, we will demonstrate the use of `kontrol.OpticalLeverSensingMatrix` class, which inherit `kontrol.SensingMatrix`. `kontrol.OpticalLeverSensingMatrix` is a general sensing matrix for optical levers with optical lever beams that has tilted incidence plane with respect to the horizontal/vertical plane. Realistically, we won't be needing this general matrix since optical levers (in KAGRA) are roughly horizontal or vertical. So, we provide reduced version of `kontrol.OpticalLeverSensingMatrix`, namely, `kontrol.HorizontalOpticalLeverSensingMatrix` and `kontrol.VerticalOpticalLeverSensingMatrix` classes, which are more useful practically.\n",
    "\n"
   ]
  }
 ],
 "metadata": {
  "kernelspec": {
   "display_name": "Python 3",
   "language": "python",
   "name": "python3"
  },
  "language_info": {
   "codemirror_mode": {
    "name": "ipython",
    "version": 3
   },
   "file_extension": ".py",
   "mimetype": "text/x-python",
   "name": "python",
   "nbconvert_exporter": "python",
   "pygments_lexer": "ipython3",
   "version": "3.9.0"
  }
 },
 "nbformat": 4,
 "nbformat_minor": 4
}
