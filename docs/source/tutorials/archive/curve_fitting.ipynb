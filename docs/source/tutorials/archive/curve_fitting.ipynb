{
 "cells": [
  {
   "cell_type": "markdown",
   "metadata": {},
   "source": [
    "# Fitting a Polynomial\n",
    "\n",
    "In this tutorial, we will show how to use the generic curve fitting class `kontrol.curvefit.CurveFit` to fit a polynomial.\n",
    "\n",
    "`kontrol.curvefit.CurveFit` is a low-level class for curve fitting. \n",
    "It uses optimization to minimize a cost function, e.g. mean squared error, to fit a curve.\n",
    "It requires at least 5 specifications, \n",
    "\n",
    "* `xdata`: the independent variable data,\n",
    "* `ydata`: the dependent variable data,\n",
    "* `model`: The model,\n",
    "* `cost`: the cost function, and\n",
    "* `optimizer`: the optimization algorithm.\n",
    "\n",
    "In addition, keyword arguments can be specified to the model and optimizer as `model_kwargs` and `optimizer_kwargs`.\n",
    "\n",
    "The functions `model`, `cost`, and `optimizer` takes a specific format. See documentation or tutorial below on how to construct them, or simply use the predefined ones in `kontrol`."
   ]
  },
  {
   "cell_type": "markdown",
   "metadata": {},
   "source": [
    "Here, we will create the data to be fitted, which is a simple polynomial.\n",
    "\n",
    "\\begin{equation}\n",
    "    y = \\sum_{i=0} a_i x^i\n",
    "\\end{equation}"
   ]
  },
  {
   "cell_type": "code",
   "execution_count": 1,
   "metadata": {},
   "outputs": [
    {
     "name": "stdout",
     "output_type": "stream",
     "text": [
      "[ 0.39293837 -0.42772133 -0.54629709  0.10262954  0.43893794]\n"
     ]
    }
   ],
   "source": [
    "# Prepare the data\n",
    "import numpy as np\n",
    "import matplotlib.pyplot as plt\n",
    "\n",
    "\n",
    "xdata = np.linspace(-1, 1, 1024)\n",
    "np.random.seed(123)\n",
    "random_args = np.random.random(5)*2 - 1  # Generate some random args to be fitted.\n",
    "def polynomial(x, args, **kwargs):\n",
    "    \"\"\"\n",
    "    Parameters\n",
    "    ----------\n",
    "    x : array\n",
    "        x axis\n",
    "    args : array\n",
    "        A list of coefficients of the polynomial\n",
    "    \n",
    "    Returns\n",
    "    -------\n",
    "    array\n",
    "        args[0]*x**0 + args[1]*x**1 ... args[len(args)-1]*x**(len(args)-1).\n",
    "    \"\"\"\n",
    "    poly = np.sum([args[i]*x**i for i in range(len(args))], axis=0)\n",
    "    return poly\n",
    "ydata = polynomial(xdata, random_args)\n",
    "print(random_args)"
   ]
  },
  {
   "cell_type": "markdown",
   "metadata": {},
   "source": [
    "We see that the coefficients are\n",
    "\n",
    "\\begin{equation}\n",
    " a_i = \\begin{bmatrix}0.39293837 & -0.42772133 & -0.54629709 &  0.10262954 & 0.43893794\\end{bmatrix}\n",
    "\\end{equation}\n",
    "\n",
    "Now let's see if we can recover it."
   ]
  },
  {
   "cell_type": "code",
   "execution_count": 2,
   "metadata": {},
   "outputs": [
    {
     "name": "stdout",
     "output_type": "stream",
     "text": [
      "[ 0.39293837 -0.42772133 -0.54629709  0.10262954  0.43893794]\n"
     ]
    }
   ],
   "source": [
    "import kontrol.curvefit\n",
    "import scipy.optimize\n",
    "\n",
    "a = kontrol.curvefit.CurveFit()\n",
    "a.xdata = xdata\n",
    "a.ydata = ydata\n",
    "a.model = polynomial\n",
    "\n",
    "error_func = kontrol.curvefit.error_func.mse  ## Mean square error\n",
    "a.cost = kontrol.curvefit.Cost(error_func=error_func)\n",
    "\n",
    "# If we know the boundary of the coefficients,\n",
    "# scipy.optimize.differential_evolution would be a suitable optimizer.\n",
    "a.optimizer = scipy.optimize.differential_evolution\n",
    "a.optimizer_kwargs = {\"bounds\": [(-1, 1)]*5, \"workers\": -1, \"updating\": \"deferred\"}  ## workers=1 will use all available CPU cores.\n",
    "a.fit()\n",
    "de_args = a.optimized_args\n",
    "de_fit = a.yfit\n",
    "print(de_args)"
   ]
  },
  {
   "cell_type": "code",
   "execution_count": 3,
   "metadata": {},
   "outputs": [
    {
     "name": "stdout",
     "output_type": "stream",
     "text": [
      "[ 3.92938371e-01 -4.27721330e-01 -5.46297093e-01  1.02629538e-01\n",
      "  4.38937940e-01 -5.90492751e-14]\n"
     ]
    }
   ],
   "source": [
    "# If we know the inital guess instead,\n",
    "# scipy.optimizer.minimize can be used.\n",
    "# In this case, we choose the Powell algorithm.\n",
    "# We also intentionally fit with 6th-order polynomial instead of 5th-order one.\n",
    "a.optimizer = scipy.optimize.minimize\n",
    "a.optimizer_kwargs = {\"x0\": [0]*6, \"method\": \"Powell\"}  ## Start from [0, 0, 0, 0, 0]\n",
    "a.fit()\n",
    "pw_args = a.optimized_args\n",
    "pw_fit = a.yfit\n",
    "print(pw_args)"
   ]
  },
  {
   "cell_type": "markdown",
   "metadata": {},
   "source": [
    "In both cases we see the parameters are recovered well. Now let's look at some plots."
   ]
  },
  {
   "cell_type": "code",
   "execution_count": 4,
   "metadata": {},
   "outputs": [
    {
     "data": {
      "image/png": "[encoded data removed]",
      "text/plain": [
       "<Figure size 720x360 with 1 Axes>"
      ]
     },
     "metadata": {
      "needs_background": "light"
     },
     "output_type": "display_data"
    }
   ],
   "source": [
    "## Plot\n",
    "plt.figure(figsize=(10, 5))\n",
    "plt.plot(xdata, ydata, \"-\", label=\"Data\", lw=5)\n",
    "plt.plot(xdata, de_fit, \"--\", label=\"Fit with differetial evolution\", lw=3)\n",
    "plt.plot(xdata, pw_fit, \"-.\", label=\"Fit with Powell\")\n",
    "plt.xlabel(\"x\")\n",
    "plt.ylabel(\"y\")\n",
    "plt.legend()\n",
    "plt.grid(which=\"both\")"
   ]
  }
 ],
 "metadata": {
  "kernelspec": {
   "display_name": "Python 3",
   "language": "python",
   "name": "python3"
  },
  "language_info": {
   "codemirror_mode": {
    "name": "ipython",
    "version": 3
   },
   "file_extension": ".py",
   "mimetype": "text/x-python",
   "name": "python",
   "nbconvert_exporter": "python",
   "pygments_lexer": "ipython3",
   "version": "3.8.10"
  }
 },
 "nbformat": 4,
 "nbformat_minor": 4
}
