{
 "cells": [
  {
   "cell_type": "markdown",
   "metadata": {},
   "source": [
    "# Read and Write Matrices using Kontrol's EZCA Wrapper\n",
    "\n",
    "We often want to get a matrix from the EPICS record, manipulate it, and then write it back to the EPICS record.\n",
    "But, this can be difficult since the Easy Channel Access (EZCA) only have functions to read and write one single element at a time.\n",
    "\n",
    "Here, Kontrol provides a EZCA wrapper to allow reading and writing matrices more easily.\n",
    "We will demonstrate using a trivial matrix `\"K1:VIS-SRM_BF_SEISALIGN_{1,2,3}_{1,2,3}\"`.\n",
    "\n",
    "Here's the original matrix and let's access it.\n",
    "\n",
    "![title](figures/srm_bf_seisalign_original.png)\n"
   ]
  },
  {
   "cell_type": "code",
   "execution_count": 1,
   "metadata": {},
   "outputs": [
    {
     "data": {
      "text/plain": [
       "array([[1., 0., 0.],\n",
       "       [0., 1., 0.],\n",
       "       [0., 0., 1.]])"
      ]
     },
     "execution_count": 1,
     "metadata": {},
     "output_type": "execute_result"
    }
   ],
   "source": [
    "import kontrol\n",
    "import numpy as np\n",
    "\n",
    "# Define an Ezca instance\n",
    "srm = kontrol.Ezca(\"VIS-SRM\")  # Argument is the prefix after \"K1:\".\n",
    "\n",
    "# Get matrix. Make sure you're doing this at the k1ctr workstations, or else you will get a Null array.\n",
    "bf_seisalign = srm.get_matrix(\"BF_SEISALIGN\")\n",
    "bf_seisalign"
   ]
  },
  {
   "cell_type": "markdown",
   "metadata": {},
   "source": [
    "Now, let's manipulate it and put it back"
   ]
  },
  {
   "cell_type": "code",
   "execution_count": 2,
   "metadata": {},
   "outputs": [
    {
     "data": {
      "text/plain": [
       "array([[ 1.  ,  0.1 ,  0.01],\n",
       "       [-0.01,  1.  ,  0.1 ],\n",
       "       [ 0.01, -0.1 ,  1.  ]])"
      ]
     },
     "execution_count": 2,
     "metadata": {},
     "output_type": "execute_result"
    }
   ],
   "source": [
    "decouple_matrix = np.array([[1, 0.1, 0.01], [-0.01, 1, 0.1], [0.01, -0.1, 1]])\n",
    "new_bf_seisalign = bf_seisalign @ decouple_matrix  # here, @ is the matrix multiplication operator, just in case you don't know.\n",
    "new_bf_seisalign"
   ]
  },
  {
   "cell_type": "markdown",
   "metadata": {},
   "source": [
    "Now put it back"
   ]
  },
  {
   "cell_type": "code",
   "execution_count": 3,
   "metadata": {},
   "outputs": [
    {
     "name": "stderr",
     "output_type": "stream",
     "text": [
      "K1:VIS-SRM_BF_SEISALIGN_1_2 => 0.1\n",
      "K1:VIS-SRM_BF_SEISALIGN_1_3 => 0.01\n",
      "K1:VIS-SRM_BF_SEISALIGN_2_1 => -0.01\n",
      "K1:VIS-SRM_BF_SEISALIGN_2_3 => 0.1\n",
      "K1:VIS-SRM_BF_SEISALIGN_3_1 => 0.01\n",
      "K1:VIS-SRM_BF_SEISALIGN_3_2 => -0.1\n"
     ]
    }
   ],
   "source": [
    "srm.put_matrix(new_bf_seisalign, \"BF_SEISALIGN\")"
   ]
  }
 ],
 "metadata": {
  "kernelspec": {
   "display_name": "Python 3",
   "language": "python",
   "name": "python3"
  },
  "language_info": {
   "codemirror_mode": {
    "name": "ipython",
    "version": 3
   },
   "file_extension": ".py",
   "mimetype": "text/x-python",
   "name": "python",
   "nbconvert_exporter": "python",
   "pygments_lexer": "ipython3",
   "version": "3.9.5"
  }
 },
 "nbformat": 4,
 "nbformat_minor": 4
}
