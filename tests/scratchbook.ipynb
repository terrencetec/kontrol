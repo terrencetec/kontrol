{
 "cells": [
  {
   "cell_type": "code",
   "execution_count": 1,
   "metadata": {
    "scrolled": false
   },
   "outputs": [
    {
     "name": "stdout",
     "output_type": "stream",
     "text": [
      "5\n",
      "4\n",
      "4\n",
      "4\n",
      "5\n",
      "5\n",
      "5\n",
      "4\n",
      "4\n",
      "4\n",
      "4\n",
      "1\n",
      "4\n",
      "4\n",
      "4\n",
      "3\n",
      "4\n",
      "4\n",
      "4\n",
      "4\n",
      "3\n",
      "3\n",
      "4\n",
      "4\n",
      "4\n",
      "1\n"
     ]
    }
   ],
   "source": [
    "import kontrol.core\n",
    "import control\n",
    "\n",
    "tf = control.ss2tf(control.rss(50))\n",
    "tf_list = kontrol.core.controlutils.tf_order_split(tf, max_order=5)"
   ]
  },
  {
   "cell_type": "code",
   "execution_count": 7,
   "metadata": {},
   "outputs": [
    {
     "data": {
      "text/plain": [
       "14"
      ]
     },
     "execution_count": 7,
     "metadata": {},
     "output_type": "execute_result"
    }
   ],
   "source": [
    "len(tf_list)"
   ]
  },
  {
   "cell_type": "code",
   "execution_count": 8,
   "metadata": {},
   "outputs": [],
   "source": [
    "import numpy as np\n",
    "tf_split = np.prod(tf_list)"
   ]
  },
  {
   "cell_type": "code",
   "execution_count": 9,
   "metadata": {},
   "outputs": [
    {
     "data": {
      "text/plain": [
       "array([-0.36349965+13.91205715j, -0.36349965-13.91205715j,\n",
       "       -0.80475269+13.3171312j , -0.80475269-13.3171312j ,\n",
       "       -1.33191646+10.86150088j, -1.33191646-10.86150088j,\n",
       "       -1.15741043+10.25911817j, -1.15741043-10.25911817j,\n",
       "       -6.82908169 +6.96868107j, -6.82908169 -6.96868107j,\n",
       "       -1.35426567 +7.67292725j, -1.35426567 -7.67292725j,\n",
       "       -1.03909673 +6.71943951j, -1.03909673 -6.71943951j,\n",
       "       -5.61362338 +0.j        , -5.21580943 +1.31920912j,\n",
       "       -5.21580943 -1.31920912j, -0.53771811 +4.51099357j,\n",
       "       -0.53771811 -4.51099357j, -0.39640972 +3.85454523j,\n",
       "       -0.39640972 -3.85454523j, -4.02081677 +0.j        ,\n",
       "       -2.65911855 +0.j        , -1.59652286 +1.51125152j,\n",
       "       -1.59652286 -1.51125152j, -1.64090878 +1.47206147j,\n",
       "       -1.64090878 -1.47206147j, -0.48482394 +1.68318136j,\n",
       "       -0.48482394 -1.68318136j, -0.74274579 +1.40186156j,\n",
       "       -0.74274579 -1.40186156j, -1.6977413  +0.j        ,\n",
       "       -1.58829366 +0.06155485j, -1.58829366 -0.06155485j,\n",
       "       -1.3667915  +0.04373482j, -1.3667915  -0.04373482j,\n",
       "       -1.24115295 +0.j        , -0.4673471  +0.62205648j,\n",
       "       -0.4673471  -0.62205648j, -0.78005179 +0.j        ,\n",
       "       -0.1777339  +0.45832183j, -0.1777339  -0.45832183j,\n",
       "       -0.58495473 +0.j        , -0.43979524 +0.j        ,\n",
       "       -0.38048824 +0.j        , -0.35224699 +0.j        ,\n",
       "       -0.2751077  +0.j        , -0.23368085 +0.j        ,\n",
       "       -0.1867346  +0.j        , -0.15289526 +0.j        ])"
      ]
     },
     "execution_count": 9,
     "metadata": {},
     "output_type": "execute_result"
    }
   ],
   "source": [
    "tf_split.pole()"
   ]
  },
  {
   "cell_type": "code",
   "execution_count": 5,
   "metadata": {
    "scrolled": false
   },
   "outputs": [
    {
     "data": {
      "text/plain": [
       "array([-0.36349965+13.91205715j, -0.36349965-13.91205715j,\n",
       "       -0.80475269+13.3171312j , -0.80475269-13.3171312j ,\n",
       "       -1.33191646+10.86150088j, -1.33191646-10.86150088j,\n",
       "       -1.15741043+10.25911817j, -1.15741043-10.25911817j,\n",
       "       -6.82908169 +6.96868107j, -6.82908169 -6.96868107j,\n",
       "       -1.35426567 +7.67292725j, -1.35426567 -7.67292725j,\n",
       "       -1.03909673 +6.71943951j, -1.03909673 -6.71943951j,\n",
       "       -5.61362346 +0.j        , -5.21580948 +1.31920909j,\n",
       "       -5.21580948 -1.31920909j, -0.53771811 +4.51099357j,\n",
       "       -0.53771811 -4.51099357j, -0.39640972 +3.85454523j,\n",
       "       -0.39640972 -3.85454523j, -4.0208148  +0.j        ,\n",
       "       -2.6591433  +0.j        , -1.59652382 +1.51125465j,\n",
       "       -1.59652382 -1.51125465j, -1.64090803 +1.47205717j,\n",
       "       -1.64090803 -1.47205717j, -0.48482393 +1.68318136j,\n",
       "       -0.48482393 -1.68318136j, -0.74274581 +1.40186156j,\n",
       "       -0.74274581 -1.40186156j, -1.6936361  +0.j        ,\n",
       "       -1.58935766 +0.05549824j, -1.58935766 -0.05549824j,\n",
       "       -1.36770322 +0.04193801j, -1.36770322 -0.04193801j,\n",
       "       -1.24128208 +0.j        , -0.4673471  +0.62205648j,\n",
       "       -0.4673471  -0.62205648j, -0.1777339  +0.45832183j,\n",
       "       -0.1777339  -0.45832183j, -0.78005326 +0.j        ,\n",
       "       -0.58495446 +0.j        , -0.43979516 +0.j        ,\n",
       "       -0.38048838 +0.j        , -0.35224693 +0.j        ,\n",
       "       -0.27510769 +0.j        , -0.23368085 +0.j        ,\n",
       "       -0.1867346  +0.j        , -0.15289526 +0.j        ])"
      ]
     },
     "execution_count": 5,
     "metadata": {},
     "output_type": "execute_result"
    }
   ],
   "source": [
    "tf.pole()"
   ]
  },
  {
   "cell_type": "code",
   "execution_count": 6,
   "metadata": {},
   "outputs": [
    {
     "ename": "NameError",
     "evalue": "name 'f' is not defined",
     "output_type": "error",
     "traceback": [
      "\u001b[0;31m--------------------------------------------------\u001b[0m",
      "\u001b[0;31mNameError\u001b[0m        Traceback (most recent call last)",
      "\u001b[0;32m<ipython-input-6-b214e62e12f6>\u001b[0m in \u001b[0;36m<module>\u001b[0;34m\u001b[0m\n\u001b[0;32m----> 1\u001b[0;31m \u001b[0mnp\u001b[0m\u001b[0;34m.\u001b[0m\u001b[0mallclose\u001b[0m\u001b[0;34m(\u001b[0m\u001b[0mnp\u001b[0m\u001b[0;34m.\u001b[0m\u001b[0mlog\u001b[0m\u001b[0;34m(\u001b[0m\u001b[0mtf\u001b[0m\u001b[0;34m(\u001b[0m\u001b[0;36m1j\u001b[0m\u001b[0;34m*\u001b[0m\u001b[0;36m2\u001b[0m\u001b[0;34m*\u001b[0m\u001b[0mnp\u001b[0m\u001b[0;34m.\u001b[0m\u001b[0mpi\u001b[0m\u001b[0;34m*\u001b[0m\u001b[0mf\u001b[0m\u001b[0;34m)\u001b[0m\u001b[0;34m)\u001b[0m\u001b[0;34m,\u001b[0m \u001b[0mnp\u001b[0m\u001b[0;34m.\u001b[0m\u001b[0mlog\u001b[0m\u001b[0;34m(\u001b[0m\u001b[0mtf_split\u001b[0m\u001b[0;34m(\u001b[0m\u001b[0;36m1j\u001b[0m\u001b[0;34m*\u001b[0m\u001b[0;36m2\u001b[0m\u001b[0;34m*\u001b[0m\u001b[0mnp\u001b[0m\u001b[0;34m.\u001b[0m\u001b[0mpi\u001b[0m\u001b[0;34m*\u001b[0m\u001b[0mf\u001b[0m\u001b[0;34m)\u001b[0m\u001b[0;34m)\u001b[0m\u001b[0;34m)\u001b[0m\u001b[0;34m\u001b[0m\u001b[0;34m\u001b[0m\u001b[0m\n\u001b[0m",
      "\u001b[0;31mNameError\u001b[0m: name 'f' is not defined"
     ]
    }
   ],
   "source": [
    "np.allclose(np.log(tf(1j*2*np.pi*f)), np.log(tf_split(1j*2*np.pi*f)))"
   ]
  },
  {
   "cell_type": "code",
   "execution_count": null,
   "metadata": {
    "scrolled": true
   },
   "outputs": [],
   "source": [
    "import matplotlib.pyplot as plt\n",
    "f = np.logspace(-3, 3, 100000)\n",
    "\n",
    "plt.loglog(f, abs(tf(1j*2*np.pi*f)))\n",
    "plt.loglog(f, abs(tf_split(1j*2*np.pi*f)))"
   ]
  },
  {
   "cell_type": "code",
   "execution_count": null,
   "metadata": {},
   "outputs": [],
   "source": [
    "tf.dcgain()"
   ]
  },
  {
   "cell_type": "code",
   "execution_count": null,
   "metadata": {},
   "outputs": [],
   "source": [
    "plt.semilogx(f, np.angle(tf(1j*2*np.pi*f)))\n",
    "plt.semilogx(f, np.angle(tf_split(1j*2*np.pi*f)))"
   ]
  },
  {
   "cell_type": "code",
   "execution_count": null,
   "metadata": {
    "scrolled": false
   },
   "outputs": [],
   "source": [
    "import kontrol\n",
    "import control\n",
    "import numpy as np\n",
    "import matplotlib.pyplot as plt\n",
    "import kontrol.frequency_series.noise_models\n",
    "\n",
    "# lvdt_noise = kontrol.core.frequency_series.noise_models()\n",
    "# lpf = control.tf([1], [1, 1])\n",
    "# hpf = 1 - lpf\n",
    "omega = np.logspace(-2,2,1000)\n",
    "f = omega/2/np.pi\n",
    "# lvdt_noise = kontrol.core.frequency_series.noise_models.lvdt_noise(f=f)\n",
    "# geophone_noise = kontrol.core.frequency_series.noise_models.geophone_noise(f=f)\n",
    "tf_noise1 = control.tf([1/10, 1], [1/0.1, 1]) *10\n",
    "tf_noise2 = control.tf([1/0.1, 1], [1/10, 1]) \n",
    "\n",
    "comp = kontrol.ComplementaryFilter(noise1=tf_noise1, noise2=tf_noise2)\n",
    "comp.hinfsynthesis()\n",
    "comp.f = f\n",
    "\n",
    "plt.loglog(omega, comp.noise1)\n",
    "plt.loglog(omega, comp.noise2)\n",
    "plt.loglog(omega, comp.noise_super)\n",
    "\n",
    "# comp = cm.ComplementaryFilter(noise1=lvdt_noise, noise2=geophone_noise, f=f, unit=\"omega\")\n",
    "\n",
    "# plt.loglog(omega, lvdt_noise)\n",
    "# plt.loglog(omega, geophone_noise)\n",
    "# plt.loglog(omega, abs(lpf(1j*omega)))\n",
    "# plt.loglog(omega, abs(hpf(1j*omega)))"
   ]
  },
  {
   "cell_type": "code",
   "execution_count": null,
   "metadata": {},
   "outputs": [],
   "source": [
    "comp.noise_super[400:600]"
   ]
  },
  {
   "cell_type": "code",
   "execution_count": null,
   "metadata": {
    "scrolled": true
   },
   "outputs": [],
   "source": [
    "new_omega = np.logspace(-3, 7, 1000000)\n",
    "# plt.loglog(comp.omega, abs(comp.filter1(1j*comp.omega)))\n",
    "plt.loglog(new_omega, abs(comp.filter2(1j*new_omega)))\n",
    "# plt.loglog(omega, abs(tf_travis(1j*omega)))\n",
    "plt.loglog(new_omega, abs((1-tf_travis)(1j*new_omega)))\n",
    "# tf_travis.pole()"
   ]
  },
  {
   "cell_type": "code",
   "execution_count": null,
   "metadata": {},
   "outputs": [],
   "source": [
    "tf_correct = control.tf([1, 2.08392466e+04, 1.58200377e+04, 2.53883414e+03, 1.16522184e+02], [1, 2.08679038e+04, 1.64005175e+04, 5.55127674e+03, 8.50146586e+02])\n",
    "import kontrol.core.controlutils\n",
    "\n",
    "kontrol.core.controlutils.check_tf_equal(tf_correct, comp[0, 0], allclose_kwargs={\"rtol\":1e-4})"
   ]
  },
  {
   "cell_type": "code",
   "execution_count": null,
   "metadata": {},
   "outputs": [],
   "source": [
    "tf_travis=control.tf([1.00000000e+00, 6.96103440e+03, 5.28422768e+03, 8.48018504e+02,3.89205080e+01], [1.00000000e+00, 6.97060626e+03, 5.47811529e+03, 1.85421249e+03,2.83960156e+02])"
   ]
  },
  {
   "cell_type": "code",
   "execution_count": null,
   "metadata": {},
   "outputs": [],
   "source": [
    "?kontrol.core.controlutils.check_tf_equal"
   ]
  },
  {
   "cell_type": "code",
   "execution_count": null,
   "metadata": {},
   "outputs": [],
   "source": [
    "tf_correct.dcgain()"
   ]
  },
  {
   "cell_type": "code",
   "execution_count": null,
   "metadata": {},
   "outputs": [],
   "source": [
    "tf_travis.pole()"
   ]
  },
  {
   "cell_type": "code",
   "execution_count": null,
   "metadata": {},
   "outputs": [],
   "source": [
    "comp[0, 0].pole()"
   ]
  },
  {
   "cell_type": "code",
   "execution_count": null,
   "metadata": {},
   "outputs": [],
   "source": [
    "import kontrol.core.complementary_filter.synthesis\n",
    "\n",
    "h1, h2 = kontrol.core.complementary_filter.synthesis.hinfcomplementary(tf_noise1, tf_noise2)\n",
    "\n",
    "plt.loglog(omega, abs(h1(1j*omega)))\n",
    "plt.loglog(omega, abs(h2(1j*omega)))"
   ]
  },
  {
   "cell_type": "code",
   "execution_count": null,
   "metadata": {},
   "outputs": [],
   "source": [
    "comp.noise1"
   ]
  },
  {
   "cell_type": "code",
   "execution_count": null,
   "metadata": {},
   "outputs": [],
   "source": [
    "comp.tf_noise1"
   ]
  },
  {
   "cell_type": "code",
   "execution_count": null,
   "metadata": {},
   "outputs": [],
   "source": [
    "comp.noise1"
   ]
  },
  {
   "cell_type": "code",
   "execution_count": null,
   "metadata": {},
   "outputs": [],
   "source": [
    "comp[0, 0]"
   ]
  },
  {
   "cell_type": "code",
   "execution_count": null,
   "metadata": {},
   "outputs": [],
   "source": [
    "tf_noise1 = control.tf([1/10, 1], [1/0.1, 1]) *10\n",
    "tf_noise2 = control.tf([1/0.1, 1], [1/10, 1]) \n",
    "\n",
    "comp = cm.ComplementaryFilter(noise1=tf_noise1, noise2=tf_noise2)\n",
    "comp.h2synthesis()\n",
    "\n",
    "\n",
    "plt.loglog(omega, abs(tf_noise1(omega*1j)))\n",
    "plt.loglog(omega, abs(tf_noise2(omega*1j)))"
   ]
  },
  {
   "cell_type": "code",
   "execution_count": null,
   "metadata": {},
   "outputs": [],
   "source": [
    "plt.loglog(omega, lvdt_noise)\n",
    "plt.loglog(omega, geophone_noise)\n",
    "plt.loglog(omega, comp.noise_super)\n",
    "# plt.loglog(omega, abs(lpf(1j*omega)))\n",
    "# plt.loglog(omega, abs(hpf(1j*omega)))"
   ]
  },
  {
   "cell_type": "code",
   "execution_count": null,
   "metadata": {},
   "outputs": [],
   "source": [
    "comp.noise_super"
   ]
  },
  {
   "cell_type": "code",
   "execution_count": null,
   "metadata": {},
   "outputs": [],
   "source": [
    "?kontrol.core.frequency_series.noise_models.lvdt_noise"
   ]
  },
  {
   "cell_type": "code",
   "execution_count": null,
   "metadata": {},
   "outputs": [],
   "source": [
    "import control\n",
    "import kontrol\n",
    "\n",
    "tf = control.tf([1], [2, 3])\n",
    "kontrol_tf = kontrol.TransferFunction(tf)\n",
    "n_correct = \"zpk([],[0.238732414637843],0.3333333333333333,\\\"n\\\")\"\n",
    "kontrol_tf_foton_n = kontrol_tf.foton()\n",
    "# kontrol_tf.foton = \"f\"\n",
    "f_correct = \"zpk([],[-0.238732414637843],-0.5,\\\"f\\\")\"\n",
    "kontrol_tf_foton_f = kontrol_tf.foton()\n",
    "# kontrol_tf.foton = \"s\"\n",
    "s_correct = \"zpk([],[-1.5],-0.5,\\\"s\\\")\"\n",
    "kontrol_tf_foton_s = kontrol_tf.foton()\n"
   ]
  },
  {
   "cell_type": "code",
   "execution_count": null,
   "metadata": {},
   "outputs": [],
   "source": [
    "kontrol_tf.foton(expression=\"zpk\", root_location=\"f\")"
   ]
  },
  {
   "cell_type": "code",
   "execution_count": null,
   "metadata": {},
   "outputs": [],
   "source": [
    "kontrol_tf.pole().real > 0"
   ]
  },
  {
   "cell_type": "code",
   "execution_count": null,
   "metadata": {},
   "outputs": [],
   "source": [
    "s = control.tf(\"s\")\n",
    "tf_unstable = (s-2) / (s-1) / (s**2-s+1)"
   ]
  },
  {
   "cell_type": "code",
   "execution_count": null,
   "metadata": {},
   "outputs": [],
   "source": [
    "kontrol_tf = kontrol.TransferFunction(tf_unstable)\n",
    "kontrol_tf.stabilize()\n",
    "kontrol_tf.zero().imag"
   ]
  },
  {
   "cell_type": "code",
   "execution_count": null,
   "metadata": {},
   "outputs": [],
   "source": [
    "tf_unstable.zero()"
   ]
  },
  {
   "cell_type": "code",
   "execution_count": null,
   "metadata": {},
   "outputs": [],
   "source": [
    "import numpy as np\n",
    "a = [1,2,3,4,5,6,7,8,9,10]\n",
    "step = 7\n",
    "for i in range(0,10,step):\n",
    "    print(a[i:i+step])"
   ]
  },
  {
   "cell_type": "code",
   "execution_count": null,
   "metadata": {},
   "outputs": [],
   "source": [
    "?range"
   ]
  },
  {
   "cell_type": "code",
   "execution_count": null,
   "metadata": {},
   "outputs": [],
   "source": [
    "tf = 1/(s**2 + 10/3.14*s + 10**2)\n",
    "tf.pole()"
   ]
  },
  {
   "cell_type": "code",
   "execution_count": null,
   "metadata": {},
   "outputs": [],
   "source": [
    "wn = abs(tf.pole()[0])\n",
    "q = wn/(-2*tf.pole()[0].real)\n",
    "q"
   ]
  }
 ],
 "metadata": {
  "kernelspec": {
   "display_name": "Python 3",
   "language": "python",
   "name": "python3"
  },
  "language_info": {
   "codemirror_mode": {
    "name": "ipython",
    "version": 3
   },
   "file_extension": ".py",
   "mimetype": "text/x-python",
   "name": "python",
   "nbconvert_exporter": "python",
   "pygments_lexer": "ipython3",
   "version": "3.8.10"
  }
 },
 "nbformat": 4,
 "nbformat_minor": 4
}
