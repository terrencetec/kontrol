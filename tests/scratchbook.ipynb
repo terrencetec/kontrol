{
 "cells": [
  {
   "cell_type": "code",
   "execution_count": 1,
   "metadata": {
    "scrolled": false
   },
   "outputs": [
    {
     "name": "stderr",
     "output_type": "stream",
     "text": [
      "17:14 Kontrol WARNING : The transfer function has order higher than 20. This is not supported by KAGRA's Foton software. The Foton expression is splitted into multiple expressions with less order.\n"
     ]
    },
    {
     "name": "stdout",
     "output_type": "stream",
     "text": [
      "zpk([-2.9741935865575084+i*-3.698556049631673;-2.9741935865575084+i*3.698556049631673;-5.12073516105306;-0.8415488445325774+i*-5.602741864196646;-0.8415488445325774+i*5.602741864196646;-0.8737406378762526+i*-5.76308296562682;-0.8737406378762526+i*5.76308296562682;-6.273612723879278;-1.5347249190881913+i*6.923396545152964;-1.5347249190881913+i*-6.923396545152964;-7.197315567122069;-6.897106300246676+i*2.9659333226587363;-6.897106300246676+i*-2.9659333226587363;-6.801108871808288+i*7.832873350710911;-6.801108871808288+i*-7.832873350710911;1.3588235020917658+i*-15.787876768493762;1.3588235020917658+i*15.787876768493762;-7.922163740625917+i*-19.55168097180382;-7.922163740625917+i*19.55168097180382;4650.501198863242],[-0.8399807148986889+i*-5.600510739618548;-0.8399807148986889+i*5.600510739618548;-0.8431078739043857+i*-5.604972718583003;-0.8431078739043857+i*5.604972718583003;-5.788110559915696;-0.3709751531070667+i*5.829629129900139;-0.3709751531070667+i*-5.829629129900139;-7.04173333596891+i*-0.6391584029069397;-7.04173333596891+i*0.6391584029069397;-1.6283017925214116+i*-7.045981873411708;-1.6283017925214116+i*7.045981873411708;-6.6817155826269845+i*2.8332462926358613;-6.6817155826269845+i*-2.8332462926358613;-7.3657765388769985+i*-7.9447113074251705;-7.3657765388769985+i*7.9447113074251705;-1.706762960149859+i*-17.00539227819095;-1.706762960149859+i*17.00539227819095;-0.9148284653240948+i*-26.01569780202723;-0.9148284653240948+i*26.01569780202723],1.9546061242875652,\"s\")\n",
      "\n",
      "zpk([-0.8039677053482307+i*-1.2932719919250646;-0.8039677053482307+i*1.2932719919250646;-0.7672061495166881+i*-1.5436171365791371;-0.7672061495166881+i*1.5436171365791371;-0.42039538740548127+i*-2.179222046756567;-0.42039538740548127+i*2.179222046756567;-1.8233466091696942+i*1.8625449593756536;-1.8233466091696942+i*-1.8625449593756536;-0.2525558341903308+i*-2.609917629530878;-0.2525558341903308+i*2.609917629530878;-0.8593334837607162+i*2.635840595679111;-0.8593334837607162+i*-2.635840595679111;-2.482540096222914+i*2.0111958533019787;-2.482540096222914+i*-2.0111958533019787;-3.518101228179711;-0.7570506575138395+i*-4.449026522522949;-0.7570506575138395+i*4.449026522522949;-0.05843988358641926+i*-4.648278641758924;-0.05843988358641926+i*4.648278641758924],[-0.7753496635768908+i*-1.3549752253724046;-0.7753496635768908+i*1.3549752253724046;-0.5858165846181599+i*-1.521688094568614;-0.5858165846181599+i*1.521688094568614;-0.47548613244578125+i*-2.297777132513951;-0.47548613244578125+i*2.297777132513951;-1.6699829087685638+i*-1.8580829973692934;-1.6699829087685638+i*1.8580829973692934;-0.42239271284698876+i*-2.7260828382872377;-0.42239271284698876+i*2.7260828382872377;-1.1088476677530015+i*-2.9204157572308866;-1.1088476677530015+i*2.9204157572308866;-2.346398585617325+i*-2.2257537205443816;-2.346398585617325+i*2.2257537205443816;-3.618988666693326;-0.21573488340361854+i*-4.13648967772391;-0.21573488340361854+i*4.13648967772391;-4.29126942996874;-1.050772126637527+i*-4.966908734187457;-1.050772126637527+i*4.966908734187457],1.0000000000000004,\"s\")\n",
      "\n",
      "zpk([-0.16606446864418822;-0.3865562825932294;-0.47615562816543155;-0.5662266181927427;-0.8787295208796411;-0.2897998788417213+i*0.9321120372393181;-0.2897998788417213+i*-0.9321120372393181;-1.4312136949119625+i*0.0020354968267926694;-1.4312136949119625+i*-0.0020354968267926694;-1.497326771980322],[-0.38564794273437303;-0.391837360339638;-0.47238450553102895;-0.5557569075001877;-0.806289621103121;-1.219865858874796;-0.7737546774258183+i*1.193763991353777;-0.7737546774258183+i*-1.193763991353777;-1.426593217750595+i*0.018114255778427128;-1.426593217750595+i*-0.018114255778427128;-1.4907824715467883],1.0000000000000002,\"s\")\n"
     ]
    }
   ],
   "source": [
    "import kontrol.core\n",
    "import control\n",
    "\n",
    "tf = control.ss2tf(control.rss(50))\n",
    "kontrol_tf = kontrol.TransferFunction(tf)\n",
    "# kontrol_tf.foton()\n",
    "print(kontrol_tf.foton())\n",
    "# tf_list = kontrol.core.controlutils.tf_order_split(tf, max_order=5)"
   ]
  },
  {
   "cell_type": "code",
   "execution_count": 2,
   "metadata": {},
   "outputs": [
    {
     "data": {
      "text/plain": [
       "'zpk([-1.5],[0.0;0.0;-0.23873241463784298;-0.5000000000000003;-0.07957747154594727+i*0.7917858446492733;-0.07957747154594727+i*-0.7917858446492733],3.141592653589793,\"f\")'"
      ]
     },
     "execution_count": 2,
     "metadata": {},
     "output_type": "execute_result"
    }
   ],
   "source": [
    "import numpy as np\n",
    "import control\n",
    "import kontrol\n",
    "s = control.tf(\"s\")\n",
    "tf_test = np.pi*(s+3*np.pi)/(s+np.pi)/(s**2+s+5**2)/(s+1.5)/s**2\n",
    "zpk_str_n = ('zpk([-0.0;1.5],[0.23873239741798644;0.23873243185770118;'\n",
    "             '0.4999999999999977;0.07957747154594766+i*0.7917858446492736;'\n",
    "             '0.07957747154594766+i*-0.7917858446492736],'\n",
    "             '1.0527578027828701,'\n",
    "             '\"n\")')\n",
    "rpoly_str = ('rpoly([1.0;9.42477796076938;0.0],[1.0;7.141592653589788;'\n",
    "             '42.816370614359144;172.283177771091;298.93803248981106;'\n",
    "             '176.7145867644253],3.141592653589793)')\n",
    "\n",
    "tf_test.minreal().num[0][0][0]*2*np.pi*3*np.pi/np.pi/5**2/1.5/1.5\n",
    "\n",
    "## test raises\n",
    "# try:\n",
    "kontrol.core.foton.tf2foton(tf_test, expression=\"zpk\", root_location=\"f\")\n",
    "#     raise\n",
    "# except ValueError:\n",
    "#     pass\n",
    "# zpk_str_n_test = kontrol.core.foton.tf2foton(\n",
    "#     tf_test, expression=\"zpk\", root_location=\"n\")"
   ]
  },
  {
   "cell_type": "code",
   "execution_count": 3,
   "metadata": {},
   "outputs": [
    {
     "data": {
      "text/plain": [
       "[<matplotlib.lines.Line2D at 0x7fda9e3608e0>]"
      ]
     },
     "execution_count": 3,
     "metadata": {},
     "output_type": "execute_result"
    },
    {
     "data": {
      "image/png": "[encoded data removed]",
      "text/plain": [
       "<Figure size 432x288 with 1 Axes>"
      ]
     },
     "metadata": {
      "needs_background": "light"
     },
     "output_type": "display_data"
    }
   ],
   "source": [
    "import matplotlib.pyplot as plt\n",
    "f = np.logspace(-3, 3, 1001)\n",
    "\n",
    "plt.loglog(f, abs(tf_test(1j*2*np.pi*f)))\n"
   ]
  },
  {
   "cell_type": "code",
   "execution_count": 4,
   "metadata": {},
   "outputs": [
    {
     "data": {
      "text/plain": [
       "0.009714817099869657"
      ]
     },
     "execution_count": 4,
     "metadata": {},
     "output_type": "execute_result"
    }
   ],
   "source": [
    "abs(tf_test(1j*2*np.pi*0.748169))"
   ]
  },
  {
   "cell_type": "code",
   "execution_count": 5,
   "metadata": {},
   "outputs": [
    {
     "data": {
      "text/plain": [
       "[<matplotlib.lines.Line2D at 0x7fda9e0fdf40>]"
      ]
     },
     "execution_count": 5,
     "metadata": {},
     "output_type": "execute_result"
    },
    {
     "data": {
      "image/png": "[encoded data removed]",
      "text/plain": [
       "<Figure size 432x288 with 1 Axes>"
      ]
     },
     "metadata": {
      "needs_background": "light"
     },
     "output_type": "display_data"
    }
   ],
   "source": [
    "plt.semilogx(f, 180/np.pi*control.unwrap(np.angle(tf_test(1j*2*np.pi*f))))"
   ]
  },
  {
   "cell_type": "code",
   "execution_count": 6,
   "metadata": {},
   "outputs": [
    {
     "data": {
      "text/plain": [
       "1.0532917768254746"
      ]
     },
     "execution_count": 6,
     "metadata": {},
     "output_type": "execute_result"
    }
   ],
   "source": [
    "6.614672358463981/3.14/2"
   ]
  },
  {
   "cell_type": "code",
   "execution_count": 7,
   "metadata": {},
   "outputs": [
    {
     "ename": "NameError",
     "evalue": "name 'tf_list' is not defined",
     "output_type": "error",
     "traceback": [
      "\u001b[0;31m--------------------------------------------------\u001b[0m",
      "\u001b[0;31mNameError\u001b[0m        Traceback (most recent call last)",
      "\u001b[0;32m<ipython-input-7-2ca535022400>\u001b[0m in \u001b[0;36m<module>\u001b[0;34m\u001b[0m\n\u001b[0;32m----> 1\u001b[0;31m \u001b[0mlen\u001b[0m\u001b[0;34m(\u001b[0m\u001b[0mtf_list\u001b[0m\u001b[0;34m)\u001b[0m\u001b[0;34m\u001b[0m\u001b[0;34m\u001b[0m\u001b[0m\n\u001b[0m",
      "\u001b[0;31mNameError\u001b[0m: name 'tf_list' is not defined"
     ]
    }
   ],
   "source": [
    "len(tf_list)"
   ]
  },
  {
   "cell_type": "code",
   "execution_count": null,
   "metadata": {},
   "outputs": [],
   "source": [
    "import numpy as np\n",
    "tf_split = np.prod(tf_list)"
   ]
  },
  {
   "cell_type": "code",
   "execution_count": null,
   "metadata": {},
   "outputs": [],
   "source": [
    "tf_split.pole()"
   ]
  },
  {
   "cell_type": "code",
   "execution_count": null,
   "metadata": {
    "scrolled": false
   },
   "outputs": [],
   "source": [
    "tf.pole()"
   ]
  },
  {
   "cell_type": "code",
   "execution_count": null,
   "metadata": {},
   "outputs": [],
   "source": [
    "np.allclose(np.log(tf(1j*2*np.pi*f)), np.log(tf_split(1j*2*np.pi*f)))"
   ]
  },
  {
   "cell_type": "code",
   "execution_count": null,
   "metadata": {
    "scrolled": true
   },
   "outputs": [],
   "source": [
    "import matplotlib.pyplot as plt\n",
    "import numpy as np\n",
    "f = np.logspace(-3, 3, 100000)\n",
    "\n",
    "plt.loglog(f, abs(tf(1j*2*np.pi*f)))\n",
    "plt.loglog(f, abs(tf_split(1j*2*np.pi*f)))"
   ]
  },
  {
   "cell_type": "code",
   "execution_count": null,
   "metadata": {},
   "outputs": [],
   "source": [
    "tf.dcgain()"
   ]
  },
  {
   "cell_type": "code",
   "execution_count": null,
   "metadata": {},
   "outputs": [],
   "source": [
    "plt.semilogx(f, np.angle(tf(1j*2*np.pi*f)))\n",
    "plt.semilogx(f, np.angle(tf_split(1j*2*np.pi*f)))"
   ]
  },
  {
   "cell_type": "code",
   "execution_count": null,
   "metadata": {
    "scrolled": false
   },
   "outputs": [],
   "source": [
    "import kontrol\n",
    "import control\n",
    "import numpy as np\n",
    "import matplotlib.pyplot as plt\n",
    "import kontrol.frequency_series.noise_models\n",
    "\n",
    "# lvdt_noise = kontrol.core.frequency_series.noise_models()\n",
    "# lpf = control.tf([1], [1, 1])\n",
    "# hpf = 1 - lpf\n",
    "omega = np.logspace(-2,2,1000)\n",
    "f = omega/2/np.pi\n",
    "# lvdt_noise = kontrol.core.frequency_series.noise_models.lvdt_noise(f=f)\n",
    "# geophone_noise = kontrol.core.frequency_series.noise_models.geophone_noise(f=f)\n",
    "tf_noise1 = control.tf([1/10, 1], [1/0.1, 1]) *10\n",
    "tf_noise2 = control.tf([1/0.1, 1], [1/10, 1]) \n",
    "\n",
    "comp = kontrol.ComplementaryFilter(noise1=tf_noise1, noise2=tf_noise2)\n",
    "comp.hinfsynthesis()\n",
    "comp.f = f\n",
    "\n",
    "plt.loglog(omega, comp.noise1)\n",
    "plt.loglog(omega, comp.noise2)\n",
    "plt.loglog(omega, comp.noise_super)\n",
    "\n",
    "# comp = cm.ComplementaryFilter(noise1=lvdt_noise, noise2=geophone_noise, f=f, unit=\"omega\")\n",
    "\n",
    "# plt.loglog(omega, lvdt_noise)\n",
    "# plt.loglog(omega, geophone_noise)\n",
    "# plt.loglog(omega, abs(lpf(1j*omega)))\n",
    "# plt.loglog(omega, abs(hpf(1j*omega)))"
   ]
  },
  {
   "cell_type": "code",
   "execution_count": null,
   "metadata": {},
   "outputs": [],
   "source": [
    "comp.noise_super[400:600]"
   ]
  },
  {
   "cell_type": "code",
   "execution_count": null,
   "metadata": {
    "scrolled": true
   },
   "outputs": [],
   "source": [
    "new_omega = np.logspace(-3, 7, 1000000)\n",
    "# plt.loglog(comp.omega, abs(comp.filter1(1j*comp.omega)))\n",
    "plt.loglog(new_omega, abs(comp.filter2(1j*new_omega)))\n",
    "# plt.loglog(omega, abs(tf_travis(1j*omega)))\n",
    "plt.loglog(new_omega, abs((1-tf_travis)(1j*new_omega)))\n",
    "# tf_travis.pole()"
   ]
  },
  {
   "cell_type": "code",
   "execution_count": null,
   "metadata": {},
   "outputs": [],
   "source": [
    "tf_correct = control.tf([1, 2.08392466e+04, 1.58200377e+04, 2.53883414e+03, 1.16522184e+02], [1, 2.08679038e+04, 1.64005175e+04, 5.55127674e+03, 8.50146586e+02])\n",
    "import kontrol.core.controlutils\n",
    "\n",
    "kontrol.core.controlutils.check_tf_equal(tf_correct, comp[0, 0], allclose_kwargs={\"rtol\":1e-4})"
   ]
  },
  {
   "cell_type": "code",
   "execution_count": null,
   "metadata": {},
   "outputs": [],
   "source": [
    "tf_travis=control.tf([1.00000000e+00, 6.96103440e+03, 5.28422768e+03, 8.48018504e+02,3.89205080e+01], [1.00000000e+00, 6.97060626e+03, 5.47811529e+03, 1.85421249e+03,2.83960156e+02])"
   ]
  },
  {
   "cell_type": "code",
   "execution_count": null,
   "metadata": {},
   "outputs": [],
   "source": [
    "?kontrol.core.controlutils.check_tf_equal"
   ]
  },
  {
   "cell_type": "code",
   "execution_count": null,
   "metadata": {},
   "outputs": [],
   "source": [
    "tf_correct.dcgain()"
   ]
  },
  {
   "cell_type": "code",
   "execution_count": null,
   "metadata": {},
   "outputs": [],
   "source": [
    "tf_travis.pole()"
   ]
  },
  {
   "cell_type": "code",
   "execution_count": null,
   "metadata": {},
   "outputs": [],
   "source": [
    "comp[0, 0].pole()"
   ]
  },
  {
   "cell_type": "code",
   "execution_count": null,
   "metadata": {},
   "outputs": [],
   "source": [
    "import kontrol.core.complementary_filter.synthesis\n",
    "\n",
    "h1, h2 = kontrol.core.complementary_filter.synthesis.hinfcomplementary(tf_noise1, tf_noise2)\n",
    "\n",
    "plt.loglog(omega, abs(h1(1j*omega)))\n",
    "plt.loglog(omega, abs(h2(1j*omega)))"
   ]
  },
  {
   "cell_type": "code",
   "execution_count": null,
   "metadata": {},
   "outputs": [],
   "source": [
    "comp.noise1"
   ]
  },
  {
   "cell_type": "code",
   "execution_count": null,
   "metadata": {},
   "outputs": [],
   "source": [
    "comp.tf_noise1"
   ]
  },
  {
   "cell_type": "code",
   "execution_count": null,
   "metadata": {},
   "outputs": [],
   "source": [
    "comp.noise1"
   ]
  },
  {
   "cell_type": "code",
   "execution_count": null,
   "metadata": {},
   "outputs": [],
   "source": [
    "comp[0, 0]"
   ]
  },
  {
   "cell_type": "code",
   "execution_count": null,
   "metadata": {},
   "outputs": [],
   "source": [
    "tf_noise1 = control.tf([1/10, 1], [1/0.1, 1]) *10\n",
    "tf_noise2 = control.tf([1/0.1, 1], [1/10, 1]) \n",
    "\n",
    "comp = cm.ComplementaryFilter(noise1=tf_noise1, noise2=tf_noise2)\n",
    "comp.h2synthesis()\n",
    "\n",
    "\n",
    "plt.loglog(omega, abs(tf_noise1(omega*1j)))\n",
    "plt.loglog(omega, abs(tf_noise2(omega*1j)))"
   ]
  },
  {
   "cell_type": "code",
   "execution_count": null,
   "metadata": {},
   "outputs": [],
   "source": [
    "plt.loglog(omega, lvdt_noise)\n",
    "plt.loglog(omega, geophone_noise)\n",
    "plt.loglog(omega, comp.noise_super)\n",
    "# plt.loglog(omega, abs(lpf(1j*omega)))\n",
    "# plt.loglog(omega, abs(hpf(1j*omega)))"
   ]
  },
  {
   "cell_type": "code",
   "execution_count": null,
   "metadata": {},
   "outputs": [],
   "source": [
    "comp.noise_super"
   ]
  },
  {
   "cell_type": "code",
   "execution_count": null,
   "metadata": {},
   "outputs": [],
   "source": [
    "?kontrol.core.frequency_series.noise_models.lvdt_noise"
   ]
  },
  {
   "cell_type": "code",
   "execution_count": null,
   "metadata": {},
   "outputs": [],
   "source": [
    "import control\n",
    "import kontrol\n",
    "\n",
    "tf = control.tf([1], [2, 3])\n",
    "kontrol_tf = kontrol.TransferFunction(tf)\n",
    "n_correct = \"zpk([],[0.238732414637843],0.3333333333333333,\\\"n\\\")\"\n",
    "kontrol_tf_foton_n = kontrol_tf.foton()\n",
    "# kontrol_tf.foton = \"f\"\n",
    "f_correct = \"zpk([],[-0.238732414637843],-0.5,\\\"f\\\")\"\n",
    "kontrol_tf_foton_f = kontrol_tf.foton()\n",
    "# kontrol_tf.foton = \"s\"\n",
    "s_correct = \"zpk([],[-1.5],-0.5,\\\"s\\\")\"\n",
    "kontrol_tf_foton_s = kontrol_tf.foton()\n"
   ]
  },
  {
   "cell_type": "code",
   "execution_count": null,
   "metadata": {},
   "outputs": [],
   "source": [
    "kontrol_tf.foton(expression=\"zpk\", root_location=\"f\")"
   ]
  },
  {
   "cell_type": "code",
   "execution_count": null,
   "metadata": {},
   "outputs": [],
   "source": [
    "kontrol_tf.pole().real > 0"
   ]
  },
  {
   "cell_type": "code",
   "execution_count": null,
   "metadata": {},
   "outputs": [],
   "source": [
    "s = control.tf(\"s\")\n",
    "tf_unstable = (s-2) / (s-1) / (s**2-s+1)"
   ]
  },
  {
   "cell_type": "code",
   "execution_count": null,
   "metadata": {},
   "outputs": [],
   "source": [
    "kontrol_tf = kontrol.TransferFunction(tf_unstable)\n",
    "kontrol_tf.stabilize()\n",
    "kontrol_tf.zero().imag"
   ]
  },
  {
   "cell_type": "code",
   "execution_count": null,
   "metadata": {},
   "outputs": [],
   "source": [
    "tf_unstable.zero()"
   ]
  },
  {
   "cell_type": "code",
   "execution_count": null,
   "metadata": {},
   "outputs": [],
   "source": [
    "import numpy as np\n",
    "a = [1,2,3,4,5,6,7,8,9,10]\n",
    "step = 7\n",
    "for i in range(0,10,step):\n",
    "    print(a[i:i+step])"
   ]
  },
  {
   "cell_type": "code",
   "execution_count": null,
   "metadata": {},
   "outputs": [],
   "source": [
    "?range"
   ]
  },
  {
   "cell_type": "code",
   "execution_count": null,
   "metadata": {},
   "outputs": [],
   "source": [
    "tf = 1/(s**2 + 10/3.14*s + 10**2)\n",
    "tf.pole()"
   ]
  },
  {
   "cell_type": "code",
   "execution_count": null,
   "metadata": {},
   "outputs": [],
   "source": [
    "wn = abs(tf.pole()[0])\n",
    "q = wn/(-2*tf.pole()[0].real)\n",
    "q"
   ]
  }
 ],
 "metadata": {
  "kernelspec": {
   "display_name": "Python 3",
   "language": "python",
   "name": "python3"
  },
  "language_info": {
   "codemirror_mode": {
    "name": "ipython",
    "version": 3
   },
   "file_extension": ".py",
   "mimetype": "text/x-python",
   "name": "python",
   "nbconvert_exporter": "python",
   "pygments_lexer": "ipython3",
   "version": "3.8.10"
  }
 },
 "nbformat": 4,
 "nbformat_minor": 4
}
