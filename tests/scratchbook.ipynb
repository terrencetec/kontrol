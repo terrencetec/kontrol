{
 "cells": [
  {
   "cell_type": "code",
   "execution_count": 1,
   "metadata": {},
   "outputs": [],
   "source": [
    "import numpy as np\n",
    "import control\n",
    "\n",
    "import kontrol.core.frequency_series.frequency_series\n",
    "import kontrol.core.frequency_series.noise_models\n",
    "import kontrol.controlutils\n",
    "\n"
   ]
  },
  {
   "cell_type": "code",
   "execution_count": 2,
   "metadata": {},
   "outputs": [],
   "source": [
    "f = np.logspace(-2, 3, 1000)\n",
    "s = 1j*2*np.pi*f\n",
    "x_correct = 2 * ((s/0.1+1)\n",
    "            /(s/1+1)\n",
    "            *(s**2+10/100*s+10**2) / 10**2\n",
    "            /(s**2+100/1000*s+100**2) * 100**2\n",
    "            /(s/5+1))\n",
    "zeros = [0.1]\n",
    "poles = [1, 5]\n",
    "zeros_wn = [10]\n",
    "zeros_q = [100]\n",
    "poles_wn = [100]\n",
    "poles_q = [1000]\n",
    "dc_gain = 2\n",
    "unit = \"s\"\n",
    "sos = kontrol.controlutils.generic_tf(\n",
    "    zeros, poles, zeros_wn, zeros_q, poles_wn, poles_q, dc_gain, unit)"
   ]
  },
  {
   "cell_type": "code",
   "execution_count": 4,
   "metadata": {},
   "outputs": [
    {
     "data": {
      "text/plain": [
       "[<matplotlib.lines.Line2D at 0x7f2443f4d2e0>]"
      ]
     },
     "execution_count": 4,
     "metadata": {},
     "output_type": "execute_result"
    },
    {
     "data": {
      "image/png": "[encoded data removed]",
      "text/plain": [
       "<Figure size 432x288 with 1 Axes>"
      ]
     },
     "metadata": {
      "needs_background": "light"
     },
     "output_type": "display_data"
    }
   ],
   "source": [
    "import matplotlib.pyplot as plt\n",
    "\n",
    "plt.loglog(f, (sos(s)))\n",
    "plt.loglog(f, )"
   ]
  },
  {
   "cell_type": "code",
   "execution_count": 5,
   "metadata": {},
   "outputs": [
    {
     "data": {
      "text/plain": [
       "True"
      ]
     },
     "execution_count": 5,
     "metadata": {},
     "output_type": "execute_result"
    }
   ],
   "source": [
    "np.isclose(f[1]-f[0], f[2]-f[1])"
   ]
  },
  {
   "cell_type": "code",
   "execution_count": 6,
   "metadata": {
    "scrolled": true
   },
   "outputs": [
    {
     "data": {
      "text/plain": [
       "True"
      ]
     },
     "execution_count": 6,
     "metadata": {},
     "output_type": "execute_result"
    }
   ],
   "source": [
    "np.allclose(fs.args_empirical_model, [1,10])"
   ]
  },
  {
   "cell_type": "code",
   "execution_count": 7,
   "metadata": {},
   "outputs": [
    {
     "data": {
      "text/plain": [
       "array([1.        , 9.99999996])"
      ]
     },
     "execution_count": 7,
     "metadata": {},
     "output_type": "execute_result"
    }
   ],
   "source": [
    "fs.args_empirical_model"
   ]
  },
  {
   "cell_type": "code",
   "execution_count": null,
   "metadata": {},
   "outputs": [],
   "source": []
  },
  {
   "cell_type": "code",
   "execution_count": 10,
   "metadata": {
    "scrolled": true
   },
   "outputs": [
    {
     "ename": "AttributeError",
     "evalue": "'NoneType' object has no attribute 'num'",
     "output_type": "error",
     "traceback": [
      "\u001b[0;31m------------------------------------------------------------------\u001b[0m",
      "\u001b[0;31mAttributeError\u001b[0m                   Traceback (most recent call last)",
      "\u001b[0;32m<ipython-input-10-9655bde1ac19>\u001b[0m in \u001b[0;36m<module>\u001b[0;34m\u001b[0m\n\u001b[1;32m     13\u001b[0m \u001b[0mgeophone_noise\u001b[0m \u001b[0;34m=\u001b[0m \u001b[0mkontrol\u001b[0m\u001b[0;34m.\u001b[0m\u001b[0mcore\u001b[0m\u001b[0;34m.\u001b[0m\u001b[0mfrequency_series\u001b[0m\u001b[0;34m.\u001b[0m\u001b[0mnoise_models\u001b[0m\u001b[0;34m.\u001b[0m\u001b[0mgeophone_noise\u001b[0m\u001b[0;34m(\u001b[0m\u001b[0mf\u001b[0m\u001b[0;34m=\u001b[0m\u001b[0mf\u001b[0m\u001b[0;34m)\u001b[0m\u001b[0;34m\u001b[0m\u001b[0;34m\u001b[0m\u001b[0m\n\u001b[1;32m     14\u001b[0m \u001b[0;34m\u001b[0m\u001b[0m\n\u001b[0;32m---> 15\u001b[0;31m \u001b[0mcomp\u001b[0m \u001b[0;34m=\u001b[0m \u001b[0mcm\u001b[0m\u001b[0;34m.\u001b[0m\u001b[0mComplementaryFilter\u001b[0m\u001b[0;34m(\u001b[0m\u001b[0mnoise1\u001b[0m\u001b[0;34m=\u001b[0m\u001b[0mlvdt_noise\u001b[0m\u001b[0;34m,\u001b[0m \u001b[0mnoise2\u001b[0m\u001b[0;34m=\u001b[0m\u001b[0mgeophone_noise\u001b[0m\u001b[0;34m,\u001b[0m \u001b[0mf\u001b[0m\u001b[0;34m=\u001b[0m\u001b[0mf\u001b[0m\u001b[0;34m,\u001b[0m \u001b[0munit\u001b[0m\u001b[0;34m=\u001b[0m\u001b[0;34m\"omega\"\u001b[0m\u001b[0;34m)\u001b[0m\u001b[0;34m\u001b[0m\u001b[0;34m\u001b[0m\u001b[0m\n\u001b[0m\u001b[1;32m     16\u001b[0m \u001b[0;34m\u001b[0m\u001b[0m\n\u001b[1;32m     17\u001b[0m \u001b[0;31m# plt.loglog(omega, lvdt_noise)\u001b[0m\u001b[0;34m\u001b[0m\u001b[0;34m\u001b[0m\u001b[0;34m\u001b[0m\u001b[0m\n",
      "\u001b[0;32m~/miniconda3/envs/kontrol/lib/python3.9/site-packages/kontrol/core/complementary_filter/complementary_filter.py\u001b[0m in \u001b[0;36m__init__\u001b[0;34m(self, f, noise1, noise2, filter1, filter2, unit)\u001b[0m\n\u001b[1;32m    102\u001b[0m \u001b[0;34m\u001b[0m\u001b[0m\n\u001b[1;32m    103\u001b[0m         \u001b[0mtf_complementary_matrix\u001b[0m \u001b[0;34m=\u001b[0m \u001b[0;34m[\u001b[0m\u001b[0;34m[\u001b[0m\u001b[0mfilter1\u001b[0m\u001b[0;34m,\u001b[0m \u001b[0mfilter2\u001b[0m\u001b[0;34m]\u001b[0m\u001b[0;34m]\u001b[0m\u001b[0;34m\u001b[0m\u001b[0;34m\u001b[0m\u001b[0m\n\u001b[0;32m--> 104\u001b[0;31m         tf_complementary = kontrol.controlutils.tfmatrix2tf(\n\u001b[0m\u001b[1;32m    105\u001b[0m             tf_complementary_matrix)\n\u001b[1;32m    106\u001b[0m         \u001b[0msuper\u001b[0m\u001b[0;34m(\u001b[0m\u001b[0;34m)\u001b[0m\u001b[0;34m.\u001b[0m\u001b[0m__init__\u001b[0m\u001b[0;34m(\u001b[0m\u001b[0mtf_complementary\u001b[0m\u001b[0;34m)\u001b[0m\u001b[0;34m\u001b[0m\u001b[0;34m\u001b[0m\u001b[0m\n",
      "\u001b[0;32m~/miniconda3/envs/kontrol/lib/python3.9/site-packages/kontrol/controlutils.py\u001b[0m in \u001b[0;36mtfmatrix2tf\u001b[0;34m(sys)\u001b[0m\n\u001b[1;32m     23\u001b[0m     \u001b[0;32mfor\u001b[0m \u001b[0mi\u001b[0m \u001b[0;32min\u001b[0m \u001b[0mrange\u001b[0m\u001b[0;34m(\u001b[0m\u001b[0mlen\u001b[0m\u001b[0;34m(\u001b[0m\u001b[0msys\u001b[0m\u001b[0;34m)\u001b[0m\u001b[0;34m)\u001b[0m\u001b[0;34m:\u001b[0m\u001b[0;34m\u001b[0m\u001b[0;34m\u001b[0m\u001b[0m\n\u001b[1;32m     24\u001b[0m         \u001b[0;32mfor\u001b[0m \u001b[0mj\u001b[0m \u001b[0;32min\u001b[0m \u001b[0mrange\u001b[0m\u001b[0;34m(\u001b[0m\u001b[0mlen\u001b[0m\u001b[0;34m(\u001b[0m\u001b[0msys\u001b[0m\u001b[0;34m[\u001b[0m\u001b[0mi\u001b[0m\u001b[0;34m]\u001b[0m\u001b[0;34m)\u001b[0m\u001b[0;34m)\u001b[0m\u001b[0;34m:\u001b[0m\u001b[0;34m\u001b[0m\u001b[0;34m\u001b[0m\u001b[0m\n\u001b[0;32m---> 25\u001b[0;31m             \u001b[0mnums\u001b[0m\u001b[0;34m[\u001b[0m\u001b[0mi\u001b[0m\u001b[0;34m]\u001b[0m\u001b[0;34m[\u001b[0m\u001b[0mj\u001b[0m\u001b[0;34m]\u001b[0m \u001b[0;34m=\u001b[0m \u001b[0mlist\u001b[0m\u001b[0;34m(\u001b[0m\u001b[0msys\u001b[0m\u001b[0;34m[\u001b[0m\u001b[0mi\u001b[0m\u001b[0;34m]\u001b[0m\u001b[0;34m[\u001b[0m\u001b[0mj\u001b[0m\u001b[0;34m]\u001b[0m\u001b[0;34m.\u001b[0m\u001b[0mnum\u001b[0m\u001b[0;34m[\u001b[0m\u001b[0;36m0\u001b[0m\u001b[0;34m]\u001b[0m\u001b[0;34m[\u001b[0m\u001b[0;36m0\u001b[0m\u001b[0;34m]\u001b[0m\u001b[0;34m)\u001b[0m\u001b[0;34m\u001b[0m\u001b[0;34m\u001b[0m\u001b[0m\n\u001b[0m\u001b[1;32m     26\u001b[0m             \u001b[0mdens\u001b[0m\u001b[0;34m[\u001b[0m\u001b[0mi\u001b[0m\u001b[0;34m]\u001b[0m\u001b[0;34m[\u001b[0m\u001b[0mj\u001b[0m\u001b[0;34m]\u001b[0m \u001b[0;34m=\u001b[0m \u001b[0mlist\u001b[0m\u001b[0;34m(\u001b[0m\u001b[0msys\u001b[0m\u001b[0;34m[\u001b[0m\u001b[0mi\u001b[0m\u001b[0;34m]\u001b[0m\u001b[0;34m[\u001b[0m\u001b[0mj\u001b[0m\u001b[0;34m]\u001b[0m\u001b[0;34m.\u001b[0m\u001b[0mden\u001b[0m\u001b[0;34m[\u001b[0m\u001b[0;36m0\u001b[0m\u001b[0;34m]\u001b[0m\u001b[0;34m[\u001b[0m\u001b[0;36m0\u001b[0m\u001b[0;34m]\u001b[0m\u001b[0;34m)\u001b[0m\u001b[0;34m\u001b[0m\u001b[0;34m\u001b[0m\u001b[0m\n\u001b[1;32m     27\u001b[0m         \u001b[0mnums\u001b[0m\u001b[0;34m[\u001b[0m\u001b[0mi\u001b[0m\u001b[0;34m]\u001b[0m \u001b[0;34m=\u001b[0m \u001b[0mlist\u001b[0m\u001b[0;34m(\u001b[0m\u001b[0mnums\u001b[0m\u001b[0;34m[\u001b[0m\u001b[0mi\u001b[0m\u001b[0;34m]\u001b[0m\u001b[0;34m)\u001b[0m\u001b[0;34m\u001b[0m\u001b[0;34m\u001b[0m\u001b[0m\n",
      "\u001b[0;31mAttributeError\u001b[0m: 'NoneType' object has no attribute 'num'"
     ]
    }
   ],
   "source": [
    "import kontrol.core.complementary_filter.complementary_filter as cm\n",
    "import control\n",
    "import numpy as np\n",
    "import matplotlib.pyplot as plt\n",
    "import kontrol.core.frequency_series.noise_models\n",
    "\n",
    "# lvdt_noise = kontrol.core.frequency_series.noise_models()\n",
    "lpf = control.tf([1], [1, 1])\n",
    "hpf = 1 - lpf\n",
    "omega = np.logspace(-2,2,1000)\n",
    "f = omega/2/np.pi\n",
    "lvdt_noise = kontrol.core.frequency_series.noise_models.lvdt_noise(f=f)\n",
    "geophone_noise = kontrol.core.frequency_series.noise_models.geophone_noise(f=f)\n",
    "\n",
    "comp = cm.ComplementaryFilter(noise1=lvdt_noise, noise2=geophone_noise, f=f, unit=\"omega\")\n",
    "\n",
    "# plt.loglog(omega, lvdt_noise)\n",
    "# plt.loglog(omega, geophone_noise)\n",
    "# plt.loglog(omega, abs(lpf(1j*omega)))\n",
    "# plt.loglog(omega, abs(hpf(1j*omega)))"
   ]
  },
  {
   "cell_type": "code",
   "execution_count": 9,
   "metadata": {},
   "outputs": [
    {
     "data": {
      "text/plain": [
       "[<matplotlib.lines.Line2D at 0x7f8ae9723490>]"
      ]
     },
     "execution_count": 9,
     "metadata": {},
     "output_type": "execute_result"
    },
    {
     "data": {
      "image/png": "[encoded data removed]",
      "text/plain": [
       "<Figure size 432x288 with 1 Axes>"
      ]
     },
     "metadata": {
      "needs_background": "light"
     },
     "output_type": "display_data"
    }
   ],
   "source": [
    "plt.loglog(omega, lvdt_noise)\n",
    "plt.loglog(omega, geophone_noise)\n",
    "plt.loglog(omega, comp.noise_super)\n",
    "# plt.loglog(omega, abs(lpf(1j*omega)))\n",
    "# plt.loglog(omega, abs(hpf(1j*omega)))"
   ]
  },
  {
   "cell_type": "code",
   "execution_count": 6,
   "metadata": {},
   "outputs": [
    {
     "data": {
      "text/plain": [
       "array([1.97925344e+01, 1.93415923e+01, 1.89009256e+01, 1.84703002e+01,\n",
       "       1.80494872e+01, 1.76382632e+01, 1.72364095e+01, 1.68437128e+01,\n",
       "       1.64599643e+01, 1.60849602e+01, 1.57185013e+01, 1.53603929e+01,\n",
       "       1.50104447e+01, 1.46684708e+01, 1.43342894e+01, 1.40077231e+01,\n",
       "       1.36885984e+01, 1.33767456e+01, 1.30719992e+01, 1.27741971e+01,\n",
       "       1.24831812e+01, 1.21987969e+01, 1.19208931e+01, 1.16493221e+01,\n",
       "       1.13839396e+01, 1.11246046e+01, 1.08711794e+01, 1.06235293e+01,\n",
       "       1.03815227e+01, 1.01450311e+01, 9.91392880e+00, 9.68809299e+00,\n",
       "       9.46740371e+00, 9.25174370e+00, 9.04099838e+00, 8.83505577e+00,\n",
       "       8.63380646e+00, 8.43714352e+00, 8.24496246e+00, 8.05716118e+00,\n",
       "       7.87363988e+00, 7.69430106e+00, 7.51904943e+00, 7.34779189e+00,\n",
       "       7.18043742e+00, 7.01689712e+00, 6.85708410e+00, 6.70091342e+00,\n",
       "       6.54830213e+00, 6.39916913e+00, 6.25343517e+00, 6.11102283e+00,\n",
       "       5.97185644e+00, 5.83586205e+00, 5.70296739e+00, 5.57310187e+00,\n",
       "       5.44619646e+00, 5.32218374e+00, 5.20099782e+00, 5.08257430e+00,\n",
       "       4.96685025e+00, 4.85376418e+00, 4.74325600e+00, 4.63526699e+00,\n",
       "       4.52973977e+00, 4.42661826e+00, 4.32584766e+00, 4.22737442e+00,\n",
       "       4.13114622e+00, 4.03711192e+00, 3.94522154e+00, 3.85542626e+00,\n",
       "       3.76767836e+00, 3.68193121e+00, 3.59813924e+00, 3.51625791e+00,\n",
       "       3.43624371e+00, 3.35805413e+00, 3.28164760e+00, 3.20698352e+00,\n",
       "       3.13402221e+00, 3.06272489e+00, 2.99305366e+00, 2.92497150e+00,\n",
       "       2.85844223e+00, 2.79343047e+00, 2.72990168e+00, 2.66782209e+00,\n",
       "       2.60715870e+00, 2.54787927e+00, 2.48995228e+00, 2.43334695e+00,\n",
       "       2.37803318e+00, 2.32398157e+00, 2.27116339e+00, 2.21955056e+00,\n",
       "       2.16911563e+00, 2.11983181e+00, 2.07167287e+00, 2.02461323e+00,\n",
       "       1.97862785e+00, 1.93369229e+00, 1.88978266e+00, 1.84687561e+00,\n",
       "       1.80494832e+00, 1.76397849e+00, 1.72394435e+00, 1.68482459e+00,\n",
       "       1.64659842e+00, 1.60924550e+00, 1.57274597e+00, 1.53708042e+00,\n",
       "       1.50222986e+00, 1.46817577e+00, 1.43490003e+00, 1.40238494e+00,\n",
       "       1.37061319e+00, 1.33956788e+00, 1.30923251e+00, 1.27959091e+00,\n",
       "       1.25062732e+00, 1.22232633e+00, 1.19467288e+00, 1.16765223e+00,\n",
       "       1.14125003e+00, 1.11545219e+00, 1.09024501e+00, 1.06561504e+00,\n",
       "       1.04154919e+00, 1.01803463e+00, 9.95058837e-01, 9.72609581e-01,\n",
       "       9.50674901e-01, 9.29243113e-01, 9.08302798e-01, 8.87842798e-01,\n",
       "       8.67852212e-01, 8.48320383e-01, 8.29236902e-01, 8.10591596e-01,\n",
       "       7.92374522e-01, 7.74575967e-01, 7.57186438e-01, 7.40196660e-01,\n",
       "       7.23597569e-01, 7.07380307e-01, 6.91536219e-01, 6.76056848e-01,\n",
       "       6.60933930e-01, 6.46159389e-01, 6.31725333e-01, 6.17624053e-01,\n",
       "       6.03848011e-01, 5.90389847e-01, 5.77242363e-01, 5.64398530e-01,\n",
       "       5.51851477e-01, 5.39594491e-01, 5.27621011e-01, 5.15924627e-01,\n",
       "       5.04499074e-01, 4.93338232e-01, 4.82436118e-01, 4.71786887e-01,\n",
       "       4.61384827e-01, 4.51224357e-01, 4.41300021e-01, 4.31606491e-01,\n",
       "       4.22138557e-01, 4.12891129e-01, 4.03859234e-01, 3.95038011e-01,\n",
       "       3.86422709e-01, 3.78008688e-01, 3.69791409e-01, 3.61766441e-01,\n",
       "       3.53929451e-01, 3.46276205e-01, 3.38802565e-01, 3.31504487e-01,\n",
       "       3.24378019e-01, 3.17419299e-01, 3.10624550e-01, 3.03990085e-01,\n",
       "       2.97512295e-01, 2.91187657e-01, 2.85012725e-01, 2.78984132e-01,\n",
       "       2.73098586e-01, 2.67352870e-01, 2.61743838e-01, 2.56268415e-01,\n",
       "       2.50923597e-01, 2.45706443e-01, 2.40614082e-01, 2.35643705e-01,\n",
       "       2.30792565e-01, 2.26057978e-01, 2.21437317e-01, 2.16928016e-01,\n",
       "       2.12527564e-01, 2.08233505e-01, 2.04043439e-01, 1.99955016e-01,\n",
       "       1.95965940e-01, 1.92073963e-01, 1.88276887e-01, 1.84572563e-01,\n",
       "       1.80958885e-01, 1.77433797e-01, 1.73995283e-01, 1.70641373e-01,\n",
       "       1.67370138e-01, 1.64179690e-01, 1.61068182e-01, 1.58033806e-01,\n",
       "       1.55074790e-01, 1.52189402e-01, 1.49375945e-01, 1.46632758e-01,\n",
       "       1.43958213e-01, 1.41350718e-01, 1.38808712e-01, 1.36330666e-01,\n",
       "       1.33915084e-01, 1.31560499e-01, 1.29265475e-01, 1.27028605e-01,\n",
       "       1.24848509e-01, 1.22723837e-01, 1.20653264e-01, 1.18635494e-01,\n",
       "       1.16669254e-01, 1.14753300e-01, 1.12886409e-01, 1.11067385e-01,\n",
       "       1.09295056e-01, 1.07568272e-01, 1.05885906e-01, 1.04246854e-01,\n",
       "       1.02650034e-01, 1.01094385e-01, 9.95788674e-02, 9.81024632e-02,\n",
       "       9.66641738e-02, 9.52630213e-02, 9.38980471e-02, 9.25683124e-02,\n",
       "       9.12728973e-02, 9.00109008e-02, 8.87814405e-02, 8.75836521e-02,\n",
       "       8.64166894e-02, 8.52797238e-02, 8.41719444e-02, 8.30925573e-02,\n",
       "       8.20407859e-02, 8.10158701e-02, 8.00170665e-02, 7.90436480e-02,\n",
       "       7.80949037e-02, 7.71701386e-02, 7.62686734e-02, 7.53898442e-02,\n",
       "       7.45330027e-02, 7.36975154e-02, 7.28827641e-02, 7.20881448e-02,\n",
       "       7.13130686e-02, 7.05569604e-02, 6.98192597e-02, 6.90994196e-02,\n",
       "       6.83969070e-02, 6.77112024e-02, 6.70417997e-02, 6.63882056e-02,\n",
       "       6.57499402e-02, 6.51265359e-02, 6.45175378e-02, 6.39225034e-02,\n",
       "       6.33410019e-02, 6.27726149e-02, 6.22169352e-02, 6.16735673e-02,\n",
       "       6.11421270e-02, 6.06222409e-02, 6.01135465e-02, 5.96156919e-02,\n",
       "       5.91283355e-02, 5.86511461e-02, 5.81838020e-02, 5.77259916e-02,\n",
       "       5.72774125e-02, 5.68377719e-02, 5.64067857e-02, 5.59841790e-02,\n",
       "       5.55696852e-02, 5.51630464e-02, 5.47640128e-02, 5.43723425e-02,\n",
       "       5.39878017e-02, 5.36101638e-02, 5.32392098e-02, 5.28747280e-02,\n",
       "       5.25165136e-02, 5.21643684e-02, 5.18181011e-02, 5.14775266e-02,\n",
       "       5.11424663e-02, 5.08127474e-02, 5.04882031e-02, 5.01686723e-02,\n",
       "       4.98539993e-02, 4.95440339e-02, 4.92386310e-02, 4.89376508e-02,\n",
       "       4.86409579e-02, 4.83484220e-02, 4.80599172e-02, 4.77753221e-02,\n",
       "       4.74945196e-02, 4.72173967e-02, 4.69438442e-02, 4.66737571e-02,\n",
       "       4.64070341e-02, 4.61435772e-02, 4.58832922e-02, 4.56260882e-02,\n",
       "       4.53718775e-02, 4.51205757e-02, 4.48721011e-02, 4.46263752e-02,\n",
       "       4.43833223e-02, 4.41428695e-02, 4.39049463e-02, 4.36694848e-02,\n",
       "       4.34364198e-02, 4.32056881e-02, 4.29772290e-02, 4.27509840e-02,\n",
       "       4.25268965e-02, 4.23049122e-02, 4.20849786e-02, 4.18670450e-02,\n",
       "       4.16510629e-02, 4.14369850e-02, 4.12247663e-02, 4.10143628e-02,\n",
       "       4.08057326e-02, 4.05988350e-02, 4.03936308e-02, 4.01900822e-02,\n",
       "       3.99881529e-02, 3.97878076e-02, 3.95890125e-02, 3.93917348e-02,\n",
       "       3.91959431e-02, 3.90016068e-02, 3.88086965e-02, 3.86171840e-02,\n",
       "       3.84270419e-02, 3.82382437e-02, 3.80507639e-02, 3.78645778e-02,\n",
       "       3.76796618e-02, 3.74959928e-02, 3.73135486e-02, 3.71323077e-02,\n",
       "       3.69522495e-02, 3.67733539e-02, 3.65956015e-02, 3.64189736e-02,\n",
       "       3.62434521e-02, 3.60690195e-02, 3.58956588e-02, 3.57233536e-02,\n",
       "       3.55520880e-02, 3.53818467e-02, 3.52126148e-02, 3.50443779e-02,\n",
       "       3.48771219e-02, 3.47108335e-02, 3.45454993e-02, 3.43811068e-02,\n",
       "       3.42176436e-02, 3.40550978e-02, 3.38934576e-02, 3.37327119e-02,\n",
       "       3.35728497e-02, 3.34138603e-02, 3.32557336e-02, 3.30984593e-02,\n",
       "       3.29420278e-02, 3.27864297e-02, 3.26316555e-02, 3.24776965e-02,\n",
       "       3.23245439e-02, 3.21721891e-02, 3.20206238e-02, 3.18698401e-02,\n",
       "       3.17198300e-02, 3.15705859e-02, 3.14221004e-02, 3.12743660e-02,\n",
       "       3.11273757e-02, 3.09811225e-02, 3.08355997e-02, 3.06908006e-02,\n",
       "       3.05467187e-02, 3.04033478e-02, 3.02606815e-02, 3.01187139e-02,\n",
       "       2.99774389e-02, 2.98368509e-02, 2.96969441e-02, 2.95577129e-02,\n",
       "       2.94191518e-02, 2.92812556e-02, 2.91440189e-02, 2.90074365e-02,\n",
       "       2.88715035e-02, 2.87362149e-02, 2.86015657e-02, 2.84675512e-02,\n",
       "       2.83341666e-02, 2.82014074e-02, 2.80692689e-02, 2.79377466e-02,\n",
       "       2.78068362e-02, 2.76765334e-02, 2.75468337e-02, 2.74177330e-02,\n",
       "       2.72892272e-02, 2.71613120e-02, 2.70339836e-02, 2.69072379e-02,\n",
       "       2.67810709e-02, 2.66554788e-02, 2.65304578e-02, 2.64060040e-02,\n",
       "       2.62821137e-02, 2.61587832e-02, 2.60360089e-02, 2.59137871e-02,\n",
       "       2.57921143e-02, 2.56709869e-02, 2.55504014e-02, 2.54303543e-02,\n",
       "       2.53108423e-02, 2.51918620e-02, 2.50734098e-02, 2.49554827e-02,\n",
       "       2.48380771e-02, 2.47211899e-02, 2.46048179e-02, 2.44889577e-02,\n",
       "       2.43736062e-02, 2.42587603e-02, 2.41444167e-02, 2.40305724e-02,\n",
       "       2.39172244e-02, 2.38043694e-02, 2.36920045e-02, 2.35801266e-02,\n",
       "       2.34687327e-02, 2.33578199e-02, 2.32473852e-02, 2.31374255e-02,\n",
       "       2.30279381e-02, 2.29189199e-02, 2.28103681e-02, 2.27022798e-02,\n",
       "       2.25946521e-02, 2.24874821e-02, 2.23807671e-02, 2.22745042e-02,\n",
       "       2.21686906e-02, 2.20633235e-02, 2.19584002e-02, 2.18539178e-02,\n",
       "       2.17498736e-02, 2.16462649e-02, 2.15430889e-02, 2.14403429e-02,\n",
       "       2.13380243e-02, 2.12361302e-02, 2.11346581e-02, 2.10336052e-02,\n",
       "       2.09329689e-02, 2.08327465e-02, 2.07329354e-02, 2.06335329e-02,\n",
       "       2.05345364e-02, 2.04359434e-02, 2.03377511e-02, 2.02399569e-02,\n",
       "       2.01425584e-02, 2.00455529e-02, 1.99489377e-02, 1.98527105e-02,\n",
       "       1.97568685e-02, 1.96614092e-02, 1.95663301e-02, 1.94716286e-02,\n",
       "       1.93773023e-02, 1.92833485e-02, 1.91897647e-02, 1.90965485e-02,\n",
       "       1.90036974e-02, 1.89112087e-02, 1.88190801e-02, 1.87273090e-02,\n",
       "       1.86358930e-02, 1.85448295e-02, 1.84541161e-02, 1.83637504e-02,\n",
       "       1.82737299e-02, 1.81840521e-02, 1.80947145e-02, 1.80057148e-02,\n",
       "       1.79170505e-02, 1.78287192e-02, 1.77407183e-02, 1.76530456e-02,\n",
       "       1.75656986e-02, 1.74786749e-02, 1.73919721e-02, 1.73055877e-02,\n",
       "       1.72195194e-02, 1.71337649e-02, 1.70483216e-02, 1.69631873e-02,\n",
       "       1.68783596e-02, 1.67938361e-02, 1.67096145e-02, 1.66256923e-02,\n",
       "       1.65420673e-02, 1.64587371e-02, 1.63756994e-02, 1.62929518e-02,\n",
       "       1.62104921e-02, 1.61283178e-02, 1.60464268e-02, 1.59648167e-02,\n",
       "       1.58834851e-02, 1.58024299e-02, 1.57216487e-02, 1.56411393e-02,\n",
       "       1.55608994e-02, 1.54809267e-02, 1.54012190e-02, 1.53217741e-02,\n",
       "       1.52425896e-02, 1.51636634e-02, 1.50849933e-02, 1.50065771e-02,\n",
       "       1.49284125e-02, 1.48504974e-02, 1.47728296e-02, 1.46954069e-02,\n",
       "       1.46182271e-02, 1.45412882e-02, 1.44645880e-02, 1.43881243e-02,\n",
       "       1.43118950e-02, 1.42358981e-02, 1.41601314e-02, 1.40845929e-02,\n",
       "       1.40092804e-02, 1.39341920e-02, 1.38593256e-02, 1.37846792e-02,\n",
       "       1.37102508e-02, 1.36360383e-02, 1.35620398e-02, 1.34882534e-02,\n",
       "       1.34146770e-02, 1.33413088e-02, 1.32681469e-02, 1.31951892e-02,\n",
       "       1.31224341e-02, 1.30498795e-02, 1.29775237e-02, 1.29053648e-02,\n",
       "       1.28334011e-02, 1.27616307e-02, 1.26900519e-02, 1.26186629e-02,\n",
       "       1.25474622e-02, 1.24764478e-02, 1.24056183e-02, 1.23349718e-02,\n",
       "       1.22645069e-02, 1.21942220e-02, 1.21241153e-02, 1.20541855e-02,\n",
       "       1.19844310e-02, 1.19148502e-02, 1.18454419e-02, 1.17762044e-02,\n",
       "       1.17071364e-02, 1.16382366e-02, 1.15695036e-02, 1.15009361e-02,\n",
       "       1.14325329e-02, 1.13642926e-02, 1.12962140e-02, 1.12282961e-02,\n",
       "       1.11605376e-02, 1.10929375e-02, 1.10254947e-02, 1.09582081e-02,\n",
       "       1.08910768e-02, 1.08240998e-02, 1.07572763e-02, 1.06906052e-02,\n",
       "       1.06240858e-02, 1.05577173e-02, 1.04914990e-02, 1.04254301e-02,\n",
       "       1.03595099e-02, 1.02937379e-02, 1.02281135e-02, 1.01626361e-02,\n",
       "       1.00973052e-02, 1.00321204e-02, 9.96708134e-03, 9.90218759e-03,\n",
       "       9.83743889e-03, 9.77283497e-03, 9.70837563e-03, 9.64406071e-03,\n",
       "       9.57989009e-03, 9.51586373e-03, 9.45198160e-03, 9.38824376e-03,\n",
       "       9.32465028e-03, 9.26120131e-03, 9.19789704e-03, 9.13473772e-03,\n",
       "       9.07172364e-03, 9.00885515e-03, 8.94613264e-03, 8.88355658e-03,\n",
       "       8.82112745e-03, 8.75884582e-03, 8.69671229e-03, 8.63472752e-03,\n",
       "       8.57289222e-03, 8.51120716e-03, 8.44967314e-03, 8.38829103e-03,\n",
       "       8.32706175e-03, 8.26598626e-03, 8.20506559e-03, 8.14430079e-03,\n",
       "       8.08369299e-03, 8.02324336e-03, 7.96295310e-03, 7.90282348e-03,\n",
       "       7.84285581e-03, 7.78305144e-03, 7.72341179e-03, 7.66393829e-03,\n",
       "       7.60463244e-03, 7.54549578e-03, 7.48652988e-03, 7.42773637e-03,\n",
       "       7.36911691e-03, 7.31067320e-03, 7.25240698e-03, 7.19432002e-03,\n",
       "       7.13641414e-03, 7.07869120e-03, 7.02115306e-03, 6.96380166e-03,\n",
       "       6.90663893e-03, 6.84966685e-03, 6.79288743e-03, 6.73630269e-03,\n",
       "       6.67991471e-03, 6.62372555e-03, 6.56773733e-03, 6.51195217e-03,\n",
       "       6.45637222e-03, 6.40099963e-03, 6.34583658e-03, 6.29088528e-03,\n",
       "       6.23614792e-03, 6.18162673e-03, 6.12732393e-03, 6.07324175e-03,\n",
       "       6.01938242e-03, 5.96574820e-03, 5.91234132e-03, 5.85916404e-03,\n",
       "       5.80621858e-03, 5.75350721e-03, 5.70103214e-03, 5.64879561e-03,\n",
       "       5.59679984e-03, 5.54504704e-03, 5.49353941e-03, 5.44227912e-03,\n",
       "       5.39126835e-03, 5.34050924e-03, 5.29000393e-03, 5.23975452e-03,\n",
       "       5.18976310e-03, 5.14003173e-03, 5.09056246e-03, 5.04135728e-03,\n",
       "       4.99241818e-03, 4.94374710e-03, 4.89534597e-03, 4.84721667e-03,\n",
       "       4.79936103e-03, 4.75178089e-03, 4.70447800e-03, 4.65745410e-03,\n",
       "       4.61071090e-03, 4.56425002e-03, 4.51807310e-03, 4.47218169e-03,\n",
       "       4.42657730e-03, 4.38126143e-03, 4.33623548e-03, 4.29150084e-03,\n",
       "       4.24705884e-03, 4.20291075e-03, 4.15905781e-03, 4.11550119e-03,\n",
       "       4.07224201e-03, 4.02928135e-03, 3.98662023e-03, 3.94425960e-03,\n",
       "       3.90220039e-03, 3.86044343e-03, 3.81898954e-03, 3.77783946e-03,\n",
       "       3.73699387e-03, 3.69645341e-03, 3.65621866e-03, 3.61629013e-03,\n",
       "       3.57666828e-03, 3.53735353e-03, 3.49834622e-03, 3.45964664e-03,\n",
       "       3.42125505e-03, 3.38317160e-03, 3.34539644e-03, 3.30792963e-03,\n",
       "       3.27077118e-03, 3.23392106e-03, 3.19737917e-03, 3.16114536e-03,\n",
       "       3.12521942e-03, 3.08960111e-03, 3.05429011e-03, 3.01928606e-03,\n",
       "       2.98458854e-03, 2.95019710e-03, 2.91611122e-03, 2.88233033e-03,\n",
       "       2.84885382e-03, 2.81568103e-03, 2.78281126e-03, 2.75024373e-03,\n",
       "       2.71797766e-03, 2.68601220e-03, 2.65434645e-03, 2.62297949e-03,\n",
       "       2.59191032e-03, 2.56113795e-03, 2.53066129e-03, 2.50047927e-03,\n",
       "       2.47059073e-03, 2.44099451e-03, 2.41168938e-03, 2.38267411e-03,\n",
       "       2.35394739e-03, 2.32550792e-03, 2.29735435e-03, 2.26948528e-03,\n",
       "       2.24189931e-03, 2.21459499e-03, 2.18757083e-03, 2.16082535e-03,\n",
       "       2.13435699e-03, 2.10816422e-03, 2.08224544e-03, 2.05659905e-03,\n",
       "       2.03122342e-03, 2.00611688e-03, 1.98127778e-03, 1.95670439e-03,\n",
       "       1.93239503e-03, 1.90834793e-03, 1.88456136e-03, 1.86103354e-03,\n",
       "       1.83776269e-03, 1.81474699e-03, 1.79198465e-03, 1.76947381e-03,\n",
       "       1.74721265e-03, 1.72519929e-03, 1.70343189e-03, 1.68190856e-03,\n",
       "       1.66062741e-03, 1.63958654e-03, 1.61878406e-03, 1.59821805e-03,\n",
       "       1.57788659e-03, 1.55778777e-03, 1.53791964e-03, 1.51828029e-03,\n",
       "       1.49886776e-03, 1.47968012e-03, 1.46071542e-03, 1.44197173e-03,\n",
       "       1.42344710e-03, 1.40513957e-03, 1.38704720e-03, 1.36916804e-03,\n",
       "       1.35150015e-03, 1.33404159e-03, 1.31679041e-03, 1.29974467e-03,\n",
       "       1.28290244e-03, 1.26626178e-03, 1.24982076e-03, 1.23357747e-03,\n",
       "       1.21752997e-03, 1.20167637e-03, 1.18601474e-03, 1.17054319e-03,\n",
       "       1.15525982e-03, 1.14016274e-03, 1.12525007e-03, 1.11051994e-03,\n",
       "       1.09597048e-03, 1.08159984e-03, 1.06740616e-03, 1.05338760e-03,\n",
       "       1.03954234e-03, 1.02586855e-03, 1.01236442e-03, 9.99028145e-04,\n",
       "       9.85857939e-04, 9.72852017e-04, 9.60008610e-04, 9.47325957e-04,\n",
       "       9.34802308e-04, 9.22435927e-04, 9.10225086e-04, 8.98168072e-04,\n",
       "       8.86263179e-04, 8.74508718e-04, 8.62903009e-04, 8.51444384e-04,\n",
       "       8.40131189e-04, 8.28961780e-04, 8.17990154e-04, 8.10831853e-04,\n",
       "       8.03730170e-04, 7.96684816e-04, 7.89695495e-04, 7.82761913e-04,\n",
       "       7.75883770e-04, 7.69060766e-04, 7.62292597e-04, 7.55578957e-04,\n",
       "       7.48919541e-04, 7.42314037e-04, 7.35762136e-04, 7.29263525e-04,\n",
       "       7.22817889e-04, 7.16424914e-04, 7.10084282e-04, 7.03795675e-04,\n",
       "       6.97558775e-04, 6.91373262e-04, 6.85238814e-04, 6.79155110e-04,\n",
       "       6.73121827e-04, 6.67138643e-04, 6.61205235e-04, 6.55321277e-04,\n",
       "       6.49486447e-04, 6.43700418e-04, 6.37962868e-04, 6.32273471e-04,\n",
       "       6.26631902e-04, 6.21037836e-04, 6.15490949e-04, 6.09990916e-04,\n",
       "       6.04537413e-04, 5.99130116e-04, 5.93768701e-04, 5.88452845e-04,\n",
       "       5.83182226e-04, 5.77956520e-04, 5.72775407e-04, 5.67638566e-04,\n",
       "       5.62545676e-04, 5.57496418e-04, 5.52490473e-04, 5.47527523e-04,\n",
       "       5.42607251e-04, 5.37729341e-04, 5.32893478e-04, 5.28099347e-04,\n",
       "       5.23346636e-04, 5.18635033e-04, 5.13964226e-04, 5.09333905e-04,\n",
       "       5.04743763e-04, 5.00193491e-04, 4.95682784e-04, 4.91211336e-04,\n",
       "       4.86778844e-04, 4.82385006e-04, 4.78029520e-04, 4.73712087e-04,\n",
       "       4.69432408e-04, 4.65190187e-04, 4.60985128e-04, 4.56816938e-04,\n",
       "       4.52685323e-04, 4.48589993e-04, 4.44530659e-04, 4.40507031e-04,\n",
       "       4.36518825e-04, 4.32565754e-04, 4.28647536e-04, 4.24763888e-04,\n",
       "       4.20914531e-04, 4.17099186e-04, 4.13317576e-04, 4.09569425e-04,\n",
       "       4.05854460e-04, 4.02172409e-04, 3.98523000e-04, 3.94905966e-04,\n",
       "       3.91321039e-04, 3.87767954e-04, 3.84246446e-04, 3.80756254e-04,\n",
       "       3.77297116e-04, 3.73868775e-04, 3.70470973e-04, 3.67103454e-04,\n",
       "       3.63765965e-04, 3.60458254e-04, 3.57180070e-04, 3.53931164e-04,\n",
       "       3.50711290e-04, 3.47520202e-04, 3.44357657e-04, 3.41223412e-04,\n",
       "       3.38117227e-04, 3.35038865e-04, 3.31988086e-04, 3.28964658e-04,\n",
       "       3.25968345e-04, 3.22998917e-04, 3.20056142e-04, 3.17139793e-04,\n",
       "       3.14249643e-04, 3.11385466e-04, 3.08547039e-04, 3.05734140e-04,\n",
       "       3.02946549e-04, 3.00184047e-04, 2.97446417e-04, 2.94733444e-04,\n",
       "       2.92044915e-04, 2.89380617e-04, 2.86740339e-04, 2.84123874e-04,\n",
       "       2.81531013e-04, 2.78961552e-04, 2.76415285e-04, 2.73892012e-04,\n",
       "       2.71391530e-04, 2.68913640e-04, 2.66458145e-04, 2.64024849e-04,\n",
       "       2.61613557e-04, 2.59224075e-04, 2.56856213e-04, 2.54509781e-04,\n",
       "       2.52184588e-04, 2.49880450e-04, 2.47597180e-04, 2.45334594e-04,\n",
       "       2.43092510e-04, 2.40870747e-04, 2.38669125e-04, 2.36487465e-04])"
      ]
     },
     "execution_count": 6,
     "metadata": {},
     "output_type": "execute_result"
    }
   ],
   "source": [
    "comp.noise_super"
   ]
  },
  {
   "cell_type": "code",
   "execution_count": 7,
   "metadata": {},
   "outputs": [],
   "source": [
    "?kontrol.core.frequency_series.noise_models.lvdt_noise"
   ]
  }
 ],
 "metadata": {
  "kernelspec": {
   "display_name": "Python 3",
   "language": "python",
   "name": "python3"
  },
  "language_info": {
   "codemirror_mode": {
    "name": "ipython",
    "version": 3
   },
   "file_extension": ".py",
   "mimetype": "text/x-python",
   "name": "python",
   "nbconvert_exporter": "python",
   "pygments_lexer": "ipython3",
   "version": "3.9.0"
  }
 },
 "nbformat": 4,
 "nbformat_minor": 4
}
