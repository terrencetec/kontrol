{
 "cells": [
  {
   "cell_type": "code",
   "execution_count": null,
   "metadata": {},
   "outputs": [],
   "source": [
    "import numpy as np\n",
    "import control\n",
    "\n",
    "import kontrol.core.frequency_series.frequency_series\n",
    "import kontrol.core.frequency_series.noise_models\n",
    "import kontrol.controlutils\n",
    "\n",
    "np.random.seed(123)\n",
    "\n",
    "f = np.linspace(1e-1, 1e2, 1000)\n",
    "s = 1j*2*np.pi*f\n",
    "\n",
    "##  Lag filter at 1 & 10 Hz.\n",
    "tf = (s/(2*np.pi*10) + 1)/(s/(2*np.pi*1) + 1)\n",
    "x = abs(tf)\n",
    "\n",
    "fs = kontrol.core.frequency_series.frequency_series.FrequencySeries(f, x)\n",
    "\n",
    "def model(f, f1, f2):\n",
    "    s = 1j*2*np.pi*f\n",
    "    tf = (s/(2*np.pi*f2) + 1)/(s/(2*np.pi*f1) + 1)\n",
    "    x = abs(tf)\n",
    "    return x\n",
    "\n",
    "fs.fit_empirical(model=model, optimizer_kwargs={\"options\":{\"maxfev\":1000000}})\n",
    "fs.fit_zpk(order=1)\n",
    "fs.fit_tf()"
   ]
  },
  {
   "cell_type": "code",
   "execution_count": 5,
   "metadata": {},
   "outputs": [
    {
     "data": {
      "text/plain": [
       "True"
      ]
     },
     "execution_count": 5,
     "metadata": {},
     "output_type": "execute_result"
    }
   ],
   "source": [
    "tf_correct = control.tf([1/(2*np.pi*10), 1], [1/(2*np.pi*1), 1])\n",
    "kontrol.controlutils.check_tf_equal(tf_correct, fs.tf)"
   ]
  },
  {
   "cell_type": "code",
   "execution_count": 2,
   "metadata": {},
   "outputs": [
    {
     "data": {
      "text/plain": [
       "True"
      ]
     },
     "execution_count": 2,
     "metadata": {},
     "output_type": "execute_result"
    }
   ],
   "source": []
  },
  {
   "cell_type": "code",
   "execution_count": 69,
   "metadata": {},
   "outputs": [
    {
     "data": {
      "text/plain": [
       "[<matplotlib.lines.Line2D at 0x7f2014102a60>]"
      ]
     },
     "execution_count": 69,
     "metadata": {},
     "output_type": "execute_result"
    },
    {
     "data": {
      "image/png": "[encoded data removed]",
      "text/plain": [
       "<Figure size 432x288 with 1 Axes>"
      ]
     },
     "metadata": {
      "needs_background": "light"
     },
     "output_type": "display_data"
    }
   ],
   "source": [
    "import matplotlib.pyplot as plt\n",
    "\n",
    "plt.loglog(f, x)\n",
    "# plt.loglog(fs.f, fs.x_empirical, \"o\")\n",
    "\n",
    "# plt.loglog(fs._f_processed, model(fs._f_processed, 1, 10), \"o\")\n",
    "plt.loglog(fs.f_zpk, abs(fs.x_zpk))\n",
    "plt.loglog(fs.f_tf, abs(fs.x_tf))"
   ]
  },
  {
   "cell_type": "code",
   "execution_count": 54,
   "metadata": {},
   "outputs": [
    {
     "data": {
      "text/plain": [
       "True"
      ]
     },
     "execution_count": 54,
     "metadata": {},
     "output_type": "execute_result"
    }
   ],
   "source": [
    "np.isclose(f[1]-f[0], f[2]-f[1])"
   ]
  },
  {
   "cell_type": "code",
   "execution_count": 26,
   "metadata": {
    "scrolled": true
   },
   "outputs": [
    {
     "data": {
      "text/plain": [
       "True"
      ]
     },
     "execution_count": 26,
     "metadata": {},
     "output_type": "execute_result"
    }
   ],
   "source": [
    "np.allclose(fs.args_empirical_model, [1,10])"
   ]
  },
  {
   "cell_type": "code",
   "execution_count": 27,
   "metadata": {},
   "outputs": [
    {
     "data": {
      "text/plain": [
       "array([1.        , 9.99999996])"
      ]
     },
     "execution_count": 27,
     "metadata": {},
     "output_type": "execute_result"
    }
   ],
   "source": [
    "fs.args_empirical_model"
   ]
  }
 ],
 "metadata": {
  "kernelspec": {
   "display_name": "Python 3",
   "language": "python",
   "name": "python3"
  },
  "language_info": {
   "codemirror_mode": {
    "name": "ipython",
    "version": 3
   },
   "file_extension": ".py",
   "mimetype": "text/x-python",
   "name": "python",
   "nbconvert_exporter": "python",
   "pygments_lexer": "ipython3",
   "version": "3.9.0"
  }
 },
 "nbformat": 4,
 "nbformat_minor": 4
}
