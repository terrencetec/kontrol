{
 "cells": [
  {
   "cell_type": "code",
   "execution_count": 11,
   "metadata": {
    "scrolled": false
   },
   "outputs": [],
   "source": [
    "import kontrol.core\n",
    "import control\n",
    "\n",
    "tf = control.ss2tf(control.rss(50))\n",
    "tf_list = kontrol.core.controlutils.tf_order_split(tf, max_order=5)"
   ]
  },
  {
   "cell_type": "code",
   "execution_count": 12,
   "metadata": {},
   "outputs": [
    {
     "data": {
      "text/plain": [
       "12"
      ]
     },
     "execution_count": 12,
     "metadata": {},
     "output_type": "execute_result"
    }
   ],
   "source": [
    "len(tf_list)"
   ]
  },
  {
   "cell_type": "code",
   "execution_count": 3,
   "metadata": {},
   "outputs": [],
   "source": [
    "import numpy as np\n",
    "tf_split = np.prod(tf_list)"
   ]
  },
  {
   "cell_type": "code",
   "execution_count": 4,
   "metadata": {},
   "outputs": [
    {
     "data": {
      "text/plain": [
       "array([-11.52289195+4.12001765j, -11.52289195-4.12001765j,\n",
       "       -11.70615077+0.j        ,  -1.14702668+9.24154926j,\n",
       "        -1.14702668-9.24154926j,  -7.43823371+0.j        ,\n",
       "        -1.71357634+5.62824963j,  -1.71357634-5.62824963j,\n",
       "        -1.64294995+5.57138843j,  -1.64294995-5.57138843j,\n",
       "        -1.25934231+5.20881147j,  -1.25934231-5.20881147j,\n",
       "        -1.1537709 +4.47871941j,  -1.1537709 -4.47871941j,\n",
       "        -3.43872428+1.87882315j,  -3.43872428-1.87882315j,\n",
       "        -3.14921412+1.71908614j,  -3.14921412-1.71908614j,\n",
       "        -3.30616172+0.j        ,  -2.87365357+0.j        ,\n",
       "        -2.63581382+0.29808046j,  -2.63581382-0.29808046j,\n",
       "        -0.11226145+2.04477561j,  -0.11226145-2.04477561j,\n",
       "        -0.61312407+1.94330072j,  -0.61312407-1.94330072j,\n",
       "        -0.46964899+1.89378192j,  -0.46964899-1.89378192j,\n",
       "        -1.97084747+0.27068979j,  -1.97084747-0.27068979j,\n",
       "        -0.31933716+1.03090978j,  -0.31933716-1.03090978j,\n",
       "        -1.09478378+0.92948761j,  -1.09478378-0.92948761j,\n",
       "        -1.45211987+0.19548113j,  -1.45211987-0.19548113j,\n",
       "        -0.88632925+0.68123007j,  -0.88632925-0.68123007j,\n",
       "        -0.95287441+0.61713334j,  -0.95287441-0.61713334j,\n",
       "        -1.13264437+0.07694303j,  -1.13264437-0.07694303j,\n",
       "        -0.56420793+0.41273121j,  -0.56420793-0.41273121j,\n",
       "        -0.80688981+0.j        ,  -0.72991397+0.j        ,\n",
       "        -0.65260118+0.j        ,  -0.26184795+0.j        ,\n",
       "        -0.24325712+0.j        ])"
      ]
     },
     "execution_count": 4,
     "metadata": {},
     "output_type": "execute_result"
    }
   ],
   "source": [
    "tf_split.pole()"
   ]
  },
  {
   "cell_type": "code",
   "execution_count": 5,
   "metadata": {
    "scrolled": false
   },
   "outputs": [
    {
     "data": {
      "text/plain": [
       "array([-11.52289195+4.12001765j, -11.52289195-4.12001765j,\n",
       "       -11.70615077+0.j        ,  -1.14702668+9.24154926j,\n",
       "        -1.14702668-9.24154926j,  -7.43823391+0.j        ,\n",
       "        -1.71357517+5.62824997j,  -1.71357517-5.62824997j,\n",
       "        -1.64295125+5.57138776j,  -1.64295125-5.57138776j,\n",
       "        -1.25934235+5.20881173j,  -1.25934235-5.20881173j,\n",
       "        -1.15377084+4.47871948j,  -1.15377084-4.47871948j,\n",
       "        -3.438874  +1.87878328j,  -3.438874  -1.87878328j,\n",
       "        -3.14904833+1.71934458j,  -3.14904833-1.71934458j,\n",
       "        -3.29633859+0.j        ,  -2.92632273+0.j        ,\n",
       "        -2.62579296+0.31949059j,  -2.62579296-0.31949059j,\n",
       "        -0.11226145+2.04477561j,  -0.11226145-2.04477561j,\n",
       "        -0.6131244 +1.94330069j,  -0.6131244 -1.94330069j,\n",
       "        -0.4696488 +1.89378198j,  -0.4696488 -1.89378198j,\n",
       "        -1.9812877 +0.30563008j,  -1.9812877 -0.30563008j,\n",
       "        -0.31933716+1.03090977j,  -0.31933716-1.03090977j,\n",
       "        -1.09473409+0.92940367j,  -1.09473409-0.92940367j,\n",
       "        -1.43891779+0.23483963j,  -1.43891779-0.23483963j,\n",
       "        -0.88611286+0.68137197j,  -0.88611286-0.68137197j,\n",
       "        -0.95323688+0.61647612j,  -0.95323688-0.61647612j,\n",
       "        -1.12413171+0.08340008j,  -1.12413171-0.08340008j,\n",
       "        -0.5642081 +0.41273061j,  -0.5642081 -0.41273061j,\n",
       "        -0.80614833+0.j        ,  -0.73027782+0.j        ,\n",
       "        -0.65256184+0.j        ,  -0.26184795+0.j        ,\n",
       "        -0.24325712+0.j        ])"
      ]
     },
     "execution_count": 5,
     "metadata": {},
     "output_type": "execute_result"
    }
   ],
   "source": [
    "tf.pole()"
   ]
  },
  {
   "cell_type": "code",
   "execution_count": 6,
   "metadata": {},
   "outputs": [
    {
     "ename": "NameError",
     "evalue": "name 'f' is not defined",
     "output_type": "error",
     "traceback": [
      "\u001b[0;31m--------------------------------------------------\u001b[0m",
      "\u001b[0;31mNameError\u001b[0m        Traceback (most recent call last)",
      "\u001b[0;32m<ipython-input-6-b214e62e12f6>\u001b[0m in \u001b[0;36m<module>\u001b[0;34m\u001b[0m\n\u001b[0;32m----> 1\u001b[0;31m \u001b[0mnp\u001b[0m\u001b[0;34m.\u001b[0m\u001b[0mallclose\u001b[0m\u001b[0;34m(\u001b[0m\u001b[0mnp\u001b[0m\u001b[0;34m.\u001b[0m\u001b[0mlog\u001b[0m\u001b[0;34m(\u001b[0m\u001b[0mtf\u001b[0m\u001b[0;34m(\u001b[0m\u001b[0;36m1j\u001b[0m\u001b[0;34m*\u001b[0m\u001b[0;36m2\u001b[0m\u001b[0;34m*\u001b[0m\u001b[0mnp\u001b[0m\u001b[0;34m.\u001b[0m\u001b[0mpi\u001b[0m\u001b[0;34m*\u001b[0m\u001b[0mf\u001b[0m\u001b[0;34m)\u001b[0m\u001b[0;34m)\u001b[0m\u001b[0;34m,\u001b[0m \u001b[0mnp\u001b[0m\u001b[0;34m.\u001b[0m\u001b[0mlog\u001b[0m\u001b[0;34m(\u001b[0m\u001b[0mtf_split\u001b[0m\u001b[0;34m(\u001b[0m\u001b[0;36m1j\u001b[0m\u001b[0;34m*\u001b[0m\u001b[0;36m2\u001b[0m\u001b[0;34m*\u001b[0m\u001b[0mnp\u001b[0m\u001b[0;34m.\u001b[0m\u001b[0mpi\u001b[0m\u001b[0;34m*\u001b[0m\u001b[0mf\u001b[0m\u001b[0;34m)\u001b[0m\u001b[0;34m)\u001b[0m\u001b[0;34m)\u001b[0m\u001b[0;34m\u001b[0m\u001b[0;34m\u001b[0m\u001b[0m\n\u001b[0m",
      "\u001b[0;31mNameError\u001b[0m: name 'f' is not defined"
     ]
    }
   ],
   "source": [
    "np.allclose(np.log(tf(1j*2*np.pi*f)), np.log(tf_split(1j*2*np.pi*f)))"
   ]
  },
  {
   "cell_type": "code",
   "execution_count": null,
   "metadata": {
    "scrolled": true
   },
   "outputs": [],
   "source": [
    "import matplotlib.pyplot as plt\n",
    "f = np.logspace(-3, 3, 100000)\n",
    "\n",
    "plt.loglog(f, abs(tf(1j*2*np.pi*f)))\n",
    "plt.loglog(f, abs(tf_split(1j*2*np.pi*f)))"
   ]
  },
  {
   "cell_type": "code",
   "execution_count": null,
   "metadata": {},
   "outputs": [],
   "source": [
    "tf.dcgain()"
   ]
  },
  {
   "cell_type": "code",
   "execution_count": null,
   "metadata": {},
   "outputs": [],
   "source": [
    "plt.semilogx(f, np.angle(tf(1j*2*np.pi*f)))\n",
    "plt.semilogx(f, np.angle(tf_split(1j*2*np.pi*f)))"
   ]
  },
  {
   "cell_type": "code",
   "execution_count": null,
   "metadata": {
    "scrolled": false
   },
   "outputs": [],
   "source": [
    "import kontrol\n",
    "import control\n",
    "import numpy as np\n",
    "import matplotlib.pyplot as plt\n",
    "import kontrol.frequency_series.noise_models\n",
    "\n",
    "# lvdt_noise = kontrol.core.frequency_series.noise_models()\n",
    "# lpf = control.tf([1], [1, 1])\n",
    "# hpf = 1 - lpf\n",
    "omega = np.logspace(-2,2,1000)\n",
    "f = omega/2/np.pi\n",
    "# lvdt_noise = kontrol.core.frequency_series.noise_models.lvdt_noise(f=f)\n",
    "# geophone_noise = kontrol.core.frequency_series.noise_models.geophone_noise(f=f)\n",
    "tf_noise1 = control.tf([1/10, 1], [1/0.1, 1]) *10\n",
    "tf_noise2 = control.tf([1/0.1, 1], [1/10, 1]) \n",
    "\n",
    "comp = kontrol.ComplementaryFilter(noise1=tf_noise1, noise2=tf_noise2)\n",
    "comp.hinfsynthesis()\n",
    "comp.f = f\n",
    "\n",
    "plt.loglog(omega, comp.noise1)\n",
    "plt.loglog(omega, comp.noise2)\n",
    "plt.loglog(omega, comp.noise_super)\n",
    "\n",
    "# comp = cm.ComplementaryFilter(noise1=lvdt_noise, noise2=geophone_noise, f=f, unit=\"omega\")\n",
    "\n",
    "# plt.loglog(omega, lvdt_noise)\n",
    "# plt.loglog(omega, geophone_noise)\n",
    "# plt.loglog(omega, abs(lpf(1j*omega)))\n",
    "# plt.loglog(omega, abs(hpf(1j*omega)))"
   ]
  },
  {
   "cell_type": "code",
   "execution_count": null,
   "metadata": {},
   "outputs": [],
   "source": [
    "comp.noise_super[400:600]"
   ]
  },
  {
   "cell_type": "code",
   "execution_count": null,
   "metadata": {
    "scrolled": true
   },
   "outputs": [],
   "source": [
    "new_omega = np.logspace(-3, 7, 1000000)\n",
    "# plt.loglog(comp.omega, abs(comp.filter1(1j*comp.omega)))\n",
    "plt.loglog(new_omega, abs(comp.filter2(1j*new_omega)))\n",
    "# plt.loglog(omega, abs(tf_travis(1j*omega)))\n",
    "plt.loglog(new_omega, abs((1-tf_travis)(1j*new_omega)))\n",
    "# tf_travis.pole()"
   ]
  },
  {
   "cell_type": "code",
   "execution_count": null,
   "metadata": {},
   "outputs": [],
   "source": [
    "tf_correct = control.tf([1, 2.08392466e+04, 1.58200377e+04, 2.53883414e+03, 1.16522184e+02], [1, 2.08679038e+04, 1.64005175e+04, 5.55127674e+03, 8.50146586e+02])\n",
    "import kontrol.core.controlutils\n",
    "\n",
    "kontrol.core.controlutils.check_tf_equal(tf_correct, comp[0, 0], allclose_kwargs={\"rtol\":1e-4})"
   ]
  },
  {
   "cell_type": "code",
   "execution_count": null,
   "metadata": {},
   "outputs": [],
   "source": [
    "tf_travis=control.tf([1.00000000e+00, 6.96103440e+03, 5.28422768e+03, 8.48018504e+02,3.89205080e+01], [1.00000000e+00, 6.97060626e+03, 5.47811529e+03, 1.85421249e+03,2.83960156e+02])"
   ]
  },
  {
   "cell_type": "code",
   "execution_count": null,
   "metadata": {},
   "outputs": [],
   "source": [
    "?kontrol.core.controlutils.check_tf_equal"
   ]
  },
  {
   "cell_type": "code",
   "execution_count": null,
   "metadata": {},
   "outputs": [],
   "source": [
    "tf_correct.dcgain()"
   ]
  },
  {
   "cell_type": "code",
   "execution_count": null,
   "metadata": {},
   "outputs": [],
   "source": [
    "tf_travis.pole()"
   ]
  },
  {
   "cell_type": "code",
   "execution_count": null,
   "metadata": {},
   "outputs": [],
   "source": [
    "comp[0, 0].pole()"
   ]
  },
  {
   "cell_type": "code",
   "execution_count": null,
   "metadata": {},
   "outputs": [],
   "source": [
    "import kontrol.core.complementary_filter.synthesis\n",
    "\n",
    "h1, h2 = kontrol.core.complementary_filter.synthesis.hinfcomplementary(tf_noise1, tf_noise2)\n",
    "\n",
    "plt.loglog(omega, abs(h1(1j*omega)))\n",
    "plt.loglog(omega, abs(h2(1j*omega)))"
   ]
  },
  {
   "cell_type": "code",
   "execution_count": null,
   "metadata": {},
   "outputs": [],
   "source": [
    "comp.noise1"
   ]
  },
  {
   "cell_type": "code",
   "execution_count": null,
   "metadata": {},
   "outputs": [],
   "source": [
    "comp.tf_noise1"
   ]
  },
  {
   "cell_type": "code",
   "execution_count": null,
   "metadata": {},
   "outputs": [],
   "source": [
    "comp.noise1"
   ]
  },
  {
   "cell_type": "code",
   "execution_count": null,
   "metadata": {},
   "outputs": [],
   "source": [
    "comp[0, 0]"
   ]
  },
  {
   "cell_type": "code",
   "execution_count": null,
   "metadata": {},
   "outputs": [],
   "source": [
    "tf_noise1 = control.tf([1/10, 1], [1/0.1, 1]) *10\n",
    "tf_noise2 = control.tf([1/0.1, 1], [1/10, 1]) \n",
    "\n",
    "comp = cm.ComplementaryFilter(noise1=tf_noise1, noise2=tf_noise2)\n",
    "comp.h2synthesis()\n",
    "\n",
    "\n",
    "plt.loglog(omega, abs(tf_noise1(omega*1j)))\n",
    "plt.loglog(omega, abs(tf_noise2(omega*1j)))"
   ]
  },
  {
   "cell_type": "code",
   "execution_count": null,
   "metadata": {},
   "outputs": [],
   "source": [
    "plt.loglog(omega, lvdt_noise)\n",
    "plt.loglog(omega, geophone_noise)\n",
    "plt.loglog(omega, comp.noise_super)\n",
    "# plt.loglog(omega, abs(lpf(1j*omega)))\n",
    "# plt.loglog(omega, abs(hpf(1j*omega)))"
   ]
  },
  {
   "cell_type": "code",
   "execution_count": null,
   "metadata": {},
   "outputs": [],
   "source": [
    "comp.noise_super"
   ]
  },
  {
   "cell_type": "code",
   "execution_count": null,
   "metadata": {},
   "outputs": [],
   "source": [
    "?kontrol.core.frequency_series.noise_models.lvdt_noise"
   ]
  },
  {
   "cell_type": "code",
   "execution_count": null,
   "metadata": {},
   "outputs": [],
   "source": [
    "import control\n",
    "import kontrol\n",
    "\n",
    "tf = control.tf([1], [2, 3])\n",
    "kontrol_tf = kontrol.TransferFunction(tf)\n",
    "n_correct = \"zpk([],[0.238732414637843],0.3333333333333333,\\\"n\\\")\"\n",
    "kontrol_tf_foton_n = kontrol_tf.foton()\n",
    "# kontrol_tf.foton = \"f\"\n",
    "f_correct = \"zpk([],[-0.238732414637843],-0.5,\\\"f\\\")\"\n",
    "kontrol_tf_foton_f = kontrol_tf.foton()\n",
    "# kontrol_tf.foton = \"s\"\n",
    "s_correct = \"zpk([],[-1.5],-0.5,\\\"s\\\")\"\n",
    "kontrol_tf_foton_s = kontrol_tf.foton()\n"
   ]
  },
  {
   "cell_type": "code",
   "execution_count": null,
   "metadata": {},
   "outputs": [],
   "source": [
    "kontrol_tf.foton(expression=\"zpk\", root_location=\"f\")"
   ]
  },
  {
   "cell_type": "code",
   "execution_count": null,
   "metadata": {},
   "outputs": [],
   "source": [
    "kontrol_tf.pole().real > 0"
   ]
  },
  {
   "cell_type": "code",
   "execution_count": null,
   "metadata": {},
   "outputs": [],
   "source": [
    "s = control.tf(\"s\")\n",
    "tf_unstable = (s-2) / (s-1) / (s**2-s+1)"
   ]
  },
  {
   "cell_type": "code",
   "execution_count": null,
   "metadata": {},
   "outputs": [],
   "source": [
    "kontrol_tf = kontrol.TransferFunction(tf_unstable)\n",
    "kontrol_tf.stabilize()\n",
    "kontrol_tf.zero().imag"
   ]
  },
  {
   "cell_type": "code",
   "execution_count": null,
   "metadata": {},
   "outputs": [],
   "source": [
    "tf_unstable.zero()"
   ]
  },
  {
   "cell_type": "code",
   "execution_count": null,
   "metadata": {},
   "outputs": [],
   "source": [
    "import numpy as np\n",
    "a = [1,2,3,4,5,6,7,8,9,10]\n",
    "step = 7\n",
    "for i in range(0,10,step):\n",
    "    print(a[i:i+step])"
   ]
  },
  {
   "cell_type": "code",
   "execution_count": null,
   "metadata": {},
   "outputs": [],
   "source": [
    "?range"
   ]
  },
  {
   "cell_type": "code",
   "execution_count": null,
   "metadata": {},
   "outputs": [],
   "source": [
    "tf = 1/(s**2 + 10/3.14*s + 10**2)\n",
    "tf.pole()"
   ]
  },
  {
   "cell_type": "code",
   "execution_count": null,
   "metadata": {},
   "outputs": [],
   "source": [
    "wn = abs(tf.pole()[0])\n",
    "q = wn/(-2*tf.pole()[0].real)\n",
    "q"
   ]
  }
 ],
 "metadata": {
  "kernelspec": {
   "display_name": "Python 3",
   "language": "python",
   "name": "python3"
  },
  "language_info": {
   "codemirror_mode": {
    "name": "ipython",
    "version": 3
   },
   "file_extension": ".py",
   "mimetype": "text/x-python",
   "name": "python",
   "nbconvert_exporter": "python",
   "pygments_lexer": "ipython3",
   "version": "3.8.10"
  }
 },
 "nbformat": 4,
 "nbformat_minor": 4
}
