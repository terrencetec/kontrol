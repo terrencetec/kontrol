{
 "cells": [
  {
   "cell_type": "code",
   "execution_count": 1,
   "metadata": {},
   "outputs": [],
   "source": [
    "# > w1 = 2*pi*0.008; x1 = 0.35;\n",
    "# > w2 = 2*pi*0.04;  x2 = 0.5;\n",
    "# > w3 = 2*pi*0.05;  x3 = 0.5;\n",
    "# >\n",
    "# > % Slope of +3 from w1\n",
    "# > wH = 0.008*(s^2/w1^2 + 2*x1/w1*s + 1)*(s/w1 + 1);\n",
    "# > % Little bump from w2 to w3\n",
    "# > wH = wH*(s^2/w2^2 + 2*x2/w2*s + 1)/(s^2/w3^2 + 2*x3/w3*s + 1);\n",
    "# > % No Slope at high frequencies\n",
    "# > wH = wH/(s^2/w3^2 + 2*x3/w3*s + 1)/(s/w3 + 1);\n",
    "# > % Little bump between w2 and w3\n",
    "# > w0 = 2*pi*0.045; xi = 0.1; A = 2; n = 1;\n",
    "# > wH = wH*((s^2 + 2*w0*xi*A^(1/n)*s + w0^2)/(s^2 + 2*w0*xi*s + w0^2))^n;\n",
    "# >\n",
    "# > wH = 1/wH;\n",
    "# > wH = minreal(ss(wH));\n",
    "# >\n",
    "# > n = 20; Rp = 1; Wp = 2*pi*0.102;\n",
    "# > [b,a] = cheby1(n, Rp, Wp, 'high', 's');\n",
    "# > wL = 0.04*tf(a, b);\n",
    "# >\n",
    "# > wL = 1/wL;\n",
    "# > wL = minreal(ss(wL));"
   ]
  },
  {
   "cell_type": "code",
   "execution_count": 2,
   "metadata": {},
   "outputs": [],
   "source": [
    "import numpy as np\n",
    "from numpy import pi\n",
    "from control import *\n",
    "import matplotlib.pyplot as plt\n",
    "from scipy.signal import cheby1"
   ]
  },
  {
   "cell_type": "code",
   "execution_count": 3,
   "metadata": {},
   "outputs": [],
   "source": [
    "?cheby1"
   ]
  },
  {
   "cell_type": "code",
   "execution_count": 4,
   "metadata": {},
   "outputs": [],
   "source": [
    "w1 = 2*pi*0.008; x1 = 0.35;\n",
    "w2 = 2*pi*0.03;  x2 = 0.5;\n",
    "w3 = 2*pi*0.04;  x3 = 0.5;\n",
    "# wH = 0.008*(s**2/w1**2 + 2*x1/w1*s + 1)*(s/w1 + 1);\n",
    "wH = 0.012*tf([1/w1**2, 2*x1/w1, 1], [1]) * tf([1/w1, 1],[1])\n",
    "\n",
    "# wH = wH*(s^2/w2^2 + 2*x2/w2*s + 1)/(s^2/w3^2 + 2*x3/w3*s + 1);\n",
    "wH *= tf([1/w2**2, 2*x2/w2, 1], [1/w2**2, 2*x2/w2, 1])\n",
    "\n",
    "# wH = wH/(s**2/w3**2 + 2*x3/w3*s + 1)/(s/w3 + 1);\n",
    "wH *= tf([1], [1/w3**2, 2*x3/w3, 1]) * tf([1], [1/w3, 1])\n",
    "\n",
    "w0 = 2*pi*0.035; xi = 0.1; A = 2; n = 1;\n",
    "# wH = wH*((s**2 + 2*w0*xi*A**(1/n)*s + w0**2)/(s**2 + 2*w0*xi*s + w0**2))**n;\n",
    "wH *= tf([1, 2*w0*xi*A**(1/n), w0**2],[1, 2*w0*xi, w0**2])**n\n",
    "\n",
    "wH = 1/wH;\n",
    "# wH=wH.minreal()\n",
    "# > n = 20; Rp = 1; Wp = 2*pi*0.102;\n",
    "# > [b,a] = cheby1(n, Rp, Wp, 'high', 's');\n",
    "n = 20; Rp = 1; Wp = 2*pi*0.102;\n",
    "b, a = cheby1(n, Rp, Wp, 'high', analog= True);\n",
    "wL = tf(a, b)*tf([0.25],[1])\n",
    "wL = 1/wL\n",
    "# wL=wL.minreal()"
   ]
  },
  {
   "cell_type": "code",
   "execution_count": 5,
   "metadata": {},
   "outputs": [
    {
     "data": {
      "text/plain": [
       "<matplotlib.legend.Legend at 0x7fc279be0940>"
      ]
     },
     "execution_count": 5,
     "metadata": {},
     "output_type": "execute_result"
    },
    {
     "data": {
      "image/png": "[encoded data removed]",
      "text/plain": [
       "<Figure size 864x360 with 1 Axes>"
      ]
     },
     "metadata": {
      "needs_background": "light"
     },
     "output_type": "display_data"
    }
   ],
   "source": [
    "f = np.linspace(1e-4, 10 ,100000)\n",
    "plt.figure(figsize=[12,5])\n",
    "plt.loglog(f, abs(1/wH.horner(2*np.pi*1j*f)[0][0]), label='$|W_H|^{-1}$')\n",
    "plt.loglog(f, abs(1/wL.horner(2*np.pi*1j*f)[0][0]), label='$|W_L|^{-1}$')\n",
    "plt.ylim(5e-3, 2e1)\n",
    "plt.ylabel('Magnitude')\n",
    "plt.xlabel('Frequency (Hz)')\n",
    "plt.grid()\n",
    "plt.legend(loc=0)\n",
    "# abs(wH.horner(2*np.pi*1j*f)[0][0])[-1]"
   ]
  },
  {
   "cell_type": "code",
   "execution_count": 6,
   "metadata": {},
   "outputs": [],
   "source": [
    "P=[[tf([0],[1]), wL],[wH, -wH],[tf([1],[1]),tf([0],[1])]]\n",
    "# tf(P)\n",
    "aug_P_num = list(np.zeros_like(P))\n",
    "aug_P_den = list(np.zeros_like(P))\n",
    "for i in range(len(P)):\n",
    "    for j in range(len(P[i])):\n",
    "#         print(P[i][j])\n",
    "        aug_P_num[i][j] = list(P[i][j].num[0][0])\n",
    "        aug_P_den[i][j] = list(P[i][j].den[0][0])\n",
    "    aug_P_num[i]=list(aug_P_num[i])\n",
    "    aug_P_den[i]=list(aug_P_den[i])\n",
    "aug_P=tf(aug_P_num, aug_P_den)\n",
    "# plt.loglog(f, abs(aug_P.horner(2*pi*1j*f)[0][0]))\n",
    "# plt.loglog(f, abs(wL.horner(2*pi*1j*f)[0][0]))\n",
    "# aug_P.pole\n",
    "# list(aug_P_num)\n",
    "# wL.num[0][0]\n",
    "# aug_P_num[0]\n",
    "# K, CL, gam, rcond=hinfsyn(ss(aug_P), 1, 1)\n",
    "K=h2syn(ss(aug_P), 1, 1)"
   ]
  },
  {
   "cell_type": "code",
   "execution_count": 7,
   "metadata": {
    "scrolled": true
   },
   "outputs": [
    {
     "ename": "NameError",
     "evalue": "name 'gam' is not defined",
     "output_type": "error",
     "traceback": [
      "\u001b[0;31m---------------------------------------------------------------------------\u001b[0m",
      "\u001b[0;31mNameError\u001b[0m                                 Traceback (most recent call last)",
      "\u001b[0;32m<ipython-input-7-5959c2e95c39>\u001b[0m in \u001b[0;36m<module>\u001b[0;34m\u001b[0m\n\u001b[0;32m----> 1\u001b[0;31m \u001b[0mgam\u001b[0m\u001b[0;34m\u001b[0m\u001b[0;34m\u001b[0m\u001b[0m\n\u001b[0m",
      "\u001b[0;31mNameError\u001b[0m: name 'gam' is not defined"
     ]
    }
   ],
   "source": []
  },
  {
   "cell_type": "code",
   "execution_count": 8,
   "metadata": {},
   "outputs": [
    {
     "ename": "NameError",
     "evalue": "name 'HH' is not defined",
     "output_type": "error",
     "traceback": [
      "\u001b[0;31m---------------------------------------------------------------------------\u001b[0m",
      "\u001b[0;31mNameError\u001b[0m                                 Traceback (most recent call last)",
      "\u001b[0;32m<ipython-input-8-c2382536e8bc>\u001b[0m in \u001b[0;36m<module>\u001b[0;34m\u001b[0m\n\u001b[0;32m----> 1\u001b[0;31m \u001b[0mHH\u001b[0m\u001b[0;34m.\u001b[0m\u001b[0mzero\u001b[0m\u001b[0;34m(\u001b[0m\u001b[0;34m)\u001b[0m\u001b[0;34m\u001b[0m\u001b[0;34m\u001b[0m\u001b[0m\n\u001b[0m",
      "\u001b[0;31mNameError\u001b[0m: name 'HH' is not defined"
     ]
    }
   ],
   "source": [
    "HH.zero()"
   ]
  },
  {
   "cell_type": "code",
   "execution_count": 9,
   "metadata": {
    "scrolled": true
   },
   "outputs": [
    {
     "data": {
      "text/plain": [
       "<matplotlib.legend.Legend at 0x7fc2321785b0>"
      ]
     },
     "execution_count": 9,
     "metadata": {},
     "output_type": "execute_result"
    },
    {
     "data": {
      "image/png": "[encoded data removed]",
      "text/plain": [
       "<Figure size 720x360 with 2 Axes>"
      ]
     },
     "metadata": {
      "needs_background": "light"
     },
     "output_type": "display_data"
    }
   ],
   "source": [
    "f = np.linspace(1e-3, 1 ,10000)\n",
    "\n",
    "HH=ss2tf(K)\n",
    "HL=1-HH\n",
    "plt.figure(figsize=[10,5])\n",
    "plt.subplot(211)\n",
    "plt.loglog(f, abs(HH.horner(2*np.pi*1j*f)[0][0]), label='$H_\\mathrm{H}$')\n",
    "plt.loglog(f, abs(HL.horner(2*np.pi*1j*f)[0][0]), label='$H_\\mathrm{L}$')\n",
    "plt.hlines(1.8, min(f), max(f))\n",
    "plt.ylim(2e-3, 10e0)\n",
    "plt.ylabel('Magnitude')\n",
    "plt.xlabel('Frequency (Hz)')\n",
    "plt.grid()\n",
    "plt.legend(loc=0)\n",
    "plt.subplot(212)\n",
    "# plt.figure(figsize=[12,5])\n",
    "plt.semilogx(f, np.angle(HH.horner(2*np.pi*1j*f)[0][0]), label='$H_\\mathrm{H}$')\n",
    "plt.semilogx(f, np.angle(HL.horner(2*np.pi*1j*f)[0][0]), label='$H_\\mathrm{L}$')\n",
    "plt.ylabel('phase')\n",
    "plt.xlabel('Frequency (Hz)')\n",
    "plt.grid()\n",
    "plt.legend(loc=0)"
   ]
  },
  {
   "cell_type": "code",
   "execution_count": null,
   "metadata": {},
   "outputs": [],
   "source": []
  },
  {
   "cell_type": "code",
   "execution_count": null,
   "metadata": {},
   "outputs": [],
   "source": [
    "from kontrol import tfmatrix2tf\n",
    "from control import h2syn, tf2ss, tf, hinfsyn\n",
    "def h2complementary(n1, n2):\n",
    "    p = [[tf([0],[1]), n2, tf([1],[1])],\n",
    "         [n1, -n2, tf([0],[1])]]\n",
    "#     p = [[n1, -n1],\n",
    "#          [tf([0],[1]), n2],\n",
    "#          [tf([1],[1]), tf([0],[1])]]\n",
    "    p = tfmatrix2tf(p)\n",
    "    k1 = h2syn(ss(p), 1, 1)\n",
    "#     k1,_,_ = hinfsyn(tf2ss(p), nmeas=1, ncon=1)\n",
    "    return(k1)"
   ]
  },
  {
   "cell_type": "code",
   "execution_count": null,
   "metadata": {},
   "outputs": [],
   "source": [
    "?h2syn"
   ]
  },
  {
   "cell_type": "code",
   "execution_count": null,
   "metadata": {},
   "outputs": [],
   "source": [
    "import numpy as np\n",
    "from numpy import pi\n",
    "omegac = 100*2*pi; G0 = 1e-5; Ginf = 1e-4;\n",
    "# N1 = (Ginf*s/omegac + G0)/(s/omegac + 1)/(1 + s/2/pi/100);\n",
    "n1 = tf([Ginf/omegac, G0],[1/omegac, 1])*tf([1], [1/2/np.pi/100, 1])\n",
    "omegac = 1*2*pi; G0 = 1e-3; Ginf = 1e-8;\n",
    "# N2 = ((sqrt(Ginf)*s/omegac + sqrt(G0))/(s/omegac + 1))^2/(1 + s/2/pi/4000)^2;\n",
    "n2 = tf([np.sqrt(Ginf)/omegac, np.sqrt(G0)], [1/omegac, 1])**2 * tf([1], [1/2/np.pi/4000, 1])**2"
   ]
  },
  {
   "cell_type": "code",
   "execution_count": null,
   "metadata": {},
   "outputs": [],
   "source": [
    "# n1*=tf([1/(2*np.pi*1e4), 1],[1])\n",
    "n3=n1*tf([1/(2*np.pi*1e4), 1],[1])"
   ]
  },
  {
   "cell_type": "code",
   "execution_count": null,
   "metadata": {
    "scrolled": false
   },
   "outputs": [],
   "source": [
    "f = np.linspace(1e-1, 1e3, 10000)\n",
    "import matplotlib.pyplot as plt\n",
    "plt.loglog(f, abs(n1.horner(2*np.pi*1j*f)[0][0]))\n",
    "plt.loglog(f, abs(n3.horner(2*np.pi*1j*f)[0][0]),'--',label='modified')\n",
    "plt.loglog(f, abs(n2.horner(2*np.pi*1j*f)[0][0]))\n",
    "plt.legend(loc=0)\n",
    "plt.grid()\n",
    "plt.title('noises')"
   ]
  },
  {
   "cell_type": "code",
   "execution_count": null,
   "metadata": {
    "scrolled": true
   },
   "outputs": [],
   "source": [
    "k1=h2complementary(n3, n2)\n",
    "k1=tf(k1)\n",
    "k1"
   ]
  },
  {
   "cell_type": "code",
   "execution_count": null,
   "metadata": {
    "scrolled": true
   },
   "outputs": [],
   "source": [
    "k1.zero()"
   ]
  },
  {
   "cell_type": "code",
   "execution_count": null,
   "metadata": {},
   "outputs": [],
   "source": [
    "k2.zero()"
   ]
  },
  {
   "cell_type": "code",
   "execution_count": null,
   "metadata": {
    "scrolled": false
   },
   "outputs": [],
   "source": [
    "k2=1-k1\n",
    "plt.loglog(f, abs(k1.horner(2*np.pi*1j*f)[0][0]))\n",
    "plt.loglog(f, abs(k2.horner(2*np.pi*1j*f)[0][0]))\n",
    "plt.legend(loc=0)\n",
    "plt.grid()\n",
    "plt.title('complementary filters')"
   ]
  },
  {
   "cell_type": "code",
   "execution_count": null,
   "metadata": {},
   "outputs": [],
   "source": [
    "from kontrol import quad_sum"
   ]
  },
  {
   "cell_type": "code",
   "execution_count": null,
   "metadata": {},
   "outputs": [],
   "source": [
    "plt.loglog(f, abs(n1.horner(2*np.pi*1j*f)[0][0]))\n",
    "plt.loglog(f, abs(n2.horner(2*np.pi*1j*f)[0][0]))\n",
    "plt.loglog(f, quad_sum(abs(n1.horner(2*np.pi*1j*f)[0][0])*abs(k1.horner(2*np.pi*1j*f)[0][0]),\n",
    "                      abs(k2.horner(2*np.pi*1j*f)[0][0])*abs(n2.horner(2*np.pi*1j*f)[0][0])), label='Quadrature sum of filtered noises')\n"
   ]
  }
 ],
 "metadata": {
  "kernelspec": {
   "display_name": "Python 3 (ipykernel)",
   "language": "python",
   "name": "python3"
  },
  "language_info": {
   "codemirror_mode": {
    "name": "ipython",
    "version": 3
   },
   "file_extension": ".py",
   "mimetype": "text/x-python",
   "name": "python",
   "nbconvert_exporter": "python",
   "pygments_lexer": "ipython3",
   "version": "3.10.4"
  }
 },
 "nbformat": 4,
 "nbformat_minor": 4
}
