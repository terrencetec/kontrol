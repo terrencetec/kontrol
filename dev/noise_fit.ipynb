{
 "cells": [
  {
   "cell_type": "code",
   "execution_count": 1,
   "metadata": {
    "scrolled": true
   },
   "outputs": [
    {
     "data": {
      "text/plain": [
       "<module 'kontrol.utils' from '/home/terrencetec/miniconda3/envs/kontrol/lib/python3.9/site-packages/kontrol/utils.py'>"
      ]
     },
     "execution_count": 1,
     "metadata": {},
     "output_type": "execute_result"
    }
   ],
   "source": [
    "import dtt2hdf\n",
    "import vishack.data.diaggui\n",
    "import numpy as np\n",
    "import kontrol.model.fit\n",
    "import importlib\n",
    "importlib.reload(kontrol.model.fit)\n",
    "from scipy.optimize import minimize\n",
    "import matplotlib.pyplot as plt\n",
    "import control\n",
    "import kontrol.core.noise\n",
    "importlib.reload(kontrol.core.noise)\n",
    "import kontrol.utils\n",
    "importlib.reload(kontrol.utils)\n"
   ]
  },
  {
   "cell_type": "code",
   "execution_count": 2,
   "metadata": {},
   "outputs": [],
   "source": [
    "dg = vishack.data.diaggui.Diaggui('data/SR2_IP_noise_20200720a.xml')\n",
    "\n",
    "f, lvdt_data = dg.psd('K1:VIS-SR2_IP_BLEND_LVDTL_IN1')\n",
    "_, geo_data = dg.psd('K1:VIS-SR2_IP_BLEND_ACCL_IN1')\n",
    "_, coh = dg.coh('K1:VIS-SR2_IP_BLEND_LVDTL_IN1', 'K1:VIS-SR2_IP_BLEND_ACCL_IN1')\n",
    "\n"
   ]
  },
  {
   "cell_type": "code",
   "execution_count": 3,
   "metadata": {},
   "outputs": [],
   "source": [
    "lvdt_noise_log = kontrol.core.noise.Noise(f=f, asd=lvdt_data, coh=coh, label='SR2 LVDT noise with log parameters')\n",
    "# lvdt_noise_log.weight = 1/lvdt_noise_log.f\n",
    "# lvdt_noise = kontrol.core.noise.Noise(f=f, asd=lvdt_data, coh=coh, label='SR2 LVDT noise without log parameters')\n",
    "# lvdt_noise.log_params=False\n",
    "# lvdt_noise.weight = 1/lvdt_noise.f"
   ]
  },
  {
   "cell_type": "code",
   "execution_count": 4,
   "metadata": {
    "scrolled": true
   },
   "outputs": [
    {
     "data": {
      "application/vnd.jupyter.widget-view+json": {
       "model_id": "ad5072be56f0489999300a5375ca2294",
       "version_major": 2,
       "version_minor": 0
      },
      "text/plain": [
       "HBox(children=(HTML(value='Current order'), FloatProgress(value=1.0, bar_style='info', layout=Layout(width='20…"
      ]
     },
     "metadata": {},
     "output_type": "display_data"
    },
    {
     "data": {
      "application/vnd.jupyter.widget-view+json": {
       "model_id": "556dd43757134e318c59f8d356b2b50d",
       "version_major": 2,
       "version_minor": 0
      },
      "text/plain": [
       "HBox(children=(HTML(value='5th-order fits'), FloatProgress(value=0.0, max=3.0), HTML(value='')))"
      ]
     },
     "metadata": {},
     "output_type": "display_data"
    },
    {
     "name": "stderr",
     "output_type": "stream",
     "text": [
      "/home/terrencetec/miniconda3/envs/kontrol/lib/python3.9/site-packages/scipy/optimize/_differentialevolution.py:495: UserWarning: differential_evolution: the 'workers' keyword has overridden updating='immediate' to updating='deferred'\n",
      "  warnings.warn(\"differential_evolution: the 'workers' keyword has\"\n"
     ]
    },
    {
     "name": "stdout",
     "output_type": "stream",
     "text": [
      "\n"
     ]
    },
    {
     "data": {
      "application/vnd.jupyter.widget-view+json": {
       "model_id": "02db27b0e05a440ab46d446f2e58141b",
       "version_major": 2,
       "version_minor": 0
      },
      "text/plain": [
       "HBox(children=(HTML(value='6th-order fits'), FloatProgress(value=0.0, max=3.0), HTML(value='')))"
      ]
     },
     "metadata": {},
     "output_type": "display_data"
    },
    {
     "name": "stdout",
     "output_type": "stream",
     "text": [
      "\n"
     ]
    },
    {
     "data": {
      "application/vnd.jupyter.widget-view+json": {
       "model_id": "63ca15d3fce74414b94071246dd7e994",
       "version_major": 2,
       "version_minor": 0
      },
      "text/plain": [
       "HBox(children=(HTML(value='7th-order fits'), FloatProgress(value=0.0, max=3.0), HTML(value='')))"
      ]
     },
     "metadata": {},
     "output_type": "display_data"
    },
    {
     "name": "stdout",
     "output_type": "stream",
     "text": [
      "\n"
     ]
    },
    {
     "data": {
      "application/vnd.jupyter.widget-view+json": {
       "model_id": "c0ae7f903d2f4640997c8609cdad0f3d",
       "version_major": 2,
       "version_minor": 0
      },
      "text/plain": [
       "HBox(children=(HTML(value='8th-order fits'), FloatProgress(value=0.0, max=3.0), HTML(value='')))"
      ]
     },
     "metadata": {},
     "output_type": "display_data"
    },
    {
     "name": "stdout",
     "output_type": "stream",
     "text": [
      "\n"
     ]
    },
    {
     "data": {
      "application/vnd.jupyter.widget-view+json": {
       "model_id": "f0e2d88c11b94481b5ada82001774641",
       "version_major": 2,
       "version_minor": 0
      },
      "text/plain": [
       "HBox(children=(HTML(value='9th-order fits'), FloatProgress(value=0.0, max=3.0), HTML(value='')))"
      ]
     },
     "metadata": {},
     "output_type": "display_data"
    },
    {
     "name": "stdout",
     "output_type": "stream",
     "text": [
      "\n"
     ]
    },
    {
     "data": {
      "application/vnd.jupyter.widget-view+json": {
       "model_id": "4e14808b9b6640688e74f9447608cac8",
       "version_major": 2,
       "version_minor": 0
      },
      "text/plain": [
       "HBox(children=(HTML(value='10th-order fits'), FloatProgress(value=0.0, max=3.0), HTML(value='')))"
      ]
     },
     "metadata": {},
     "output_type": "display_data"
    },
    {
     "name": "stdout",
     "output_type": "stream",
     "text": [
      "\n",
      "\n"
     ]
    }
   ],
   "source": [
    "lvdt_noise_log.fit(order_bound=(5,10), nfits=3)\n",
    "# lvdt_noise.fit(order_bound=(5,5), nfits=3)"
   ]
  },
  {
   "cell_type": "code",
   "execution_count": 5,
   "metadata": {
    "scrolled": true
   },
   "outputs": [
    {
     "data": {
      "text/plain": [
       "[[     fun: 1.291853075131476e-06\n",
       "   message: 'Optimization terminated successfully.'\n",
       "      nfev: 76242\n",
       "       nit: 461\n",
       "   success: True\n",
       "         x: array([-1.05069435, -1.09322845,  1.3172761 , -1.08549321, -1.01630386,\n",
       "         -1.62076557,  1.17105363, -1.63935943, -1.68927835, -1.67399675,\n",
       "          0.79027223]),\n",
       "       fun: 1.2897419212743174e-06\n",
       "   message: 'Optimization terminated successfully.'\n",
       "      nfev: 78057\n",
       "       nit: 472\n",
       "   success: True\n",
       "         x: array([-1.05661479,  1.58844119, -1.01400772, -1.09521467, -1.07937729,\n",
       "         -1.66078228,  1.20389476, -1.65567084, -1.61287605, -1.68037039,\n",
       "          0.78974344]),\n",
       "       fun: 1.4421317673246422e-06\n",
       "   message: 'Optimization terminated successfully.'\n",
       "      nfev: 34662\n",
       "       nit: 209\n",
       "   success: True\n",
       "         x: array([-0.93348506, -0.94581919, -0.9037008 ,  1.9804882 ,  1.08097562,\n",
       "          1.09771835, -1.74553267,  1.69386045, -1.75163472, -1.73436797,\n",
       "          0.80958244])],\n",
       " [     fun: 1.27973125169559e-06\n",
       "   message: 'Optimization terminated successfully.'\n",
       "      nfev: 106289\n",
       "       nit: 544\n",
       "   success: True\n",
       "         x: array([-0.87315492, -1.08670182, -0.93819696, -1.00224626, -0.97856144,\n",
       "          1.70360814, -1.6401102 , -0.61167848,  1.05269832, -1.64679727,\n",
       "         -1.651453  , -1.62929098,  0.78243485]),\n",
       "       fun: 1.2817050967722929e-06\n",
       "   message: 'Optimization terminated successfully.'\n",
       "      nfev: 176294\n",
       "       nit: 903\n",
       "   success: True\n",
       "         x: array([-0.94327687, -1.10746059, -0.81062273, -1.0498928 ,  2.70100037,\n",
       "         -0.95342279, -1.6380106 , -1.64311028, -0.61838656,  2.56849631,\n",
       "         -1.6648043 , -1.63915038,  0.78914721]),\n",
       "       fun: 1.2896630232769511e-06\n",
       "   message: 'Optimization terminated successfully.'\n",
       "      nfev: 128909\n",
       "       nit: 660\n",
       "   success: True\n",
       "         x: array([-1.06909107, -1.03304292,  2.50799093, -1.06047385, -1.04963563,\n",
       "          1.63682902, -1.68121232, -1.61016696, -1.65562289, -1.65675188,\n",
       "          1.56608039,  2.78300564,  0.79200334])],\n",
       " [     fun: 1.4164294673295347e-06\n",
       "   message: 'Optimization terminated successfully.'\n",
       "      nfev: 92716\n",
       "       nit: 411\n",
       "   success: True\n",
       "         x: array([ 0.32981306, -0.86557442,  0.58972139, -0.78755838, -0.87705593,\n",
       "          2.92311664, -0.71312289, -1.74258324, -0.19736929, -1.74239107,\n",
       "          0.26730739,  2.08013909, -1.72087258,  0.31499107,  0.80377747]),\n",
       "       fun: 8.160107941964326e-07\n",
       "   message: 'Optimization terminated successfully.'\n",
       "      nfev: 340216\n",
       "       nit: 1511\n",
       "   success: True\n",
       "         x: array([-1.23112944, -1.18786553, -1.13522496, -1.25061035,  1.3455708 ,\n",
       "         -1.0925456 , -3.01405734,  1.04542875, -1.73058753, -1.71838405,\n",
       "         -1.77183959, -1.73880449, -1.71923452, -1.75877797, -0.01997279]),\n",
       "       fun: 1.2777506061931958e-06\n",
       "   message: 'Optimization terminated successfully.'\n",
       "      nfev: 229966\n",
       "       nit: 1021\n",
       "   success: True\n",
       "         x: array([-0.72322959, -1.02462568, -1.12819581,  1.06957131, -0.9619015 ,\n",
       "          0.32779817, -0.97234328, -0.03740066,  1.32903772, -1.648504  ,\n",
       "         -1.68506298, -1.62612447, -0.36194197, -1.64370292,  0.79380608])],\n",
       " [     fun: 7.223570777864739e-07\n",
       "   message: 'Optimization terminated successfully.'\n",
       "      nfev: 1247733\n",
       "       nit: 4892\n",
       "   success: True\n",
       "         x: array([-1.09536756,  2.98835973, -1.17874708,  2.91514632, -2.93675235,\n",
       "         -3.05814346, -1.06277585, -1.11587078, -1.87286907, -1.86706994,\n",
       "          2.89035443,  2.97172763, -1.85449218, -1.87446605, -1.91729442,\n",
       "         -1.89058038, -0.72624464]),\n",
       "       fun: 1.2163688835601715e-06\n",
       "   message: 'Optimization terminated successfully.'\n",
       "      nfev: 440148\n",
       "       nit: 1725\n",
       "   success: True\n",
       "         x: array([-1.08826985, -1.00826427, -1.08191597, -1.12175866,  1.59326875,\n",
       "         -1.02876695, -1.03479373,  0.2885198 , -1.64350936, -1.58715561,\n",
       "         -0.63917919, -1.56835295, -1.56489772,  0.0636348 ,  1.61251864,\n",
       "         -1.60299924,  0.78714855]),\n",
       "       fun: 8.097583796295855e-07\n",
       "   message: 'Optimization terminated successfully.'\n",
       "      nfev: 820098\n",
       "       nit: 3215\n",
       "   success: True\n",
       "         x: array([-1.16805488, -1.18583361, -1.25335589, -1.20086756, -3.0973459 ,\n",
       "          1.9404165 , -1.12105884,  0.75461502, -1.76153359,  0.49108269,\n",
       "         -1.76754733, -1.70349024, -1.73087546, -1.73783588, -1.7287138 ,\n",
       "          2.57154809, -0.10640789])],\n",
       " [     fun: 1.0299414034169397e-06\n",
       "   message: 'Maximum number of iterations has been exceeded.'\n",
       "      nfev: 5985305\n",
       "       nit: 21000\n",
       "   success: False\n",
       "         x: array([-0.93603342, -1.09027459,  1.8756716 , -1.31505596, -0.99904596,\n",
       "         -1.27070575,  0.76904212, -2.58681613, -0.62877926, -0.32162009,\n",
       "         -1.73923595,  0.48124588, -1.7605182 ,  2.06037055, -1.46283194,\n",
       "         -1.80060923, -1.81057177, -1.69787571,  0.40541706]),\n",
       "       fun: 6.270513190180306e-07\n",
       "   message: 'Optimization terminated successfully.'\n",
       "      nfev: 3079730\n",
       "       nit: 10805\n",
       "   success: True\n",
       "         x: array([ 0.06341072, -1.21854695, -1.18344116, -1.20184572, -2.97988303,\n",
       "          2.55355749, -1.25762564, -3.0749108 , -1.20328484, -1.85691665,\n",
       "          1.95552443, -1.84521394, -0.11800501, -1.8205387 , -1.8688598 ,\n",
       "         -1.80964653, -1.79379183, -1.79191645, -0.81802918]),\n",
       "       fun: 7.696219493579935e-07\n",
       "   message: 'Optimization terminated successfully.'\n",
       "      nfev: 1052525\n",
       "       nit: 3692\n",
       "   success: True\n",
       "         x: array([-1.29415499, -1.24133575, -0.06177045, -3.02306392, -1.15507683,\n",
       "         -1.23163908,  0.55370299, -1.33604168, -1.18707769, -1.66515992,\n",
       "         -1.72840263, -1.72641562, -0.22296962, -1.72992069, -1.68049923,\n",
       "          0.57806428, -1.70222054, -1.69171401, -0.038118  ])],\n",
       " [     fun: 7.900089856466473e-07\n",
       "   message: 'Maximum number of iterations has been exceeded.'\n",
       "      nfev: 6615337\n",
       "       nit: 21000\n",
       "   success: False\n",
       "         x: array([ 2.81769152, -1.34843226, -2.9375257 , -1.07182508,  0.7012    ,\n",
       "         -1.56470888, -1.11321196,  0.32417548, -2.53380661, -0.89529951,\n",
       "         -1.96137106, -1.84653514, -1.75678004, -1.87644542, -1.75675952,\n",
       "          0.75399833,  1.28740758, -1.64809875, -1.97867909,  0.35337464,\n",
       "         -0.22705386]),\n",
       "       fun: 5.825964666531333e-07\n",
       "   message: 'Optimization terminated successfully.'\n",
       "      nfev: 2579872\n",
       "       nit: 8189\n",
       "   success: True\n",
       "         x: array([ 1.78066562, -3.04347712, -1.34637684, -1.22192178, -1.27479344,\n",
       "         -3.06108238,  0.04559334, -1.26229586, -1.27771251, -1.25975574,\n",
       "         -1.80915503, -1.7974999 , -1.75293337, -1.76106886, -0.13313102,\n",
       "          2.72797539, -1.80294785, -1.78546645, -1.83919981, -1.779286  ,\n",
       "         -0.87948001]),\n",
       "       fun: 1.0310571995008637e-06\n",
       "   message: 'Maximum number of iterations has been exceeded.'\n",
       "      nfev: 6615337\n",
       "       nit: 21000\n",
       "   success: False\n",
       "         x: array([-0.09942299, -0.9028337 , -0.83849174, -2.32565113, -2.74325827,\n",
       "          2.19322027, -1.09281694, -1.23216488,  1.17449164, -0.74383029,\n",
       "         -1.70825486,  1.47822703, -1.64289466, -1.86645686, -1.71511969,\n",
       "         -0.19836889,  1.1367892 , -2.01620274, -2.13208326, -0.51461353,\n",
       "          0.17915691])]]"
      ]
     },
     "execution_count": 5,
     "metadata": {},
     "output_type": "execute_result"
    }
   ],
   "source": [
    "lvdt_noise_log.all_fit_results"
   ]
  },
  {
   "cell_type": "code",
   "execution_count": 5,
   "metadata": {},
   "outputs": [
    {
     "data": {
      "image/png": "[encoded data removed]",
      "text/plain": [
       "<Figure size 432x288 with 1 Axes>"
      ]
     },
     "metadata": {
      "needs_background": "light"
     },
     "output_type": "display_data"
    }
   ],
   "source": [
    "order = np.arange(5,11,1)\n",
    "for i in range(len(lvdt_noise_log._costs)):\n",
    "    for j in range(len(lvdt_noise_log._costs[i])):\n",
    "        plt.plot(order[i], lvdt_noise_log._costs[i][j], '.')"
   ]
  },
  {
   "cell_type": "code",
   "execution_count": 33,
   "metadata": {},
   "outputs": [
    {
     "data": {
      "text/plain": [
       "array([5, 6, 7, 8, 9])"
      ]
     },
     "execution_count": 33,
     "metadata": {},
     "output_type": "execute_result"
    }
   ],
   "source": [
    "order"
   ]
  },
  {
   "cell_type": "code",
   "execution_count": 22,
   "metadata": {},
   "outputs": [
    {
     "data": {
      "text/plain": [
       "[     fun: 1.291853075131476e-06\n",
       "  message: 'Optimization terminated successfully.'\n",
       "     nfev: 76242\n",
       "      nit: 461\n",
       "  success: True\n",
       "        x: array([-1.05069435, -1.09322845,  1.3172761 , -1.08549321, -1.01630386,\n",
       "        -1.62076557,  1.17105363, -1.63935943, -1.68927835, -1.67399675,\n",
       "         0.79027223]),\n",
       "      fun: 1.2897419212743174e-06\n",
       "  message: 'Optimization terminated successfully.'\n",
       "     nfev: 78057\n",
       "      nit: 472\n",
       "  success: True\n",
       "        x: array([-1.05661479,  1.58844119, -1.01400772, -1.09521467, -1.07937729,\n",
       "        -1.66078228,  1.20389476, -1.65567084, -1.61287605, -1.68037039,\n",
       "         0.78974344]),\n",
       "      fun: 1.4421317673246422e-06\n",
       "  message: 'Optimization terminated successfully.'\n",
       "     nfev: 34662\n",
       "      nit: 209\n",
       "  success: True\n",
       "        x: array([-0.93348506, -0.94581919, -0.9037008 ,  1.9804882 ,  1.08097562,\n",
       "         1.09771835, -1.74553267,  1.69386045, -1.75163472, -1.73436797,\n",
       "         0.80958244])]"
      ]
     },
     "execution_count": 22,
     "metadata": {},
     "output_type": "execute_result"
    }
   ],
   "source": [
    "lvdt_noise_log.all_fit_results[0]"
   ]
  },
  {
   "cell_type": "code",
   "execution_count": 20,
   "metadata": {},
   "outputs": [
    {
     "data": {
      "image/png": "[encoded data removed]",
      "text/plain": [
       "<Figure size 720x360 with 1 Axes>"
      ]
     },
     "metadata": {
      "needs_background": "light"
     },
     "output_type": "display_data"
    }
   ],
   "source": [
    "_f = np.logspace(-5,5, 100000)\n",
    "plt.figure(figsize=(10,5))\n",
    "plt.loglog(lvdt_noise_log.f, lvdt_noise_log.asd, label='measured')\n",
    "# plt.loglog(lvdt_noise.f, lvdt_noise.asd_fit, label=lvdt_noise.label)\n",
    "# plt.loglog(lvdt_noise_log.f, lvdt_noise_log.asd_fit, label=lvdt_noise_log.label)\n",
    "for tf in lvdt_noise_log.all_tf[0]:\n",
    "    plt.loglog(_f, abs(tf.horner(2*np.pi*1j*_f)[0][0]))\n",
    "#     break\n",
    "plt.legend(loc=0)\n",
    "plt.grid(which='both')"
   ]
  },
  {
   "cell_type": "code",
   "execution_count": null,
   "metadata": {},
   "outputs": [],
   "source": []
  },
  {
   "cell_type": "code",
   "execution_count": 20,
   "metadata": {},
   "outputs": [],
   "source": [
    "# lvdt_vinagre_noise = kontrol.core.noise.Noise(f=f, asd=geo_data, coh=coh, label='SR2 LVDT noise fit with special vinagre\\'s weight')\n",
    "# lvdt_vinagre_noise.weight = kontrol.model.fit.vinagre_weight(lvdt_vinagre_noise.f)\n",
    "lvdt_oneoverf_noise = kontrol.core.noise.Noise(f=f, asd=lvdt_data, coh=coh, label='SR2 LVDT noise fit with 1/f weight')\n",
    "lvdt_oneoverf_noise.weight = 1/lvdt_oneoverf_noise.f\n",
    "lvdt_oneoverf_normalized_noise = kontrol.core.noise.Noise(f=f, asd=lvdt_data, coh=coh, label='SR2 LVDT noise fit with normalized 1/f weight')\n",
    "lvdt_oneoverf_normalized_noise.weight = (1/lvdt_oneoverf_noise.f/max(1/lvdt_oneoverf_noise.f))\n",
    "lvdt_oneoverf_boosted_noise = kontrol.core.noise.Noise(f=f, asd=lvdt_data, coh=coh, label='SR2 LVDT noise fit with 1/f weight')\n",
    "lvdt_oneoverf_boosted_noise.weight = 1/lvdt_oneoverf_noise.f*1e6"
   ]
  },
  {
   "cell_type": "code",
   "execution_count": 21,
   "metadata": {
    "scrolled": true
   },
   "outputs": [
    {
     "data": {
      "application/vnd.jupyter.widget-view+json": {
       "model_id": "cdb0b8782ebf4f5fabbe8a9a481698d0",
       "version_major": 2,
       "version_minor": 0
      },
      "text/plain": [
       "HBox(children=(HTML(value='Current order'), FloatProgress(value=1.0, bar_style='info', layout=Layout(width='20…"
      ]
     },
     "metadata": {},
     "output_type": "display_data"
    },
    {
     "data": {
      "application/vnd.jupyter.widget-view+json": {
       "model_id": "5147f2a1bee1491e8cba70f9bff57353",
       "version_major": 2,
       "version_minor": 0
      },
      "text/plain": [
       "HBox(children=(HTML(value='5th-order fits'), FloatProgress(value=0.0, max=5.0), HTML(value='')))"
      ]
     },
     "metadata": {},
     "output_type": "display_data"
    },
    {
     "name": "stderr",
     "output_type": "stream",
     "text": [
      "/home/terrencetec/.local/lib/python3.8/site-packages/scipy/optimize/_differentialevolution.py:495: UserWarning: differential_evolution: the 'workers' keyword has overridden updating='immediate' to updating='deferred'\n",
      "  warnings.warn(\"differential_evolution: the 'workers' keyword has\"\n"
     ]
    },
    {
     "name": "stdout",
     "output_type": "stream",
     "text": [
      "\n",
      "\n"
     ]
    },
    {
     "data": {
      "application/vnd.jupyter.widget-view+json": {
       "model_id": "969931c026304a6999192844e40daa5f",
       "version_major": 2,
       "version_minor": 0
      },
      "text/plain": [
       "HBox(children=(HTML(value='Current order'), FloatProgress(value=1.0, bar_style='info', layout=Layout(width='20…"
      ]
     },
     "metadata": {},
     "output_type": "display_data"
    },
    {
     "data": {
      "application/vnd.jupyter.widget-view+json": {
       "model_id": "515f9b2b539c4ad3af80eecdeddfda9f",
       "version_major": 2,
       "version_minor": 0
      },
      "text/plain": [
       "HBox(children=(HTML(value='5th-order fits'), FloatProgress(value=0.0, max=5.0), HTML(value='')))"
      ]
     },
     "metadata": {},
     "output_type": "display_data"
    },
    {
     "name": "stdout",
     "output_type": "stream",
     "text": [
      "\n",
      "\n"
     ]
    },
    {
     "data": {
      "application/vnd.jupyter.widget-view+json": {
       "model_id": "1e4ea1b4bad24fba93a1997a1e71c1b4",
       "version_major": 2,
       "version_minor": 0
      },
      "text/plain": [
       "HBox(children=(HTML(value='Current order'), FloatProgress(value=1.0, bar_style='info', layout=Layout(width='20…"
      ]
     },
     "metadata": {},
     "output_type": "display_data"
    },
    {
     "data": {
      "application/vnd.jupyter.widget-view+json": {
       "model_id": "08f29350a0a245fe8bf3bc276f9c3e71",
       "version_major": 2,
       "version_minor": 0
      },
      "text/plain": [
       "HBox(children=(HTML(value='5th-order fits'), FloatProgress(value=0.0, max=5.0), HTML(value='')))"
      ]
     },
     "metadata": {},
     "output_type": "display_data"
    },
    {
     "name": "stdout",
     "output_type": "stream",
     "text": [
      "\n",
      "\n"
     ]
    }
   ],
   "source": [
    "# lvdt_noise.fit(order_bound=(4,5), nfits=2)\n",
    "# lvdt_vinagre_noise.fit(order_bound=(4,5), nfits=2)\n",
    "lvdt_oneoverf_noise.fit(order_bound=(5,5), nfits=5)\n",
    "lvdt_oneoverf_normalized_noise.fit(order_bound=(5,5), nfits=5)\n",
    "lvdt_oneoverf_boosted_noise.fit(order_bound=(5,5), nfits=5)"
   ]
  },
  {
   "cell_type": "code",
   "execution_count": 15,
   "metadata": {},
   "outputs": [
    {
     "data": {
      "text/plain": [
       "     fun: 1.529419370959504e-06\n",
       " message: 'Optimization terminated successfully.'\n",
       "    nfev: 84822\n",
       "     nit: 513\n",
       " success: True\n",
       "       x: array([ 0.71427724, -1.13764998, -0.7536671 ,  0.66503923,  0.50046799,\n",
       "       -2.05668311, -2.02060891, -2.00047815, -1.94965978, -0.56584529,\n",
       "        2.98645706])"
      ]
     },
     "execution_count": 15,
     "metadata": {},
     "output_type": "execute_result"
    }
   ],
   "source": [
    "lvdt_oneoverf_normalized_noise.fit_results"
   ]
  },
  {
   "cell_type": "code",
   "execution_count": 22,
   "metadata": {},
   "outputs": [
    {
     "data": {
      "image/png": "[encoded data removed]",
      "text/plain": [
       "<Figure size 1080x720 with 1 Axes>"
      ]
     },
     "metadata": {
      "needs_background": "light"
     },
     "output_type": "display_data"
    }
   ],
   "source": [
    "plt.figure(figsize=(15,10))\n",
    "plt.loglog(lvdt_noise.f, lvdt_noise.asd)\n",
    "# plt.loglog(lvdt_noise.f, lvdt_noise.asd_fit, label=lvdt_noise.label)\n",
    "# plt.loglog(lvdt_noise.f, lvdt_vinagre_noise.asd_fit, label=lvdt_vinagre_noise.label)\n",
    "plt.loglog(lvdt_noise.f, lvdt_oneoverf_noise.asd_fit, label=lvdt_oneoverf_noise.label)\n",
    "plt.loglog(lvdt_noise.f, lvdt_oneoverf_normalized_noise.asd_fit, label=lvdt_oneoverf_normalized_noise.label)\n",
    "plt.loglog(lvdt_noise.f, lvdt_oneoverf_boosted_noise.asd_fit, label=lvdt_oneoverf_boosted_noise.label, color='k')\n",
    "plt.legend(loc=0)\n",
    "plt.grid(which='both')"
   ]
  },
  {
   "cell_type": "code",
   "execution_count": 6,
   "metadata": {
    "scrolled": true
   },
   "outputs": [
    {
     "data": {
      "application/vnd.jupyter.widget-view+json": {
       "model_id": "5e50a9c1d68e44e7ad0ab41d3cd6ee12",
       "version_major": 2,
       "version_minor": 0
      },
      "text/plain": [
       "HBox(children=(HTML(value='Current order'), FloatProgress(value=1.0, bar_style='info', layout=Layout(width='20…"
      ]
     },
     "metadata": {},
     "output_type": "display_data"
    },
    {
     "data": {
      "application/vnd.jupyter.widget-view+json": {
       "model_id": "1998cae342f6445bb8dbe9dce76a44a6",
       "version_major": 2,
       "version_minor": 0
      },
      "text/plain": [
       "HBox(children=(HTML(value='4th-order fits'), FloatProgress(value=0.0, max=1.0), HTML(value='')))"
      ]
     },
     "metadata": {},
     "output_type": "display_data"
    },
    {
     "name": "stderr",
     "output_type": "stream",
     "text": [
      "/home/terrencetec/.local/lib/python3.8/site-packages/scipy/optimize/_differentialevolution.py:495: UserWarning: differential_evolution: the 'workers' keyword has overridden updating='immediate' to updating='deferred'\n",
      "  warnings.warn(\"differential_evolution: the 'workers' keyword has\"\n"
     ]
    },
    {
     "name": "stdout",
     "output_type": "stream",
     "text": [
      "\n"
     ]
    },
    {
     "data": {
      "application/vnd.jupyter.widget-view+json": {
       "model_id": "c86678a88d0543119635046862e35567",
       "version_major": 2,
       "version_minor": 0
      },
      "text/plain": [
       "HBox(children=(HTML(value='5th-order fits'), FloatProgress(value=0.0, max=1.0), HTML(value='')))"
      ]
     },
     "metadata": {},
     "output_type": "display_data"
    },
    {
     "name": "stdout",
     "output_type": "stream",
     "text": [
      "\n",
      "\n"
     ]
    },
    {
     "data": {
      "application/vnd.jupyter.widget-view+json": {
       "model_id": "bbadb6bd7d5d422bbc63ce48d76be16c",
       "version_major": 2,
       "version_minor": 0
      },
      "text/plain": [
       "HBox(children=(HTML(value='Current order'), FloatProgress(value=1.0, bar_style='info', layout=Layout(width='20…"
      ]
     },
     "metadata": {},
     "output_type": "display_data"
    },
    {
     "data": {
      "application/vnd.jupyter.widget-view+json": {
       "model_id": "633d7df0f5e240c3bf7762bdd3ae4812",
       "version_major": 2,
       "version_minor": 0
      },
      "text/plain": [
       "HBox(children=(HTML(value='4th-order fits'), FloatProgress(value=0.0, max=1.0), HTML(value='')))"
      ]
     },
     "metadata": {},
     "output_type": "display_data"
    },
    {
     "name": "stdout",
     "output_type": "stream",
     "text": [
      "\n"
     ]
    },
    {
     "data": {
      "application/vnd.jupyter.widget-view+json": {
       "model_id": "1ebe2ddd2c9147bd8ad4f28d4920b315",
       "version_major": 2,
       "version_minor": 0
      },
      "text/plain": [
       "HBox(children=(HTML(value='5th-order fits'), FloatProgress(value=0.0, max=1.0), HTML(value='')))"
      ]
     },
     "metadata": {},
     "output_type": "display_data"
    },
    {
     "name": "stdout",
     "output_type": "stream",
     "text": [
      "\n",
      "\n"
     ]
    }
   ],
   "source": [
    "weight = np.ones_like(lvdt_noise.f)\n",
    "lvdt_noise.weight=weight\n",
    "lvdt_noise.fit(order_bound=(4,5), nfits=1,)\n",
    "weight = kontrol.model.fit.vinagre_weight(omega=lvdt_noise.f)\n",
    "lvdt_noise.fit(order_bound=(4,5), nfits=1,)\n",
    "# geophone_noise.fit(order_bound=(4,5), nfits=1,)"
   ]
  },
  {
   "cell_type": "code",
   "execution_count": 7,
   "metadata": {
    "scrolled": true
   },
   "outputs": [
    {
     "data": {
      "text/plain": [
       "[<matplotlib.lines.Line2D at 0x7f61b9df7940>]"
      ]
     },
     "execution_count": 7,
     "metadata": {},
     "output_type": "execute_result"
    },
    {
     "data": {
      "image/png": "[encoded data removed]",
      "text/plain": [
       "<Figure size 432x288 with 1 Axes>"
      ]
     },
     "metadata": {
      "needs_background": "light"
     },
     "output_type": "display_data"
    }
   ],
   "source": [
    "plt.loglog(lvdt_noise.f, lvdt_noise.asd)\n",
    "plt.loglog(lvdt_noise.f, lvdt_noise.asd_fit)\n",
    "# plt.loglog(geophone_noise.f, geophone_noise.asd)\n",
    "# plt.loglog(geophone_noise.f, geophone_noise.asd_fit)"
   ]
  },
  {
   "cell_type": "code",
   "execution_count": 111,
   "metadata": {},
   "outputs": [
    {
     "data": {
      "text/plain": [
       "<module 'kontrol.filter.optimize' from '/home/terrencetec/.conda/envs/kontrol/lib/python3.8/site-packages/kontrol/filter/optimize.py'>"
      ]
     },
     "execution_count": 111,
     "metadata": {},
     "output_type": "execute_result"
    }
   ],
   "source": [
    "import kontrol.filter.optimize\n",
    "importlib.reload(kontrol.filter.optimize)"
   ]
  },
  {
   "cell_type": "code",
   "execution_count": 145,
   "metadata": {},
   "outputs": [],
   "source": [
    "h1h2,h2h2 = kontrol.filter.optimize.h2complementary(lvdt_noise.tf/geophone_noise.tf, geophone_noise.tf/lvdt_noise.tf)\n",
    "h1hinf,h2hinf = kontrol.filter.optimize.hinfcomplementary(lvdt_noise.tf/geophone_noise.tf, geophone_noise.tf/lvdt_noise.tf)"
   ]
  },
  {
   "cell_type": "code",
   "execution_count": 147,
   "metadata": {
    "scrolled": false
   },
   "outputs": [
    {
     "data": {
      "image/png": "[encoded data removed]",
      "text/plain": [
       "<Figure size 720x360 with 1 Axes>"
      ]
     },
     "metadata": {
      "needs_background": "light"
     },
     "output_type": "display_data"
    }
   ],
   "source": [
    "plt.figure(figsize=(10,5))\n",
    "plt.loglog(f, abs(h1h2.horner(2*np.pi*1j*f)[0][0]), label='Low pass $\\mathcal{H}_2$')\n",
    "plt.loglog(f, abs(h2h2.horner(2*np.pi*1j*f)[0][0]), label='High pass $\\mathcal{H}_2$')\n",
    "plt.loglog(f, abs(h1hinf.horner(2*np.pi*1j*f)[0][0]), label='Low pass $\\mathcal{H}_\\infty$')\n",
    "plt.loglog(f, abs(h2hinf.horner(2*np.pi*1j*f)[0][0]), label='High pass $\\mathcal{H}_\\infty$')\n",
    "plt.legend(loc=0)\n",
    "plt.ylabel('Magnitude')\n",
    "plt.xlabel('Frequency (Hz)')\n",
    "plt.grid()"
   ]
  },
  {
   "cell_type": "code",
   "execution_count": 125,
   "metadata": {},
   "outputs": [
    {
     "data": {
      "text/plain": [
       "array([-4.37952073e+07+0.j        , -2.46551578e+01+0.j        ,\n",
       "       -2.46381216e+01+0.j        , -1.24520816e+00+0.j        ,\n",
       "       -1.24406819e+00+0.j        , -7.70203625e-01+0.j        ,\n",
       "       -7.67890414e-01+0.j        , -2.30566443e-01+0.21887917j,\n",
       "       -2.30566443e-01-0.21887917j, -3.00627166e-01+0.j        ,\n",
       "       -1.92011271e-01+0.j        , -1.31729642e-01+0.j        ,\n",
       "       -1.07481713e-01+0.j        , -9.51942502e-02+0.j        ,\n",
       "       -1.96890127e-02+0.j        , -1.31308012e-02+0.00308895j,\n",
       "       -1.31308012e-02-0.00308895j, -1.21901603e-03+0.0031772j ,\n",
       "       -1.21901603e-03-0.0031772j ])"
      ]
     },
     "execution_count": 125,
     "metadata": {},
     "output_type": "execute_result"
    }
   ],
   "source": [
    "h2.zero()/2/np.pi"
   ]
  },
  {
   "cell_type": "code",
   "execution_count": 122,
   "metadata": {},
   "outputs": [],
   "source": [
    "from kontrol import quad_sum"
   ]
  },
  {
   "cell_type": "code",
   "execution_count": 152,
   "metadata": {
    "scrolled": true
   },
   "outputs": [
    {
     "data": {
      "image/png": "[encoded data removed]",
      "text/plain": [
       "<Figure size 1080x360 with 2 Axes>"
      ]
     },
     "metadata": {
      "needs_background": "light"
     },
     "output_type": "display_data"
    }
   ],
   "source": [
    "plt.rcParams['font.size'] = 16\n",
    "plt.figure(figsize=(15,5))\n",
    "plt.subplot(121)\n",
    "plt.loglog(lvdt_noise.f, lvdt_noise.asd, label='Sensor 1 noise measured')\n",
    "plt.loglog(lvdt_noise.f, lvdt_noise.asd_fit, label='Sensor 1 noise fit')\n",
    "plt.loglog(geophone_noise.f, geophone_noise.asd, label='Sensor 2 noise measured')\n",
    "plt.loglog(geophone_noise.f, geophone_noise.asd_fit, label='Sensor 2 noise fit')\n",
    "plt.ylabel('Magnitude')\n",
    "plt.xlabel('Frequency (Hz)')\n",
    "plt.legend(loc=0)\n",
    "plt.grid()\n",
    "plt.subplot(122)\n",
    "plt.loglog(lvdt_noise.f, lvdt_noise.asd_fit, label='Sensor 1 noise fit')\n",
    "plt.loglog(geophone_noise.f, geophone_noise.asd_fit, label='Sensor 2 noise fit')\n",
    "plt.loglog(geophone_noise.f,\n",
    "           quad_sum(abs(h1h2.horner(2*np.pi*1j*geophone_noise.f)[0][0])*lvdt_noise.asd_fit,abs(h2h2.horner(2*np.pi*1j*geophone_noise.f)[0][0])*geophone_noise.asd_fit), label='$\\mathcal{H}_2$ blended noise')\n",
    "plt.loglog(geophone_noise.f,\n",
    "           quad_sum(abs(h1hinf.horner(2*np.pi*1j*geophone_noise.f)[0][0])*lvdt_noise.asd_fit,abs(h2hinf.horner(2*np.pi*1j*geophone_noise.f)[0][0])*geophone_noise.asd_fit), color='k', label='$\\mathcal{H}_\\infty$ blended noise')\n",
    "plt.ylabel('Magnitude')\n",
    "plt.xlabel('Frequency (Hz)')\n",
    "plt.legend(loc=0)\n",
    "plt.grid()"
   ]
  },
  {
   "cell_type": "code",
   "execution_count": 167,
   "metadata": {},
   "outputs": [],
   "source": [
    "a=control.tf([1,2,3],[1,2,4])"
   ]
  },
  {
   "cell_type": "code",
   "execution_count": 169,
   "metadata": {},
   "outputs": [],
   "source": [
    "b = control.TransferFunction(a)"
   ]
  },
  {
   "cell_type": "code",
   "execution_count": 170,
   "metadata": {},
   "outputs": [
    {
     "data": {
      "text/latex": [
       "$$\\frac{s^2 + 2 s + 3}{s^2 + 2 s + 4}$$"
      ],
      "text/plain": [
       "\n",
       "s^2 + 2 s + 3\n",
       "-------------\n",
       "s^2 + 2 s + 4"
      ]
     },
     "execution_count": 170,
     "metadata": {},
     "output_type": "execute_result"
    }
   ],
   "source": [
    "b"
   ]
  },
  {
   "cell_type": "code",
   "execution_count": 171,
   "metadata": {},
   "outputs": [],
   "source": [
    "import kontrol.core.transfer_function"
   ]
  },
  {
   "cell_type": "code",
   "execution_count": 181,
   "metadata": {},
   "outputs": [],
   "source": [
    "a = kontrol.core.transfer_function.TransferFunction([1],[2,3])"
   ]
  },
  {
   "cell_type": "code",
   "execution_count": 182,
   "metadata": {},
   "outputs": [
    {
     "data": {
      "text/plain": [
       "kontrol.core.transfer_function.TransferFunction"
      ]
     },
     "execution_count": 182,
     "metadata": {},
     "output_type": "execute_result"
    }
   ],
   "source": [
    "type(a)"
   ]
  },
  {
   "cell_type": "code",
   "execution_count": 120,
   "metadata": {},
   "outputs": [
    {
     "data": {
      "text/plain": [
       "(array([2.75521199e+08, 1.54806897e+02, 1.54804881e+02, 7.81926032e+00,\n",
       "        7.81530684e+00, 4.84183746e+00, 4.83507533e+00, 1.18822382e+00,\n",
       "        1.18822382e+00, 1.41967775e+00, 1.41967775e+00, 1.54792133e+00,\n",
       "        1.54792133e+00, 1.57905975e+00, 1.34748504e-01, 1.19548501e-01,\n",
       "        1.19548501e-01, 7.67112056e-02, 7.67112056e-02]),\n",
       " array([1.        , 1.        , 1.        , 1.        , 1.        ,\n",
       "        1.        , 1.        , 0.41941003, 0.41941003, 0.81822697,\n",
       "        0.81822697, 0.96835159, 0.96835159, 1.        , 1.        ,\n",
       "        0.95979176, 0.95979176, 0.98544214, 0.98544214]),\n",
       " array([-2.75521199e+08+0.j        , -1.54806897e+02+0.j        ,\n",
       "        -1.54804881e+02+0.j        , -7.81926032e+00+0.j        ,\n",
       "        -7.81530684e+00+0.j        , -4.84183746e+00+0.j        ,\n",
       "        -4.83507533e+00+0.j        , -4.98352982e-01+1.07866591j,\n",
       "        -4.98352982e-01-1.07866591j, -1.16161863e+00+0.81616609j,\n",
       "        -1.16161863e+00-0.81616609j, -1.49893209e+00+0.38634577j,\n",
       "        -1.49893209e+00-0.38634577j, -1.57905975e+00+0.j        ,\n",
       "        -1.34748504e-01+0.j        , -1.14741666e-01+0.03355882j,\n",
       "        -1.14741666e-01-0.03355882j, -7.55944544e-02+0.01304176j,\n",
       "        -7.55944544e-02-0.01304176j]))"
      ]
     },
     "execution_count": 120,
     "metadata": {},
     "output_type": "execute_result"
    }
   ],
   "source": [
    "h2.damp()"
   ]
  },
  {
   "cell_type": "code",
   "execution_count": 82,
   "metadata": {},
   "outputs": [
    {
     "data": {
      "text/latex": [
       "$$\\frac{s^{20} + 343.7 s^{19} + 3.501 \\times 10^{4} s^{18} + 9.732 \\times 10^{5} s^{17} + 1.307 \\times 10^{7} s^{16} + 1.024 \\times 10^{8} s^{15} + 5.138 \\times 10^{8} s^{14} + 1.75 \\times 10^{9} s^{13} + 4.222 \\times 10^{9} s^{12} + 7.39 \\times 10^{9} s^{11} + 9.434 \\times 10^{9} s^{10} + 8.66 \\times 10^{9} s^9 + 5.545 \\times 10^{9} s^8 + 2.371 \\times 10^{9} s^7 + 6.408 \\times 10^{8} s^6 + 1.034 \\times 10^{8} s^5 + 9.756 \\times 10^{6} s^4 + 5.297 \\times 10^{5} s^3 + 1.592 \\times 10^{4} s^2 + 244.4 s + 1.492}{s^{20} + 343.7 s^{19} + 3.501 \\times 10^{4} s^{18} + 9.732 \\times 10^{5} s^{17} + 1.308 \\times 10^{7} s^{16} + 1.025 \\times 10^{8} s^{15} + 5.144 \\times 10^{8} s^{14} + 1.757 \\times 10^{9} s^{13} + 4.275 \\times 10^{9} s^{12} + 7.653 \\times 10^{9} s^{11} + 1.029 \\times 10^{10} s^{10} + 1.047 \\times 10^{10} s^9 + 7.987 \\times 10^{9} s^8 + 4.444 \\times 10^{9} s^7 + 1.712 \\times 10^{9} s^6 + 4.266 \\times 10^{8} s^5 + 6.733 \\times 10^{7} s^4 + 6.664 \\times 10^{6} s^3 + 4.006 \\times 10^{5} s^2 + 1.337 \\times 10^{4} s + 190}$$"
      ],
      "text/plain": [
       "\n",
       "  s^20 + 343.7 s^19 + 3.501e+04 s^18 + 9.732e+05 s^17 + 1.307e+07 s^16 + 1.024e+08 s^15 + 5.138e+08 s^14 + 1.75e+09 s^13 + 4.222e+09 s^12 + 7.39e+09 s^11 + 9.434e+09 s^10 + 8.66e+09 s^9 + 5.545e+09 s^8 + 2.371e+09 s^7 + 6.408e+08 s^6 + 1.034e+08 s^5 + 9.756e+06 s^4 + 5.297e+05 s^3 + 1.592e+04 s^2 + 244.4 s + 1.492\n",
       "------------------------------------------------------------------------------------------------------------------------------------------------------------------------------------------------------------------------------------------------------------------------------------------------------------------------------\n",
       "s^20 + 343.7 s^19 + 3.501e+04 s^18 + 9.732e+05 s^17 + 1.308e+07 s^16 + 1.025e+08 s^15 + 5.144e+08 s^14 + 1.757e+09 s^13 + 4.275e+09 s^12 + 7.653e+09 s^11 + 1.029e+10 s^10 + 1.047e+10 s^9 + 7.987e+09 s^8 + 4.444e+09 s^7 + 1.712e+09 s^6 + 4.266e+08 s^5 + 6.733e+07 s^4 + 6.664e+06 s^3 + 4.006e+05 s^2 + 1.337e+04 s + 190"
      ]
     },
     "execution_count": 82,
     "metadata": {},
     "output_type": "execute_result"
    }
   ],
   "source": [
    "h2"
   ]
  },
  {
   "cell_type": "code",
   "execution_count": 67,
   "metadata": {},
   "outputs": [
    {
     "data": {
      "text/plain": [
       "[[0.0016846565848069415,\n",
       "  0.001684660856267308,\n",
       "  0.0016846606173210221,\n",
       "  0.0016846597046818138,\n",
       "  0.0016846574091361518],\n",
       " [0.00031117447039992046,\n",
       "  0.0003112484098468219,\n",
       "  0.00031111089676955534,\n",
       "  0.00031131305986711535,\n",
       "  0.000311134711795429],\n",
       " [0.00021338903722062805,\n",
       "  0.00021336547673390257,\n",
       "  0.00021338129022455824,\n",
       "  0.00021337036842501974,\n",
       "  0.00021354368652598234],\n",
       " [0.00018619170086007632,\n",
       "  0.00018640767480992165,\n",
       "  0.0003081546964840931,\n",
       "  0.00020947087015151848,\n",
       "  0.0001861446856192552],\n",
       " [0.00017857948340118678,\n",
       "  0.00018603376345511006,\n",
       "  0.0001776013317113586,\n",
       "  0.00017777179800039684,\n",
       "  0.00020425868082073515],\n",
       " [0.00017892804256779038,\n",
       "  0.00017728221868278462,\n",
       "  0.00019347587715083593,\n",
       "  0.00018591964637315822,\n",
       "  0.00018536857650183145]]"
      ]
     },
     "execution_count": 67,
     "metadata": {},
     "output_type": "execute_result"
    }
   ],
   "source": [
    "geophone_noise._costs"
   ]
  },
  {
   "cell_type": "code",
   "execution_count": 3,
   "metadata": {},
   "outputs": [
    {
     "data": {
      "text/plain": [
       "[<matplotlib.lines.Line2D at 0x7fb728cb8550>]"
      ]
     },
     "execution_count": 3,
     "metadata": {},
     "output_type": "execute_result"
    },
    {
     "data": {
      "image/png": "[encoded data removed]",
      "text/plain": [
       "<Figure size 432x288 with 1 Axes>"
      ]
     },
     "metadata": {
      "needs_background": "light"
     },
     "output_type": "display_data"
    }
   ],
   "source": [
    "plt.semilogx(coh)"
   ]
  },
  {
   "cell_type": "code",
   "execution_count": 17,
   "metadata": {},
   "outputs": [],
   "source": [
    "def args2tf(args, f, data):\n",
    "    s = 2*np.pi*1j*f\n",
    "    if np.mod(len(args), 2) == 0:\n",
    "        raise ValueError('Number of arguments must be odd')\n",
    "    args = np.power(np.ones_like(args)*10, args)\n",
    "    zeros = args[0:np.int(np.floor(len(args)/2))]\n",
    "    poles = args[np.int(np.floor(len(args)/2)):len(args)-1]\n",
    "    gain = args[-1]\n",
    "    \n",
    "    tf_fit = gain\n",
    "    for z in zeros:\n",
    "        tf_fit *= (s/(2*np.pi*z) + 1)\n",
    "    for p in poles:\n",
    "        tf_fit /= (s/(2*np.pi*p) + 1)\n",
    "    return(tf_fit)\n",
    "\n",
    "def args2control_tf(args, f, data):\n",
    "    if np.mod(len(args), 2) == 0:\n",
    "        raise ValueError('Number of arguments must be odd')\n",
    "    args = np.power(np.ones_like(args)*10, args)\n",
    "    zeros = args[0:np.int(np.floor(len(args)/2))]\n",
    "    poles = args[np.int(np.floor(len(args)/2)):len(args)-1]\n",
    "    gain = args[-1]\n",
    "    \n",
    "    tf_fit = control.tf([gain],[1])\n",
    "    s = control.tf('s')\n",
    "    for z in zeros:\n",
    "        tf_fit *= (s/(2*np.pi*z) + 1)\n",
    "    for p in poles:\n",
    "        tf_fit /= (s/(2*np.pi*p) + 1)\n",
    "    return(tf_fit.horner(2*np.pi*1j*f)[0][0])\n",
    "\n",
    "def cost(args, f, data, weight):\n",
    "    tf_fit = args2tf(args, f, data)\n",
    "    cost_ = np.sqrt(np.sum(((np.log10(np.abs(tf_fit))-np.log10(data))*weight)**2))\n",
    "    return(cost_)\n",
    "\n",
    "def cost_control(args, f, data, weight):\n",
    "    tf_fit = args2control_tf(args, f, data)\n",
    "    cost_ = np.sqrt(np.sum(((np.log10(np.abs(tf_fit))-np.log10(data))*weight)**2))\n",
    "    return(cost_)"
   ]
  },
  {
   "cell_type": "code",
   "execution_count": 132,
   "metadata": {},
   "outputs": [
    {
     "name": "stdout",
     "output_type": "stream",
     "text": [
      "CPU times: user 790 µs, sys: 0 ns, total: 790 µs\n",
      "Wall time: 815 µs\n"
     ]
    },
    {
     "data": {
      "text/plain": [
       "array([3.51222766e+03, 3.51222745e+03, 3.51222724e+03, ...,\n",
       "       1.32804976e-05, 1.32804976e-05, 1.32804976e-05])"
      ]
     },
     "execution_count": 132,
     "metadata": {},
     "output_type": "execute_result"
    }
   ],
   "source": [
    "%%time\n",
    "np.abs(tf_fit)"
   ]
  },
  {
   "cell_type": "code",
   "execution_count": 18,
   "metadata": {},
   "outputs": [],
   "source": [
    "def fit(cost, order, f, data, weight, bounds=None):\n",
    "    np.random.seed()\n",
    "    if bounds is None:\n",
    "#         bounds = [(min(f)*1e-1, max(f)*1e1)] * 2 * order\n",
    "#         bounds.append((min(data)*1e-1, max(data)*1e1))\n",
    "        bounds = [(np.log10(min(f))-1, np.log10(max(f))+1)] * 2 * order\n",
    "        bounds.append((np.log10(min(data))-1, np.log10(max(data))+1))\n",
    "#     x0 = np.random.choice(np.logspace(np.log10(bounds[0][0]), np.log10(bounds[0][1]), len(f)), order*2)\n",
    "#     gain_x0 = np.random.choice(np.logspace(np.log10(bounds[-1][0]), np.log10(bounds[-1][1]), len(f)), 1)\n",
    "    bounds = np.array(bounds)\n",
    "    x0 = np.random.choice(np.linspace(bounds[0][0], bounds[0][1], len(f)), order*2)\n",
    "    gain_x0 = np.random.choice(np.linspace(bounds[-1][0], bounds[-1][1], len(f)), 1)\n",
    "    x0 = np.append(x0, gain_x0)\n",
    "    options = {\n",
    "        'disp': True,\n",
    "        'ftol': 1e-4,\n",
    "        'maxfev': len(bounds)*1e5\n",
    "    }\n",
    "    res = minimize(cost, args=(f, data, weight), bounds=bounds, x0=x0, method='Powell', options=options)\n",
    "    return(res, order)\n",
    "    \n",
    "    "
   ]
  },
  {
   "cell_type": "code",
   "execution_count": 128,
   "metadata": {},
   "outputs": [
    {
     "name": "stdout",
     "output_type": "stream",
     "text": [
      "0, 1, 0\n",
      "1, 2, 1\n",
      "2, 3, 2\n",
      "3, 4, 3\n",
      "4, 5, 4\n",
      "5, 6, 5\n",
      "6, 7, 6\n",
      "7, 8, 7\n",
      "8, 9, 8\n",
      "9, 10, 9\n"
     ]
    }
   ],
   "source": [
    "for i, order in zip(range(10), range(1,11)):\n",
    "    print('{i}, {order}, {i}'.format(i=i, order=order))"
   ]
  },
  {
   "cell_type": "code",
   "execution_count": 19,
   "metadata": {},
   "outputs": [],
   "source": [
    "from scipy.optimize import differential_evolution"
   ]
  },
  {
   "cell_type": "code",
   "execution_count": 20,
   "metadata": {},
   "outputs": [],
   "source": [
    "def fit_differential_evolution(cost, order, f, data, weight, bounds=None):\n",
    "    np.random.seed()\n",
    "    if bounds is None:\n",
    "#         bounds = [(min(f)*1e-1, max(f)*1e1)] * 2 * order\n",
    "#         bounds.append((min(data)*1e-1, max(data)*1e1))\n",
    "        bounds = [(np.log10(min(f))-1, np.log10(max(f))+1)] * 2 * order\n",
    "        bounds.append((np.log10(min(data))-1, np.log10(max(data))+1))\n",
    "#     x0 = np.random.choice(np.logspace(np.log10(bounds[0][0]), np.log10(bounds[0][1]), len(f)), order*2)\n",
    "#     gain_x0 = np.random.choice(np.logspace(np.log10(bounds[-1][0]), np.log10(bounds[-1][1]), len(f)), 1)\n",
    "    x0 = np.random.choice(np.linspace(bounds[0][0], bounds[0][1], len(f)), order*2)\n",
    "    gain_x0 = np.random.choice(np.linspace(bounds[-1][0], bounds[-1][1], len(f)), 1)\n",
    "    x0 = np.append(x0, gain_x0)\n",
    "    options = {\n",
    "        'disp': True,\n",
    "        'ftol': 1e-8,\n",
    "        'maxfev': len(bounds)*1e5\n",
    "    }\n",
    "    res = differential_evolution(cost, args=(f, data, weight), bounds=bounds, workers=-1)\n",
    "    return(res, order)"
   ]
  },
  {
   "cell_type": "code",
   "execution_count": 21,
   "metadata": {},
   "outputs": [],
   "source": [
    "def vinagre_weight(omega, normalize=True, log=True):\n",
    "    weight=np.ones_like(omega)\n",
    "    for p in range(len(omega)):\n",
    "        if p == 0:\n",
    "            weight[p] = (omega[1]-omega[0])/(2*omega[0]**2)\n",
    "        elif p == len(omega)-1:\n",
    "            weight[p] = (omega[p]-omega[p-1])/(2*omega[p]**2)\n",
    "        else:\n",
    "            weight[p] = (omega[p+1]-omega[p-1])/(2*omega[p]**2)\n",
    "    if log:\n",
    "        weight = np.log10(weight) - min(np.log10(weight))\n",
    "    if normalize:\n",
    "        weight /= max(weight)\n",
    "    return(weight)\n",
    "\n",
    "def make_weight_from_coh(coh, threshold, invert=False):\n",
    "    weight = np.ones_like(coh)\n",
    "    weight = coh>threshold\n",
    "    if invert:\n",
    "        weight = weight==0\n",
    "    return(weight)"
   ]
  },
  {
   "cell_type": "code",
   "execution_count": 24,
   "metadata": {
    "scrolled": true
   },
   "outputs": [
    {
     "data": {
      "text/plain": [
       "[<matplotlib.lines.Line2D at 0x7f67ddc67b20>]"
      ]
     },
     "execution_count": 24,
     "metadata": {},
     "output_type": "execute_result"
    },
    {
     "data": {
      "image/png": "[encoded data removed]",
      "text/plain": [
       "<Figure size 432x288 with 1 Axes>"
      ]
     },
     "metadata": {
      "needs_background": "light"
     },
     "output_type": "display_data"
    }
   ],
   "source": [
    "coh_weight = make_weight_from_coh(coh, 0.5, invert=True)\n",
    "v_weight = vinagre_weight(f)\n",
    "weight = coh_weight.astype(int) * v_weight\n",
    "# plt.semilogx(f,coh)\n",
    "# plt.semilogx(f,v_weight)\n",
    "# plt.semilogx(f,coh_weight)\n",
    "plt.plot(f,weight)"
   ]
  },
  {
   "cell_type": "code",
   "execution_count": 25,
   "metadata": {
    "scrolled": true
   },
   "outputs": [
    {
     "name": "stderr",
     "output_type": "stream",
     "text": [
      "/home/terrencetec/.local/lib/python3.8/site-packages/scipy/optimize/_differentialevolution.py:495: UserWarning: differential_evolution: the 'workers' keyword has overridden updating='immediate' to updating='deferred'\n",
      "  warnings.warn(\"differential_evolution: the 'workers' keyword has\"\n"
     ]
    },
    {
     "name": "stdout",
     "output_type": "stream",
     "text": [
      "1.5050273426446892\n",
      "CPU times: user 9.47 s, sys: 1.96 s, total: 11.4 s\n",
      "Wall time: 23.5 s\n"
     ]
    }
   ],
   "source": [
    "%%time\n",
    "for _ in range(1):\n",
    "    res, order = fit_differential_evolution(cost, 4, f, data, weight)\n",
    "    print(res.fun)"
   ]
  },
  {
   "cell_type": "code",
   "execution_count": 26,
   "metadata": {},
   "outputs": [
    {
     "data": {
      "text/plain": [
       "1.5050273426446892"
      ]
     },
     "execution_count": 26,
     "metadata": {},
     "output_type": "execute_result"
    }
   ],
   "source": [
    "res.fun"
   ]
  },
  {
   "cell_type": "code",
   "execution_count": 27,
   "metadata": {},
   "outputs": [
    {
     "data": {
      "text/plain": [
       "[<matplotlib.lines.Line2D at 0x7f67ddf62eb0>]"
      ]
     },
     "execution_count": 27,
     "metadata": {},
     "output_type": "execute_result"
    },
    {
     "data": {
      "image/png": "[encoded data removed]",
      "text/plain": [
       "<Figure size 432x288 with 1 Axes>"
      ]
     },
     "metadata": {
      "needs_background": "light"
     },
     "output_type": "display_data"
    }
   ],
   "source": [
    "plt.loglog(data)\n",
    "plt.loglog(abs(args2tf(res.x, f, data)))"
   ]
  },
  {
   "cell_type": "code",
   "execution_count": 8,
   "metadata": {
    "scrolled": true
   },
   "outputs": [
    {
     "name": "stdout",
     "output_type": "stream",
     "text": [
      "Optimization terminated successfully.\n",
      "Optimization terminated successfully.Optimization terminated successfully.         Current function value: 24.073358\n",
      "         Iterations: 2Optimization terminated successfully.Optimization terminated successfully.\n",
      "\n",
      "\n",
      "\n",
      "\n",
      "Optimization terminated successfully.Optimization terminated successfully.         Current function value: 24.073358Optimization terminated successfully.\n",
      "         Current function value: 24.073358         Function evaluations: 20\n",
      "\n",
      "\n",
      "         Current function value: 24.073358\n",
      "\n",
      "         Current function value: 24.073358         Current function value: 24.073358         Iterations: 2         Current function value: 24.073358\n",
      "\n",
      "\n",
      "         Iterations: 2\n",
      "         Current function value: 24.073358\n",
      "         Iterations: 2         Function evaluations: 20\n",
      "\n",
      "\n",
      "         Function evaluations: 20         Iterations: 2         Function evaluations: 20\n",
      "\n",
      "         Function evaluations: 20\n",
      "         Iterations: 2\n",
      "         Function evaluations: 44\n",
      "         Iterations: 2Optimization terminated successfully.\n",
      "\n",
      "\n",
      "         Current function value: 24.073358         Iterations: 2\n",
      "\n",
      "         Function evaluations: 20\n",
      "Optimization terminated successfully.\n",
      "         Current function value: 24.073358\n",
      "         Iterations: 2\n",
      "         Function evaluations: 20\n",
      "         Function evaluations: 20\n",
      "\n",
      "         Iterations: 2\n",
      "         Function evaluations: 20\n",
      "Optimization terminated successfully.\n",
      "         Current function value: 16.343083Optimization terminated successfully.\n",
      "         Current function value: 16.343083\n",
      "\n",
      "         Iterations: 6         Iterations: 6\n",
      "\n",
      "         Function evaluations: 339         Function evaluations: 343\n",
      "Optimization terminated successfully.\n",
      "         Current function value: 22.935662\n",
      "         Iterations: 4\n",
      "\n",
      "         Function evaluations: 364\n",
      "Optimization terminated successfully.\n",
      "         Current function value: 16.343083\n",
      "         Iterations: 12\n",
      "Optimization terminated successfully.\n",
      "         Function evaluations: 553\n",
      "Optimization terminated successfully.         Current function value: 16.347450\n",
      "\n",
      "         Current function value: 17.066192         Iterations: 11\n",
      "         Iterations: 7\n",
      "\n",
      "         Function evaluations: 645\n",
      "         Function evaluations: 571\n",
      "Optimization terminated successfully.\n",
      "         Current function value: 16.343083\n",
      "         Iterations: 6\n",
      "         Function evaluations: 338\n",
      "Optimization terminated successfully.\n",
      "         Current function value: 24.063803\n",
      "Optimization terminated successfully.         Iterations: 5\n",
      "\n",
      "         Current function value: 16.343106         Function evaluations: 383\n",
      "\n",
      "         Iterations: 12\n",
      "         Function evaluations: 713\n",
      "Optimization terminated successfully.\n",
      "         Current function value: 16.343087\n",
      "         Iterations: 11\n",
      "         Function evaluations: 876\n",
      "Optimization terminated successfully.\n",
      "         Current function value: 11.890127\n",
      "         Iterations: 16\n",
      "         Function evaluations: 1179\n",
      "Optimization terminated successfully.\n",
      "         Current function value: 11.880649\n",
      "         Iterations: 9\n",
      "         Function evaluations: 786\n",
      "Optimization terminated successfully.\n",
      "         Current function value: 11.881844\n",
      "         Iterations: 13\n",
      "         Function evaluations: 1080\n",
      "Optimization terminated successfully.\n",
      "         Current function value: 11.881901\n",
      "         Iterations: 19\n",
      "         Function evaluations: 1541\n",
      "Optimization terminated successfully.\n",
      "         Current function value: 24.073244\n",
      "         Iterations: 11Optimization terminated successfully.\n",
      "\n",
      "         Current function value: 17.476938\n",
      "         Function evaluations: 1352\n",
      "         Iterations: 15\n",
      "         Function evaluations: 1519\n",
      "Optimization terminated successfully.\n",
      "         Current function value: 16.629679\n",
      "         Iterations: 17\n",
      "         Function evaluations: 1902\n",
      "Optimization terminated successfully.\n",
      "         Current function value: 19.926350\n",
      "         Iterations: 15\n",
      "         Function evaluations: 1994\n",
      "Optimization terminated successfully.\n",
      "         Current function value: 11.880672\n",
      "         Iterations: 19\n",
      "         Function evaluations: 1623\n",
      "Optimization terminated successfully.\n",
      "         Current function value: 11.880988\n",
      "         Iterations: 24\n",
      "         Function evaluations: 1735\n",
      "Optimization terminated successfully.\n",
      "         Current function value: 16.261563\n",
      "         Iterations: 13\n",
      "         Function evaluations: 1806\n",
      "Optimization terminated successfully.\n",
      "         Current function value: 11.455110\n",
      "         Iterations: 19\n",
      "         Function evaluations: 1934\n",
      "Optimization terminated successfully.\n",
      "         Current function value: 11.915239\n",
      "         Iterations: 22\n",
      "         Function evaluations: 3122\n",
      "Optimization terminated successfully.\n",
      "         Current function value: 11.523254\n",
      "         Iterations: 16\n",
      "         Function evaluations: 1961\n",
      "Optimization terminated successfully.\n",
      "         Current function value: 11.415762\n",
      "         Iterations: 24\n",
      "         Function evaluations: 3145\n",
      "Optimization terminated successfully.\n",
      "         Current function value: 11.413643\n",
      "         Iterations: 24\n",
      "         Function evaluations: 2348\n",
      "Optimization terminated successfully.\n",
      "         Current function value: 12.065021\n",
      "         Iterations: 33\n",
      "         Function evaluations: 4653\n",
      "Optimization terminated successfully.\n",
      "         Current function value: 11.973294\n",
      "         Iterations: 42\n",
      "         Function evaluations: 6557\n",
      "Optimization terminated successfully.\n",
      "         Current function value: 11.311350\n",
      "         Iterations: 23\n",
      "         Function evaluations: 3752\n",
      "Optimization terminated successfully.\n",
      "         Current function value: 14.112124\n",
      "         Iterations: 35\n",
      "         Function evaluations: 5763\n",
      "Optimization terminated successfully.\n",
      "         Current function value: 10.108878\n",
      "         Iterations: 46\n",
      "         Function evaluations: 6357\n",
      "Optimization terminated successfully.\n",
      "         Current function value: 9.480363\n",
      "         Iterations: 36\n",
      "         Function evaluations: 5482\n",
      "Optimization terminated successfully.\n",
      "         Current function value: 9.344834\n",
      "         Iterations: 46\n",
      "         Function evaluations: 5626\n",
      "Optimization terminated successfully.\n",
      "         Current function value: 9.948461\n",
      "         Iterations: 65\n",
      "         Function evaluations: 8523\n",
      "Optimization terminated successfully.\n",
      "         Current function value: 11.313264\n",
      "         Iterations: 44\n",
      "         Function evaluations: 6800\n",
      "Optimization terminated successfully.\n",
      "         Current function value: 10.025878\n",
      "         Iterations: 43\n",
      "         Function evaluations: 8538\n",
      "Optimization terminated successfully.\n",
      "         Current function value: 9.344729\n",
      "         Iterations: 47\n",
      "         Function evaluations: 7471\n",
      "Optimization terminated successfully.\n",
      "         Current function value: 9.770758\n",
      "         Iterations: 59\n",
      "         Function evaluations: 12503\n",
      "Optimization terminated successfully.\n",
      "         Current function value: 9.343799\n",
      "         Iterations: 65\n",
      "         Function evaluations: 10603\n",
      "Optimization terminated successfully.\n",
      "         Current function value: 12.202021\n",
      "         Iterations: 34\n",
      "         Function evaluations: 7694Optimization terminated successfully.\n",
      "\n",
      "         Current function value: 12.531797\n",
      "         Iterations: 29\n",
      "         Function evaluations: 5979\n",
      "Optimization terminated successfully.\n",
      "         Current function value: 10.102943\n",
      "         Iterations: 71\n",
      "         Function evaluations: 13150\n",
      "Optimization terminated successfully.\n",
      "         Current function value: 11.954454\n",
      "         Iterations: 32\n",
      "         Function evaluations: 6450\n",
      "Optimization terminated successfully.\n",
      "         Current function value: 9.193278\n",
      "         Iterations: 37\n",
      "         Function evaluations: 9306\n",
      "Optimization terminated successfully.\n",
      "         Current function value: 15.068702\n",
      "         Iterations: 25\n",
      "         Function evaluations: 5971\n",
      "Optimization terminated successfully.\n",
      "         Current function value: 12.965358\n",
      "         Iterations: 27\n",
      "         Function evaluations: 5670\n",
      "Optimization terminated successfully.\n",
      "         Current function value: 10.447978\n",
      "         Iterations: 41\n",
      "         Function evaluations: 10460\n",
      "Optimization terminated successfully.\n",
      "         Current function value: 9.247054\n",
      "         Iterations: 56\n",
      "         Function evaluations: 9766\n",
      "Optimization terminated successfully.\n",
      "         Current function value: 15.044008\n",
      "         Iterations: 35\n",
      "         Function evaluations: 8627\n",
      "Optimization terminated successfully.\n",
      "         Current function value: 10.812462\n",
      "         Iterations: 15\n",
      "         Function evaluations: 3500\n",
      "Optimization terminated successfully.\n",
      "         Current function value: 13.009401\n",
      "         Iterations: 26\n",
      "         Function evaluations: 7353\n",
      "Optimization terminated successfully.\n",
      "         Current function value: 9.399631\n",
      "         Iterations: 41\n",
      "         Function evaluations: 7986\n",
      "Optimization terminated successfully.\n",
      "         Current function value: 14.051137\n",
      "         Iterations: 36\n",
      "         Function evaluations: 12075\n",
      "Optimization terminated successfully.\n",
      "         Current function value: 9.955550\n",
      "         Iterations: 52\n",
      "         Function evaluations: 10398\n",
      "Optimization terminated successfully.\n",
      "         Current function value: 11.666989\n",
      "         Iterations: 54\n",
      "         Function evaluations: 16279\n",
      "Optimization terminated successfully.\n",
      "         Current function value: 9.243099\n",
      "         Iterations: 76\n",
      "         Function evaluations: 15074\n",
      "Optimization terminated successfully.\n",
      "         Current function value: 9.122847\n",
      "         Iterations: 40\n",
      "         Function evaluations: 8458\n",
      "Optimization terminated successfully.\n",
      "         Current function value: 10.013836\n",
      "         Iterations: 102\n",
      "         Function evaluations: 23721\n",
      "Optimization terminated successfully.\n",
      "         Current function value: 9.308675\n",
      "         Iterations: 59\n",
      "         Function evaluations: 13703\n",
      "Optimization terminated successfully.\n",
      "         Current function value: 9.145740\n",
      "         Iterations: 82\n",
      "         Function evaluations: 22018\n",
      "Optimization terminated successfully.\n",
      "         Current function value: 9.217554\n",
      "         Iterations: 57\n",
      "         Function evaluations: 11135\n",
      "Optimization terminated successfully.\n",
      "         Current function value: 11.433713\n",
      "         Iterations: 37\n",
      "         Function evaluations: 9508\n",
      "Optimization terminated successfully.\n",
      "         Current function value: 8.997877\n",
      "         Iterations: 61\n",
      "         Function evaluations: 16577\n",
      "Optimization terminated successfully.\n",
      "         Current function value: 13.000890\n",
      "         Iterations: 30\n",
      "         Function evaluations: 8107\n",
      "Optimization terminated successfully.Optimization terminated successfully.\n",
      "         Current function value: 8.984564\n",
      "         Iterations: 93\n",
      "\n",
      "         Function evaluations: 27207         Current function value: 9.181899\n",
      "         Iterations: 44\n",
      "         Function evaluations: 15798\n",
      "\n",
      "Optimization terminated successfully.\n",
      "         Current function value: 14.109674\n",
      "         Iterations: 80\n",
      "         Function evaluations: 25999\n",
      "Optimization terminated successfully.\n",
      "         Current function value: 9.232879\n",
      "         Iterations: 98\n",
      "         Function evaluations: 24396\n",
      "Optimization terminated successfully.\n",
      "         Current function value: 9.208198\n",
      "         Iterations: 65\n",
      "         Function evaluations: 16591\n",
      "Optimization terminated successfully.\n",
      "         Current function value: 9.747908\n",
      "         Iterations: 75\n",
      "         Function evaluations: 22421\n",
      "Optimization terminated successfully.\n",
      "         Current function value: 9.287641\n",
      "         Iterations: 86\n",
      "         Function evaluations: 25657\n",
      "Optimization terminated successfully.\n",
      "         Current function value: 9.217393\n",
      "         Iterations: 76\n",
      "         Function evaluations: 25750\n",
      "Optimization terminated successfully.\n",
      "         Current function value: 9.186411\n",
      "         Iterations: 147\n",
      "         Function evaluations: 47201\n",
      "Optimization terminated successfully.\n",
      "         Current function value: 18.943410\n",
      "         Iterations: 12\n",
      "         Function evaluations: 2686\n",
      "Optimization terminated successfully.\n",
      "         Current function value: 9.168229\n",
      "         Iterations: 89\n",
      "         Function evaluations: 31001\n",
      "Optimization terminated successfully.\n",
      "         Current function value: 11.632604\n",
      "         Iterations: 37\n",
      "         Function evaluations: 12739\n",
      "Optimization terminated successfully.\n",
      "         Current function value: 9.341603\n",
      "         Iterations: 95\n",
      "         Function evaluations: 27048\n",
      "Optimization terminated successfully.\n",
      "         Current function value: 13.228778\n",
      "         Iterations: 71\n",
      "         Function evaluations: 29528\n",
      "Optimization terminated successfully.\n",
      "         Current function value: 9.268581\n",
      "         Iterations: 11\n",
      "         Function evaluations: 3142\n",
      "Optimization terminated successfully.\n",
      "         Current function value: 9.795353\n",
      "         Iterations: 87\n",
      "         Function evaluations: 31619\n",
      "Optimization terminated successfully.\n",
      "         Current function value: 9.011372\n",
      "         Iterations: 267\n",
      "         Function evaluations: 96850\n",
      "Optimization terminated successfully.\n",
      "         Current function value: 12.866624\n",
      "         Iterations: 40\n",
      "         Function evaluations: 12555\n",
      "Optimization terminated successfully.\n",
      "         Current function value: 9.095846\n",
      "         Iterations: 121\n",
      "         Function evaluations: 45066\n",
      "Optimization terminated successfully.\n",
      "         Current function value: 11.163724\n",
      "         Iterations: 22\n",
      "         Function evaluations: 5596\n",
      "Optimization terminated successfully.\n",
      "         Current function value: 12.159470\n",
      "         Iterations: 24\n",
      "         Function evaluations: 8754\n",
      "Optimization terminated successfully.\n",
      "         Current function value: 14.304553\n",
      "         Iterations: 35\n",
      "         Function evaluations: 12007\n",
      "Optimization terminated successfully.\n",
      "         Current function value: 10.688812\n",
      "         Iterations: 108\n",
      "         Function evaluations: 48199\n",
      "Optimization terminated successfully.\n",
      "         Current function value: 12.893536\n",
      "         Iterations: 43\n",
      "         Function evaluations: 17650\n",
      "Optimization terminated successfully.\n",
      "         Current function value: 10.124036\n",
      "         Iterations: 46\n",
      "         Function evaluations: 15313\n",
      "Optimization terminated successfully.\n",
      "         Current function value: 9.050318\n",
      "         Iterations: 68\n",
      "         Function evaluations: 36496\n",
      "Optimization terminated successfully.\n",
      "         Current function value: 9.217239\n",
      "         Iterations: 168\n",
      "         Function evaluations: 79736\n",
      "Optimization terminated successfully.\n",
      "         Current function value: 9.288442\n",
      "         Iterations: 72\n",
      "         Function evaluations: 29027\n",
      "Optimization terminated successfully.\n",
      "         Current function value: 11.587008\n",
      "         Iterations: 13\n",
      "         Function evaluations: 3054\n",
      "Optimization terminated successfully.\n",
      "         Current function value: 10.683567\n",
      "         Iterations: 176\n",
      "         Function evaluations: 93680\n",
      "Optimization terminated successfully.\n",
      "         Current function value: 8.732734\n",
      "         Iterations: 122\n",
      "         Function evaluations: 55254\n",
      "Optimization terminated successfully.\n",
      "         Current function value: 13.964274\n",
      "         Iterations: 94\n",
      "         Function evaluations: 43422\n",
      "Optimization terminated successfully.\n",
      "         Current function value: 9.270841\n",
      "         Iterations: 259\n",
      "         Function evaluations: 108155\n",
      "Optimization terminated successfully.\n",
      "         Current function value: 9.070568\n",
      "         Iterations: 99\n",
      "         Function evaluations: 41595\n",
      "Optimization terminated successfully.\n",
      "         Current function value: 13.980058\n",
      "         Iterations: 9\n",
      "         Function evaluations: 3454\n",
      "Optimization terminated successfully.\n",
      "         Current function value: 9.875884\n",
      "         Iterations: 65\n",
      "         Function evaluations: 28785\n",
      "Optimization terminated successfully.\n",
      "         Current function value: 8.582459\n",
      "         Iterations: 142\n",
      "         Function evaluations: 63078\n",
      "Optimization terminated successfully.\n",
      "         Current function value: 8.823643\n",
      "         Iterations: 62\n",
      "         Function evaluations: 28077\n",
      "Optimization terminated successfully.\n",
      "         Current function value: 8.663268\n",
      "         Iterations: 161\n",
      "         Function evaluations: 89850\n",
      "Optimization terminated successfully.\n",
      "         Current function value: 8.704441\n",
      "         Iterations: 113\n",
      "         Function evaluations: 58797\n",
      "Optimization terminated successfully.\n",
      "         Current function value: 8.562535\n",
      "         Iterations: 114\n",
      "         Function evaluations: 67376\n",
      "Optimization terminated successfully.\n",
      "         Current function value: 11.493173\n",
      "         Iterations: 126\n",
      "         Function evaluations: 71001\n"
     ]
    },
    {
     "name": "stdout",
     "output_type": "stream",
     "text": [
      "Optimization terminated successfully.\n",
      "         Current function value: 8.591833\n",
      "         Iterations: 62\n",
      "         Function evaluations: 23566\n",
      "Optimization terminated successfully.\n",
      "         Current function value: 8.852756\n",
      "         Iterations: 96\n",
      "         Function evaluations: 47462\n",
      "Optimization terminated successfully.\n",
      "         Current function value: 14.670300\n",
      "         Iterations: 22\n",
      "         Function evaluations: 10816\n",
      "Optimization terminated successfully.\n",
      "         Current function value: 11.969031\n",
      "         Iterations: 103\n",
      "         Function evaluations: 59769\n",
      "Optimization terminated successfully.\n",
      "         Current function value: 8.565841\n",
      "         Iterations: 161\n",
      "         Function evaluations: 68224\n",
      "Optimization terminated successfully.\n",
      "         Current function value: 8.976424\n",
      "         Iterations: 111\n",
      "         Function evaluations: 69995\n",
      "Optimization terminated successfully.\n",
      "         Current function value: 8.338383\n",
      "         Iterations: 112\n",
      "         Function evaluations: 37174\n",
      "Optimization terminated successfully.\n",
      "         Current function value: 9.029713\n",
      "         Iterations: 151\n",
      "         Function evaluations: 53386\n",
      "Optimization terminated successfully.\n",
      "         Current function value: 9.185899\n",
      "         Iterations: 115\n",
      "         Function evaluations: 51827\n",
      "Optimization terminated successfully.\n",
      "         Current function value: 9.436553\n",
      "         Iterations: 87\n",
      "         Function evaluations: 51356\n",
      "Optimization terminated successfully.\n",
      "         Current function value: 8.554188\n",
      "         Iterations: 254\n",
      "         Function evaluations: 130150\n",
      "Optimization terminated successfully.\n",
      "         Current function value: 9.001920\n",
      "         Iterations: 138\n",
      "         Function evaluations: 86295\n",
      "Optimization terminated successfully.\n",
      "         Current function value: 9.138475\n",
      "         Iterations: 165\n",
      "         Function evaluations: 76110\n",
      "Optimization terminated successfully.\n",
      "         Current function value: 13.596347\n",
      "         Iterations: 24\n",
      "         Function evaluations: 10375\n",
      "Optimization terminated successfully.\n",
      "         Current function value: 10.192746\n",
      "         Iterations: 146\n",
      "         Function evaluations: 70301\n",
      "Optimization terminated successfully.\n",
      "         Current function value: 9.646149\n",
      "         Iterations: 132\n",
      "         Function evaluations: 91397\n",
      "Optimization terminated successfully.\n",
      "         Current function value: 8.822224\n",
      "         Iterations: 63\n",
      "         Function evaluations: 26390\n",
      "Optimization terminated successfully.\n",
      "         Current function value: 10.427639\n",
      "         Iterations: 21\n",
      "         Function evaluations: 9333\n",
      "Optimization terminated successfully.\n",
      "         Current function value: 9.880626\n",
      "         Iterations: 63\n",
      "         Function evaluations: 39493\n",
      "Optimization terminated successfully.\n",
      "         Current function value: 9.272839\n",
      "         Iterations: 134\n",
      "         Function evaluations: 60006\n",
      "Optimization terminated successfully.\n",
      "         Current function value: 10.002542\n",
      "         Iterations: 74\n",
      "         Function evaluations: 43661\n",
      "Optimization terminated successfully.\n",
      "         Current function value: 8.491290\n",
      "         Iterations: 251\n",
      "         Function evaluations: 156161\n",
      "Optimization terminated successfully.\n",
      "         Current function value: 8.972596\n",
      "         Iterations: 53\n",
      "         Function evaluations: 27843\n",
      "Optimization terminated successfully.\n",
      "         Current function value: 10.738179\n",
      "         Iterations: 79\n",
      "         Function evaluations: 52128\n",
      "Optimization terminated successfully.\n",
      "         Current function value: 8.709039\n",
      "         Iterations: 220\n",
      "         Function evaluations: 140673\n",
      "Optimization terminated successfully.\n",
      "         Current function value: 13.393741\n",
      "         Iterations: 77\n",
      "         Function evaluations: 58665\n",
      "Optimization terminated successfully.\n",
      "         Current function value: 8.680560\n",
      "         Iterations: 114\n",
      "         Function evaluations: 65299\n",
      "Optimization terminated successfully.\n",
      "         Current function value: 8.839413\n",
      "         Iterations: 94\n",
      "         Function evaluations: 51678\n",
      "Optimization terminated successfully.\n",
      "         Current function value: 8.961747\n",
      "         Iterations: 146\n",
      "         Function evaluations: 75872\n",
      "Optimization terminated successfully.\n",
      "         Current function value: 12.827216\n",
      "         Iterations: 34\n",
      "         Function evaluations: 18518\n",
      "Optimization terminated successfully.\n",
      "         Current function value: 8.790200\n",
      "         Iterations: 143\n",
      "         Function evaluations: 68592\n",
      "Optimization terminated successfully.\n",
      "         Current function value: 8.860476\n",
      "         Iterations: 90\n",
      "         Function evaluations: 51202\n",
      "Optimization terminated successfully.\n",
      "         Current function value: 11.592068\n",
      "         Iterations: 84\n",
      "         Function evaluations: 49894\n",
      "Optimization terminated successfully.\n",
      "         Current function value: 9.362567\n",
      "         Iterations: 73\n",
      "         Function evaluations: 46717\n",
      "Optimization terminated successfully.\n",
      "         Current function value: 8.270428\n",
      "         Iterations: 213\n",
      "         Function evaluations: 119120\n",
      "Optimization terminated successfully.\n",
      "         Current function value: 9.030026\n",
      "         Iterations: 102\n",
      "         Function evaluations: 59932\n",
      "Optimization terminated successfully.\n",
      "         Current function value: 9.170958\n",
      "         Iterations: 75\n",
      "         Function evaluations: 48086\n",
      "Optimization terminated successfully.\n",
      "         Current function value: 11.385677\n",
      "         Iterations: 14\n",
      "         Function evaluations: 8172\n",
      "Optimization terminated successfully.\n",
      "         Current function value: 8.258687\n",
      "         Iterations: 142\n",
      "         Function evaluations: 74890\n",
      "Optimization terminated successfully.\n",
      "         Current function value: 9.087080\n",
      "         Iterations: 208\n",
      "         Function evaluations: 185464\n",
      "Optimization terminated successfully.\n",
      "         Current function value: 8.538289\n",
      "         Iterations: 177\n",
      "         Function evaluations: 75784\n",
      "Optimization terminated successfully.\n",
      "         Current function value: 8.528919\n",
      "         Iterations: 18\n",
      "         Function evaluations: 7569\n",
      "Optimization terminated successfully.\n",
      "         Current function value: 8.412512\n",
      "         Iterations: 201\n",
      "         Function evaluations: 137060\n",
      "Optimization terminated successfully.\n",
      "         Current function value: 10.888935\n",
      "         Iterations: 16\n",
      "         Function evaluations: 6595\n",
      "Optimization terminated successfully.\n",
      "         Current function value: 9.027769\n",
      "         Iterations: 178\n",
      "         Function evaluations: 95527\n",
      "Optimization terminated successfully.\n",
      "         Current function value: 8.470293\n",
      "         Iterations: 127\n",
      "         Function evaluations: 99657\n",
      "Optimization terminated successfully.\n",
      "         Current function value: 8.559283\n",
      "         Iterations: 17\n",
      "         Function evaluations: 6774\n",
      "Optimization terminated successfully.\n",
      "         Current function value: 10.525598\n",
      "         Iterations: 22\n",
      "         Function evaluations: 10706\n",
      "Optimization terminated successfully.\n",
      "         Current function value: 9.547603\n",
      "         Iterations: 182\n",
      "         Function evaluations: 132809\n",
      "Optimization terminated successfully.\n",
      "         Current function value: 8.538932\n",
      "         Iterations: 109\n",
      "         Function evaluations: 62230\n",
      "Optimization terminated successfully.\n",
      "         Current function value: 8.828628\n",
      "         Iterations: 81\n",
      "         Function evaluations: 58037\n",
      "Optimization terminated successfully.\n",
      "         Current function value: 10.019093\n",
      "         Iterations: 68\n",
      "         Function evaluations: 51055\n",
      "Optimization terminated successfully.\n",
      "         Current function value: 8.561759\n",
      "         Iterations: 336\n",
      "         Function evaluations: 234980\n",
      "Optimization terminated successfully.\n",
      "         Current function value: 8.155879\n",
      "         Iterations: 238\n",
      "         Function evaluations: 147140\n",
      "Optimization terminated successfully.\n",
      "         Current function value: 10.420281\n",
      "         Iterations: 18\n",
      "         Function evaluations: 10037\n",
      "Optimization terminated successfully.\n",
      "         Current function value: 8.305685\n",
      "         Iterations: 257\n",
      "         Function evaluations: 147059\n",
      "Optimization terminated successfully.\n",
      "         Current function value: 8.482375\n",
      "         Iterations: 209\n",
      "         Function evaluations: 106914\n",
      "Optimization terminated successfully.\n",
      "         Current function value: 8.352216\n",
      "         Iterations: 97\n"
     ]
    },
    {
     "name": "stdout",
     "output_type": "stream",
     "text": [
      "         Function evaluations: 68896\n",
      "Optimization terminated successfully.\n",
      "         Current function value: 8.830127\n",
      "         Iterations: 292\n",
      "         Function evaluations: 231636\n",
      "Optimization terminated successfully.\n",
      "         Current function value: 9.054412\n",
      "         Iterations: 153\n",
      "         Function evaluations: 121059\n",
      "Optimization terminated successfully.\n",
      "         Current function value: 8.189016\n",
      "         Iterations: 93\n",
      "         Function evaluations: 40389\n",
      "Optimization terminated successfully.\n",
      "         Current function value: 10.087148\n",
      "         Iterations: 92\n",
      "         Function evaluations: 76483\n",
      "Optimization terminated successfully.\n",
      "         Current function value: 8.521222\n",
      "         Iterations: 104\n",
      "         Function evaluations: 50127\n",
      "Optimization terminated successfully.\n",
      "         Current function value: 9.238926\n",
      "         Iterations: 146\n",
      "         Function evaluations: 111986\n",
      "Optimization terminated successfully.\n",
      "         Current function value: 9.951881\n",
      "         Iterations: 40\n",
      "         Function evaluations: 28503\n",
      "Optimization terminated successfully.\n",
      "         Current function value: 9.099253\n",
      "         Iterations: 30\n",
      "         Function evaluations: 17159\n",
      "Optimization terminated successfully.\n",
      "         Current function value: 9.752522\n",
      "         Iterations: 22\n",
      "         Function evaluations: 12044\n",
      "Optimization terminated successfully.\n",
      "         Current function value: 9.560763\n",
      "         Iterations: 84\n",
      "         Function evaluations: 69528\n",
      "Optimization terminated successfully.\n",
      "         Current function value: 11.277441\n",
      "         Iterations: 120\n",
      "         Function evaluations: 89570\n",
      "Optimization terminated successfully.\n",
      "         Current function value: 8.244874\n",
      "         Iterations: 200\n",
      "         Function evaluations: 132602\n",
      "Optimization terminated successfully.\n",
      "         Current function value: 8.690327\n",
      "         Iterations: 20\n",
      "         Function evaluations: 10609\n",
      "Optimization terminated successfully.\n",
      "         Current function value: 8.095219\n",
      "         Iterations: 254\n",
      "         Function evaluations: 158858\n",
      "Optimization terminated successfully.\n",
      "         Current function value: 9.877681\n",
      "         Iterations: 207\n",
      "         Function evaluations: 168040\n",
      "Optimization terminated successfully.\n",
      "         Current function value: 9.307520\n",
      "         Iterations: 60\n",
      "         Function evaluations: 36831\n",
      "Optimization terminated successfully.\n",
      "         Current function value: 8.105501\n",
      "         Iterations: 275\n",
      "         Function evaluations: 208299\n",
      "Optimization terminated successfully.\n",
      "         Current function value: 8.066669\n",
      "         Iterations: 198\n",
      "         Function evaluations: 135001\n",
      "Optimization terminated successfully.\n",
      "         Current function value: 8.367191\n",
      "         Iterations: 89\n",
      "         Function evaluations: 80993\n",
      "Optimization terminated successfully.\n",
      "         Current function value: 8.035406\n",
      "         Iterations: 171\n",
      "         Function evaluations: 74527\n",
      "Optimization terminated successfully.\n",
      "         Current function value: 9.301961\n",
      "         Iterations: 120\n",
      "         Function evaluations: 100059\n",
      "Optimization terminated successfully.\n",
      "         Current function value: 8.230749\n",
      "         Iterations: 124\n",
      "         Function evaluations: 83567\n",
      "Optimization terminated successfully.\n",
      "         Current function value: 8.286774\n",
      "         Iterations: 287\n",
      "         Function evaluations: 264965\n",
      "Optimization terminated successfully.\n",
      "         Current function value: 8.313532\n",
      "         Iterations: 160\n",
      "         Function evaluations: 146923\n",
      "Optimization terminated successfully.\n",
      "         Current function value: 16.660431\n",
      "         Iterations: 4\n",
      "         Function evaluations: 3464\n",
      "Optimization terminated successfully.\n",
      "         Current function value: 8.540251\n",
      "         Iterations: 279\n",
      "         Function evaluations: 225969\n",
      "Optimization terminated successfully.\n",
      "         Current function value: 8.276219\n",
      "         Iterations: 372\n",
      "         Function evaluations: 322332\n",
      "Optimization terminated successfully.\n",
      "         Current function value: 8.046497\n",
      "         Iterations: 301\n",
      "         Function evaluations: 260430\n",
      "Optimization terminated successfully.\n",
      "         Current function value: 8.214927\n",
      "         Iterations: 194\n",
      "         Function evaluations: 146938\n",
      "Optimization terminated successfully.\n",
      "         Current function value: 8.124183\n",
      "         Iterations: 217\n",
      "         Function evaluations: 168902\n",
      "Optimization terminated successfully.\n",
      "         Current function value: 8.535795\n",
      "         Iterations: 241\n",
      "         Function evaluations: 180156\n",
      "Optimization terminated successfully.\n",
      "         Current function value: 8.066322\n",
      "         Iterations: 263\n",
      "         Function evaluations: 262838\n",
      "Optimization terminated successfully.\n",
      "         Current function value: 8.569250\n",
      "         Iterations: 346\n",
      "         Function evaluations: 345279\n",
      "Optimization terminated successfully.\n",
      "         Current function value: 8.209858\n",
      "         Iterations: 359\n",
      "         Function evaluations: 263943\n",
      "Optimization terminated successfully.\n",
      "         Current function value: 8.360382\n",
      "         Iterations: 365\n",
      "         Function evaluations: 308172\n",
      "Optimization terminated successfully.\n",
      "         Current function value: 8.505634\n",
      "         Iterations: 264\n",
      "         Function evaluations: 261725\n",
      "CPU times: user 1.04 s, sys: 443 ms, total: 1.48 s\n",
      "Wall time: 2h 6min 14s\n"
     ]
    }
   ],
   "source": [
    "%%time\n",
    "import concurrent.futures\n",
    "max_order = 10\n",
    "ntrial = 1\n",
    "fit_results = []\n",
    "orders = []\n",
    "# with concurrent.futures.ProcessPoolExecutor() as executor:\n",
    "#         results = [executor.submit(\n",
    "#             _multigen, size,\n",
    "#             bound_of_simple_zeros,\n",
    "#             bound_of_simple_poles,\n",
    "#             bound_of_complex_zeros,\n",
    "#             bound_of_complex_poles,\n",
    "#             max_q,\n",
    "#             strictly_proper,\n",
    "#             snr,\n",
    "#             navg) for _ in range(nsample)]\n",
    "\n",
    "#         for f in concurrent.futures.as_completed(results):\n",
    "#             one_zero_and_pole, one_transfer_function = f.result()\n",
    "#             zero_and_pole.append(one_zero_and_pole)\n",
    "#             transfer_function.append(one_transfer_function)\n",
    "\n",
    "with concurrent.futures.ProcessPoolExecutor() as executor:\n",
    "    results = []\n",
    "    for order in range(0, max_order+1):\n",
    "        for _ in range(ntrial):\n",
    "            results.append(executor.submit(fit, cost, order ,f, data, weight))\n",
    "    for f in concurrent.futures.as_completed(results):\n",
    "            fit_result, order = f.result()\n",
    "            fit_results.append(fit_result)\n",
    "            orders.append(order)"
   ]
  },
  {
   "cell_type": "code",
   "execution_count": 14,
   "metadata": {
    "scrolled": false
   },
   "outputs": [
    {
     "data": {
      "image/png": "[encoded data removed]",
      "text/plain": [
       "<Figure size 1080x720 with 1 Axes>"
      ]
     },
     "metadata": {
      "needs_background": "light"
     },
     "output_type": "display_data"
    }
   ],
   "source": [
    "plt.figure(figsize=(15,10))\n",
    "for i in range(len(fit_results)):\n",
    "    plt.plot(orders[i], fit_results[i].fun, 'o')\n",
    "\n",
    "plt.ylabel('Cost')\n",
    "plt.xlabel('Order')\n",
    "plt.grid()"
   ]
  },
  {
   "cell_type": "code",
   "execution_count": 13,
   "metadata": {},
   "outputs": [
    {
     "data": {
      "text/plain": [
       "[   direc: array([[1.]])\n",
       "      fun: 24.073357682542024\n",
       "  message: 'Optimization terminated successfully.'\n",
       "     nfev: 20\n",
       "      nit: 2\n",
       "   status: 0\n",
       "  success: True\n",
       "        x: array([-4.64411768]),\n",
       "    direc: array([[1.]])\n",
       "      fun: 24.073357682542024\n",
       "  message: 'Optimization terminated successfully.'\n",
       "     nfev: 20\n",
       "      nit: 2\n",
       "   status: 0\n",
       "  success: True\n",
       "        x: array([-4.64411768]),\n",
       "    direc: array([[1.]])\n",
       "      fun: 24.073357682542024\n",
       "  message: 'Optimization terminated successfully.'\n",
       "     nfev: 20\n",
       "      nit: 2\n",
       "   status: 0\n",
       "  success: True\n",
       "        x: array([-4.64411768]),\n",
       "    direc: array([[ 0.08511298,  0.17230924, -0.37070818,  0.28737078,  0.15664633],\n",
       "        [ 0.        ,  0.        ,  0.        ,  0.        ,  1.        ],\n",
       "        [ 0.05197003,  0.72863053,  0.5080916 ,  0.11104613,  0.08116395],\n",
       "        [-0.32157772, -0.15855635, -0.48825404, -0.10113789,  0.24652661],\n",
       "        [-0.74171195,  0.20131375, -0.62614319, -0.72816624,  0.72261459]])\n",
       "      fun: 16.391670202887134\n",
       "  message: 'Optimization terminated successfully.'\n",
       "     nfev: 545\n",
       "      nit: 9\n",
       "   status: 0\n",
       "  success: True\n",
       "        x: array([-3.10713761,  1.12191237, -2.8303265 , -2.19915988, -2.0559739 ]),\n",
       "    direc: array([[ 0.08511298,  0.17230924, -0.37070818,  0.28737078,  0.15664633],\n",
       "        [ 0.        ,  0.        ,  0.        ,  0.        ,  1.        ],\n",
       "        [ 0.05197003,  0.72863053,  0.5080916 ,  0.11104613,  0.08116395],\n",
       "        [-0.32157772, -0.15855635, -0.48825404, -0.10113789,  0.24652661],\n",
       "        [-0.74171195,  0.20131375, -0.62614319, -0.72816624,  0.72261459]])\n",
       "      fun: 16.391670202887134\n",
       "  message: 'Optimization terminated successfully.'\n",
       "     nfev: 545\n",
       "      nit: 9\n",
       "   status: 0\n",
       "  success: True\n",
       "        x: array([-3.10713761,  1.12191237, -2.8303265 , -2.19915988, -2.0559739 ]),\n",
       "    direc: array([[ 1.64372644e+00, -2.66751880e+00,  2.69521325e+00],\n",
       "        [-1.89735526e-02, -2.89164191e-01,  2.65556558e-01],\n",
       "        [ 1.14923502e-03, -2.30966477e-02,  2.36824333e-02]])\n",
       "      fun: 16.343220006133464\n",
       "  message: 'Optimization terminated successfully.'\n",
       "     nfev: 827\n",
       "      nit: 17\n",
       "   status: 0\n",
       "  success: True\n",
       "        x: array([ 1.08203841, -3.10717463, -0.88941972]),\n",
       "    direc: array([[ 1.64372644e+00, -2.66751880e+00,  2.69521325e+00],\n",
       "        [-1.89735526e-02, -2.89164191e-01,  2.65556558e-01],\n",
       "        [ 1.14923502e-03, -2.30966477e-02,  2.36824333e-02]])\n",
       "      fun: 16.343220006133464\n",
       "  message: 'Optimization terminated successfully.'\n",
       "     nfev: 827\n",
       "      nit: 17\n",
       "   status: 0\n",
       "  success: True\n",
       "        x: array([ 1.08203841, -3.10717463, -0.88941972]),\n",
       "    direc: array([[ 1.64372644e+00, -2.66751880e+00,  2.69521325e+00],\n",
       "        [-1.89735526e-02, -2.89164191e-01,  2.65556558e-01],\n",
       "        [ 1.14923502e-03, -2.30966477e-02,  2.36824333e-02]])\n",
       "      fun: 16.343220006133464\n",
       "  message: 'Optimization terminated successfully.'\n",
       "     nfev: 827\n",
       "      nit: 17\n",
       "   status: 0\n",
       "  success: True\n",
       "        x: array([ 1.08203841, -3.10717463, -0.88941972]),\n",
       "    direc: array([[-6.73901537e-04, -2.66353836e-02, -2.27922347e-01,\n",
       "         -3.49262678e-01,  5.59251729e-01],\n",
       "        [-2.60229113e-02,  6.83788494e-02, -1.61877023e-01,\n",
       "         -3.02553503e-01,  4.70194600e-01],\n",
       "        [-1.13827308e-03,  1.44920663e-03, -9.43442592e-04,\n",
       "          1.25328199e-06,  6.87401178e-04],\n",
       "        [ 1.27670405e-03,  1.46600960e-03,  4.69292919e-04,\n",
       "         -1.22630832e-06,  1.73312063e-03],\n",
       "        [-1.37018158e-04,  7.36361512e-05,  3.01120201e-05,\n",
       "         -2.25926146e-07,  1.69257609e-06]])\n",
       "      fun: 11.880771561654562\n",
       "  message: 'Optimization terminated successfully.'\n",
       "     nfev: 1420\n",
       "      nit: 19\n",
       "   status: 0\n",
       "  success: True\n",
       "        x: array([ 0.6720114 ,  0.67227355, -3.06322722, -3.10716049,  2.38021587]),\n",
       "    direc: array([[ 7.02339821e-02,  4.95437117e-02, -2.17200259e-02,\n",
       "          2.12929928e-02,  2.72902095e-02,  6.93104749e-03,\n",
       "          3.65978163e-02],\n",
       "        [ 6.42662130e-02, -2.38510311e-01,  6.41938674e-02,\n",
       "         -4.63353463e-01, -1.16108631e-01, -3.05272814e-02,\n",
       "          4.98838143e-01],\n",
       "        [-2.38977914e-01,  1.64653224e-01, -1.06090488e-01,\n",
       "         -4.78935424e-01, -2.87511506e-01, -5.83045701e-02,\n",
       "          5.35839888e-01],\n",
       "        [-3.31731007e-09,  2.84248639e-09, -3.56492736e-08,\n",
       "         -1.30874343e-13, -4.06541047e-08, -9.19271063e-09,\n",
       "          7.91497149e-09],\n",
       "        [ 0.00000000e+00,  0.00000000e+00,  0.00000000e+00,\n",
       "          0.00000000e+00,  1.00000000e+00,  0.00000000e+00,\n",
       "          0.00000000e+00],\n",
       "        [ 1.54318215e-01,  4.47263216e-04, -1.05715667e-01,\n",
       "         -1.66680097e-01,  2.03648402e-01, -1.30459763e-02,\n",
       "          9.91706105e-02],\n",
       "        [-8.37498001e-05,  2.24013645e-05, -6.56806185e-06,\n",
       "          1.10883264e-06, -1.64965949e-03, -2.03395650e-05,\n",
       "         -4.53427856e-06]])\n",
       "      fun: 12.751213594716782\n",
       "  message: 'Optimization terminated successfully.'\n",
       "     nfev: 2678\n",
       "      nit: 23\n",
       "   status: 0\n",
       "  success: True\n",
       "        x: array([ 0.55330756,  1.11092218, -1.85470183, -3.05195309, -1.66545043,\n",
       "        -1.64329294,  0.86030967]),\n",
       "    direc: array([[-2.69537299e-08,  1.95917768e-08,  5.10635277e-09,\n",
       "         -2.94876962e-07,  6.78181806e-09,  1.78027459e-06,\n",
       "         -1.50856715e-06],\n",
       "        [ 4.19717810e-08, -4.77726942e-08,  8.84480177e-09,\n",
       "         -1.68987134e-07, -8.23124460e-09, -4.30657622e-11,\n",
       "          1.83294690e-07],\n",
       "        [-1.30629910e-01, -1.93691641e-01,  4.44454578e-06,\n",
       "          0.00000000e+00, -5.61856917e-01, -1.89314177e-01,\n",
       "          3.91597957e-02],\n",
       "        [-2.94069517e-04,  5.85532657e-02, -3.87474572e-02,\n",
       "         -2.59571438e-01, -2.38048008e-02, -2.27158461e-01,\n",
       "          5.05700746e-01],\n",
       "        [-1.24926224e-01,  9.13230738e-02,  8.88927508e-02,\n",
       "          2.15540269e-01,  1.45654702e-02, -1.39298525e-01,\n",
       "         -4.66773798e-02],\n",
       "        [ 7.98898093e-04, -3.07446734e-04, -2.62416813e-03,\n",
       "          4.51778818e-12,  6.91024210e-05,  2.65524560e-03,\n",
       "         -3.82822415e-03],\n",
       "        [-3.63709471e-05,  7.05738825e-06,  1.93884896e-05,\n",
       "         -2.10637588e-12,  2.36145684e-05, -1.21172733e-04,\n",
       "          1.08443131e-04]])\n",
       "      fun: 11.41317490909301\n",
       "  message: 'Optimization terminated successfully.'\n",
       "     nfev: 4000\n",
       "      nit: 34\n",
       "   status: 0\n",
       "  success: True\n",
       "        x: array([ 0.86054376,  0.85992215,  0.85528511, -3.10715664,  1.48893502,\n",
       "        -3.10717603,  2.40005544]),\n",
       "    direc: array([[-2.69537299e-08,  1.95917768e-08,  5.10635277e-09,\n",
       "         -2.94876962e-07,  6.78181806e-09,  1.78027459e-06,\n",
       "         -1.50856715e-06],\n",
       "        [ 4.19717810e-08, -4.77726942e-08,  8.84480177e-09,\n",
       "         -1.68987134e-07, -8.23124460e-09, -4.30657622e-11,\n",
       "          1.83294690e-07],\n",
       "        [-1.30629910e-01, -1.93691641e-01,  4.44454578e-06,\n",
       "          0.00000000e+00, -5.61856917e-01, -1.89314177e-01,\n",
       "          3.91597957e-02],\n",
       "        [-2.94069517e-04,  5.85532657e-02, -3.87474572e-02,\n",
       "         -2.59571438e-01, -2.38048008e-02, -2.27158461e-01,\n",
       "          5.05700746e-01],\n",
       "        [-1.24926224e-01,  9.13230738e-02,  8.88927508e-02,\n",
       "          2.15540269e-01,  1.45654702e-02, -1.39298525e-01,\n",
       "         -4.66773798e-02],\n",
       "        [ 7.98898093e-04, -3.07446734e-04, -2.62416813e-03,\n",
       "          4.51778818e-12,  6.91024210e-05,  2.65524560e-03,\n",
       "         -3.82822415e-03],\n",
       "        [-3.63709471e-05,  7.05738825e-06,  1.93884896e-05,\n",
       "         -2.10637588e-12,  2.36145684e-05, -1.21172733e-04,\n",
       "          1.08443131e-04]])\n",
       "      fun: 11.41317490909301\n",
       "  message: 'Optimization terminated successfully.'\n",
       "     nfev: 4000\n",
       "      nit: 34\n",
       "   status: 0\n",
       "  success: True\n",
       "        x: array([ 0.86054376,  0.85992215,  0.85528511, -3.10715664,  1.48893502,\n",
       "        -3.10717603,  2.40005544])]"
      ]
     },
     "execution_count": 13,
     "metadata": {},
     "output_type": "execute_result"
    }
   ],
   "source": [
    "fit_results"
   ]
  },
  {
   "cell_type": "code",
   "execution_count": 15,
   "metadata": {
    "scrolled": true
   },
   "outputs": [
    {
     "data": {
      "image/png": "[encoded data removed]",
      "text/plain": [
       "<Figure size 720x360 with 1 Axes>"
      ]
     },
     "metadata": {
      "needs_background": "light"
     },
     "output_type": "display_data"
    }
   ],
   "source": [
    "plt.figure(figsize=(10,5))\n",
    "plt.loglog(data, label='Measured')\n",
    "plt.loglog(abs(args2tf(fit_results[-5].x, f, data)), label='Fit 20-order')\n",
    "plt.ylabel('ASD')\n",
    "plt.xlabel('Frequency (Hz)')\n",
    "plt.legend(loc=0)\n",
    "plt.grid()"
   ]
  },
  {
   "cell_type": "code",
   "execution_count": 16,
   "metadata": {},
   "outputs": [
    {
     "data": {
      "text/plain": [
       "list"
      ]
     },
     "execution_count": 16,
     "metadata": {},
     "output_type": "execute_result"
    }
   ],
   "source": [
    "type(fit_results)"
   ]
  },
  {
   "cell_type": "code",
   "execution_count": 17,
   "metadata": {},
   "outputs": [],
   "source": [
    "reordered_orders = []\n",
    "reordered_fit_results = []\n",
    "for order in range(0, max_order+1):\n",
    "    for i in range(len(orders)):\n",
    "        if orders[i] == order:\n",
    "            reordered_orders.append(orders[i])\n",
    "            reordered_fit_results.append(fit_results[i])"
   ]
  },
  {
   "cell_type": "code",
   "execution_count": 32,
   "metadata": {},
   "outputs": [],
   "source": [
    "average_costs = []\n",
    "best_costs = []\n",
    "for order in range(0, max_order+1):\n",
    "    bufferlist = []\n",
    "    for i in range(len(reordered_orders)):\n",
    "        if reordered_orders[i] == order:\n",
    "            bufferlist.append(reordered_fit_results[i].fun)\n",
    "    average_costs.append(np.mean(bufferlist))\n",
    "    best_costs.append(np.min(bufferlist))\n"
   ]
  },
  {
   "cell_type": "code",
   "execution_count": 33,
   "metadata": {
    "scrolled": true
   },
   "outputs": [
    {
     "data": {
      "text/plain": [
       "[<matplotlib.lines.Line2D at 0x7fb76c42ac40>]"
      ]
     },
     "execution_count": 33,
     "metadata": {},
     "output_type": "execute_result"
    },
    {
     "data": {
      "image/png": "[encoded data removed]",
      "text/plain": [
       "<Figure size 432x288 with 1 Axes>"
      ]
     },
     "metadata": {
      "needs_background": "light"
     },
     "output_type": "display_data"
    }
   ],
   "source": [
    "plt.plot(average_costs)\n",
    "plt.plot(best_costs)"
   ]
  },
  {
   "cell_type": "code",
   "execution_count": 34,
   "metadata": {
    "scrolled": true
   },
   "outputs": [
    {
     "data": {
      "text/plain": [
       "[24.07335768231007,\n",
       " 16.343082998470067,\n",
       " 11.880649235602874,\n",
       " 10.108877984017237,\n",
       " 9.343799285243051,\n",
       " 9.193277685681137,\n",
       " 9.12284656488686,\n",
       " 8.98456362163293,\n",
       " 9.095846468598552,\n",
       " 9.217238517883912,\n",
       " 8.58245909341,\n",
       " 8.562534795745993,\n",
       " 8.338383234682444,\n",
       " 8.709038635175652,\n",
       " 8.27042764256053,\n",
       " 8.258686671149412,\n",
       " 8.155879193154682,\n",
       " 8.189016053015807,\n",
       " 8.095218630340533,\n",
       " 8.035405707779582,\n",
       " 8.066322242802915]"
      ]
     },
     "execution_count": 34,
     "metadata": {},
     "output_type": "execute_result"
    }
   ],
   "source": [
    "best_costs"
   ]
  },
  {
   "cell_type": "code",
   "execution_count": 39,
   "metadata": {},
   "outputs": [
    {
     "name": "stdout",
     "output_type": "stream",
     "text": [
      "11.31134957266691\n",
      "9.480363254679268\n",
      "9.344834335714898\n",
      "9.948461432927672\n",
      "11.313263604867307\n",
      "10.025878360871568\n",
      "9.344729371433624\n",
      "9.770757910245944\n",
      "9.343799285243051\n",
      "10.102942532091014\n"
     ]
    }
   ],
   "source": [
    "for fit_results in reordered_fit_results[40:50]:\n",
    "    print(fit_results.fun)\n",
    "    "
   ]
  },
  {
   "cell_type": "code",
   "execution_count": 35,
   "metadata": {},
   "outputs": [
    {
     "data": {
      "text/plain": [
       "80"
      ]
     },
     "execution_count": 35,
     "metadata": {},
     "output_type": "execute_result"
    }
   ],
   "source": [
    "reordered_orders.index(8)"
   ]
  },
  {
   "cell_type": "code",
   "execution_count": 41,
   "metadata": {
    "scrolled": true
   },
   "outputs": [
    {
     "data": {
      "text/plain": [
       "[<matplotlib.lines.Line2D at 0x7fb763ea1b50>]"
      ]
     },
     "execution_count": 41,
     "metadata": {},
     "output_type": "execute_result"
    },
    {
     "data": {
      "image/png": "[encoded data removed]",
      "text/plain": [
       "<Figure size 432x288 with 1 Axes>"
      ]
     },
     "metadata": {
      "needs_background": "light"
     },
     "output_type": "display_data"
    }
   ],
   "source": [
    "plt.loglog(data)\n",
    "plt.loglog(abs(args2tf(reordered_fit_results[48].x, f, data)))"
   ]
  },
  {
   "cell_type": "code",
   "execution_count": 49,
   "metadata": {},
   "outputs": [
    {
     "data": {
      "text/plain": [
       "[<matplotlib.lines.Line2D at 0x7fb7639d74f0>]"
      ]
     },
     "execution_count": 49,
     "metadata": {},
     "output_type": "execute_result"
    },
    {
     "data": {
      "image/png": "[encoded data removed]",
      "text/plain": [
       "<Figure size 432x288 with 1 Axes>"
      ]
     },
     "metadata": {
      "needs_background": "light"
     },
     "output_type": "display_data"
    }
   ],
   "source": [
    "ff = np.logspace(-5,5,10000)\n",
    "tf_fit = args2control_tf(reordered_fit_results[48].x, ff, data)\n",
    "# ff = np.logspace(-5,5, 10000)\n",
    "plt.loglog(f, data)\n",
    "plt.loglog(ff, abs(tf_fit))"
   ]
  },
  {
   "cell_type": "code",
   "execution_count": 328,
   "metadata": {
    "scrolled": true
   },
   "outputs": [
    {
     "data": {
      "text/plain": [
       "[<matplotlib.lines.Line2D at 0x7f43c5ac7a00>]"
      ]
     },
     "execution_count": 328,
     "metadata": {},
     "output_type": "execute_result"
    },
    {
     "data": {
      "image/png": "[encoded data removed]",
      "text/plain": [
       "<Figure size 432x288 with 1 Axes>"
      ]
     },
     "metadata": {
      "needs_background": "light"
     },
     "output_type": "display_data"
    }
   ],
   "source": [
    "plt.loglog(f,abs(data))\n",
    "plt.loglog(f,abs(tf_fits[2]))\n",
    "plt.loglog(f,abs(tf_fits[6]))\n",
    "# for tf_fit in tf_fits:\n",
    "#     plt.loglog(abs(tf_fit))"
   ]
  },
  {
   "cell_type": "code",
   "execution_count": 239,
   "metadata": {},
   "outputs": [
    {
     "data": {
      "text/plain": [
       "[<matplotlib.lines.Line2D at 0x7f43e9569cd0>]"
      ]
     },
     "execution_count": 239,
     "metadata": {},
     "output_type": "execute_result"
    },
    {
     "data": {
      "image/png": "[encoded data removed]",
      "text/plain": [
       "<Figure size 432x288 with 1 Axes>"
      ]
     },
     "metadata": {
      "needs_background": "light"
     },
     "output_type": "display_data"
    }
   ],
   "source": [
    "tfs = args2tf([1,2,3,4,5,1,5], f, data)\n",
    "tfcontrol = args2tf([1,2,3,4,5,1,5], f, data)\n",
    "tfs-tfcontrol\n",
    "plt.loglog(abs(tfs))\n",
    "plt.loglog(abs(tfcontrol))"
   ]
  },
  {
   "cell_type": "code",
   "execution_count": 240,
   "metadata": {},
   "outputs": [
    {
     "data": {
      "text/plain": [
       "dtype('complex128')"
      ]
     },
     "execution_count": 240,
     "metadata": {},
     "output_type": "execute_result"
    }
   ],
   "source": [
    "tfs.dtype"
   ]
  },
  {
   "cell_type": "code",
   "execution_count": 241,
   "metadata": {},
   "outputs": [
    {
     "data": {
      "text/plain": [
       "dtype('complex128')"
      ]
     },
     "execution_count": 241,
     "metadata": {},
     "output_type": "execute_result"
    }
   ],
   "source": [
    "tfcontrol.dtype"
   ]
  },
  {
   "cell_type": "code",
   "execution_count": 199,
   "metadata": {
    "scrolled": true
   },
   "outputs": [
    {
     "name": "stderr",
     "output_type": "stream",
     "text": [
      "/home/terrencetec/.local/lib/python3.8/site-packages/scipy/optimize/_differentialevolution.py:495: UserWarning: differential_evolution: the 'workers' keyword has overridden updating='immediate' to updating='deferred'\n",
      "  warnings.warn(\"differential_evolution: the 'workers' keyword has\"\n"
     ]
    },
    {
     "name": "stdout",
     "output_type": "stream",
     "text": [
      "differential_evolution step 1: f(x)= 4.66743e+20\n",
      "differential_evolution step 2: f(x)= 9.4409e+19\n",
      "differential_evolution step 3: f(x)= 2.68974e+19\n",
      "differential_evolution step 4: f(x)= 2.23256e+19\n",
      "differential_evolution step 5: f(x)= 2.23256e+19\n",
      "differential_evolution step 6: f(x)= 2.23256e+19\n",
      "differential_evolution step 7: f(x)= 9.77878e+18\n",
      "differential_evolution step 8: f(x)= 1.32515e+15\n",
      "differential_evolution step 9: f(x)= 1.32515e+15\n",
      "differential_evolution step 10: f(x)= 1.32515e+15\n",
      "differential_evolution step 11: f(x)= 1.32515e+15\n",
      "differential_evolution step 12: f(x)= 1.32515e+15\n",
      "differential_evolution step 13: f(x)= 1.32515e+15\n",
      "differential_evolution step 14: f(x)= 1.32515e+15\n",
      "differential_evolution step 15: f(x)= 1.79334e+13\n",
      "differential_evolution step 16: f(x)= 1.79334e+13\n",
      "differential_evolution step 17: f(x)= 1.64581e+10\n",
      "differential_evolution step 18: f(x)= 1.64581e+10\n",
      "differential_evolution step 19: f(x)= 1.64581e+10\n",
      "differential_evolution step 20: f(x)= 6.38895e+09\n",
      "differential_evolution step 21: f(x)= 6.38895e+09\n",
      "differential_evolution step 22: f(x)= 6.38895e+09\n",
      "differential_evolution step 23: f(x)= 6.38895e+09\n",
      "differential_evolution step 24: f(x)= 4.54213e+07\n",
      "differential_evolution step 25: f(x)= 4.54213e+07\n",
      "differential_evolution step 26: f(x)= 4.54213e+07\n",
      "differential_evolution step 27: f(x)= 4.54213e+07\n",
      "differential_evolution step 28: f(x)= 4.54213e+07\n",
      "differential_evolution step 29: f(x)= 1.82771e+07\n",
      "differential_evolution step 30: f(x)= 1.82771e+07\n",
      "differential_evolution step 31: f(x)= 553563\n",
      "differential_evolution step 32: f(x)= 553563\n",
      "differential_evolution step 33: f(x)= 553563\n",
      "differential_evolution step 34: f(x)= 553563\n",
      "differential_evolution step 35: f(x)= 218696\n",
      "differential_evolution step 36: f(x)= 142043\n",
      "differential_evolution step 37: f(x)= 33895.4\n",
      "differential_evolution step 38: f(x)= 5165.43\n",
      "differential_evolution step 39: f(x)= 2692.7\n",
      "differential_evolution step 40: f(x)= 2692.7\n",
      "differential_evolution step 41: f(x)= 415.597\n",
      "differential_evolution step 42: f(x)= 415.597\n",
      "differential_evolution step 43: f(x)= 415.597\n",
      "differential_evolution step 44: f(x)= 415.597\n",
      "differential_evolution step 45: f(x)= 415.597\n",
      "differential_evolution step 46: f(x)= 199.069\n",
      "differential_evolution step 47: f(x)= 199.069\n",
      "differential_evolution step 48: f(x)= 47.6469\n",
      "differential_evolution step 49: f(x)= 32.0235\n",
      "differential_evolution step 50: f(x)= 29.1516\n",
      "differential_evolution step 51: f(x)= 24.2961\n",
      "differential_evolution step 52: f(x)= 19.9001\n",
      "differential_evolution step 53: f(x)= 19.9001\n",
      "differential_evolution step 54: f(x)= 14.1642\n",
      "differential_evolution step 55: f(x)= 10.4243\n",
      "differential_evolution step 56: f(x)= 10.4243\n",
      "differential_evolution step 57: f(x)= 10.4243\n",
      "differential_evolution step 58: f(x)= 10.4243\n",
      "differential_evolution step 59: f(x)= 10.4243\n",
      "differential_evolution step 60: f(x)= 10.4243\n",
      "differential_evolution step 61: f(x)= 10.4243\n",
      "differential_evolution step 62: f(x)= 10.4243\n",
      "differential_evolution step 63: f(x)= 10.3076\n",
      "differential_evolution step 64: f(x)= 10.3076\n",
      "differential_evolution step 65: f(x)= 10.3076\n",
      "differential_evolution step 66: f(x)= 9.98505\n",
      "differential_evolution step 67: f(x)= 9.98505\n",
      "differential_evolution step 68: f(x)= 9.93351\n",
      "differential_evolution step 69: f(x)= 9.93351\n",
      "differential_evolution step 70: f(x)= 9.93351\n",
      "differential_evolution step 71: f(x)= 9.93351\n",
      "differential_evolution step 72: f(x)= 9.93351\n",
      "differential_evolution step 73: f(x)= 9.93351\n",
      "differential_evolution step 74: f(x)= 9.93351\n",
      "differential_evolution step 75: f(x)= 9.93351\n",
      "differential_evolution step 76: f(x)= 9.93351\n",
      "differential_evolution step 77: f(x)= 9.93351\n",
      "differential_evolution step 78: f(x)= 9.93351\n",
      "differential_evolution step 79: f(x)= 9.93351\n",
      "differential_evolution step 80: f(x)= 9.93351\n",
      "differential_evolution step 81: f(x)= 9.93351\n",
      "differential_evolution step 82: f(x)= 9.93351\n",
      "differential_evolution step 83: f(x)= 9.90723\n",
      "differential_evolution step 84: f(x)= 9.90723\n",
      "differential_evolution step 85: f(x)= 9.90723\n",
      "differential_evolution step 86: f(x)= 9.90723\n",
      "differential_evolution step 87: f(x)= 9.90723\n",
      "differential_evolution step 88: f(x)= 9.90723\n",
      "differential_evolution step 89: f(x)= 9.90723\n",
      "differential_evolution step 90: f(x)= 9.90723\n",
      "differential_evolution step 91: f(x)= 9.90723\n",
      "differential_evolution step 92: f(x)= 9.90126\n",
      "differential_evolution step 93: f(x)= 9.90126\n",
      "differential_evolution step 94: f(x)= 9.90052\n",
      "differential_evolution step 95: f(x)= 9.90052\n",
      "differential_evolution step 96: f(x)= 9.90039\n",
      "differential_evolution step 97: f(x)= 9.90039\n",
      "differential_evolution step 98: f(x)= 9.90039\n",
      "differential_evolution step 99: f(x)= 9.9002\n",
      "differential_evolution step 100: f(x)= 9.90013\n",
      "differential_evolution step 101: f(x)= 9.89982\n",
      "differential_evolution step 102: f(x)= 9.89911\n",
      "differential_evolution step 103: f(x)= 9.89788\n",
      "differential_evolution step 104: f(x)= 9.72756\n",
      "differential_evolution step 105: f(x)= 9.70543\n",
      "differential_evolution step 106: f(x)= 9.70543\n",
      "differential_evolution step 107: f(x)= 9.70543\n",
      "differential_evolution step 108: f(x)= 9.70543\n",
      "differential_evolution step 109: f(x)= 9.70079\n",
      "differential_evolution step 110: f(x)= 9.69876\n",
      "differential_evolution step 111: f(x)= 9.69626\n",
      "differential_evolution step 112: f(x)= 9.69217\n",
      "differential_evolution step 113: f(x)= 9.68893\n",
      "differential_evolution step 114: f(x)= 9.68693\n",
      "differential_evolution step 115: f(x)= 9.68402\n",
      "differential_evolution step 116: f(x)= 9.67753\n",
      "differential_evolution step 117: f(x)= 9.66799\n",
      "differential_evolution step 118: f(x)= 9.66237\n",
      "differential_evolution step 119: f(x)= 9.65985\n",
      "differential_evolution step 120: f(x)= 9.6589\n",
      "differential_evolution step 121: f(x)= 9.65106\n",
      "differential_evolution step 122: f(x)= 9.64562\n",
      "differential_evolution step 123: f(x)= 9.64167\n",
      "differential_evolution step 124: f(x)= 9.63408\n",
      "differential_evolution step 125: f(x)= 9.62968\n",
      "differential_evolution step 126: f(x)= 9.62476\n",
      "differential_evolution step 127: f(x)= 9.61963\n",
      "differential_evolution step 128: f(x)= 9.61676\n",
      "differential_evolution step 129: f(x)= 9.6146\n",
      "differential_evolution step 130: f(x)= 9.60338\n",
      "differential_evolution step 131: f(x)= 9.59958\n",
      "differential_evolution step 132: f(x)= 9.59123\n",
      "differential_evolution step 133: f(x)= 9.58606\n",
      "differential_evolution step 134: f(x)= 9.57482\n",
      "differential_evolution step 135: f(x)= 9.56517\n",
      "differential_evolution step 136: f(x)= 9.56247\n",
      "differential_evolution step 137: f(x)= 9.561\n",
      "differential_evolution step 138: f(x)= 9.56003\n",
      "differential_evolution step 139: f(x)= 9.55864\n",
      "differential_evolution step 140: f(x)= 9.55565\n",
      "differential_evolution step 141: f(x)= 9.55483\n",
      "differential_evolution step 142: f(x)= 9.55039\n",
      "differential_evolution step 143: f(x)= 9.54785\n",
      "differential_evolution step 144: f(x)= 9.54637\n",
      "differential_evolution step 145: f(x)= 9.54563\n",
      "differential_evolution step 146: f(x)= 9.54376\n",
      "differential_evolution step 147: f(x)= 9.54215\n",
      "differential_evolution step 148: f(x)= 9.54054\n",
      "differential_evolution step 149: f(x)= 9.53537\n",
      "differential_evolution step 150: f(x)= 9.52934\n",
      "differential_evolution step 151: f(x)= 9.52308\n",
      "differential_evolution step 152: f(x)= 9.51085\n",
      "differential_evolution step 153: f(x)= 9.49929\n",
      "differential_evolution step 154: f(x)= 9.47761\n",
      "differential_evolution step 155: f(x)= 9.46674\n",
      "differential_evolution step 156: f(x)= 9.4526\n",
      "differential_evolution step 157: f(x)= 9.4488\n",
      "differential_evolution step 158: f(x)= 9.44734\n",
      "differential_evolution step 159: f(x)= 9.44633\n",
      "differential_evolution step 160: f(x)= 9.44576\n",
      "differential_evolution step 161: f(x)= 9.44445\n",
      "differential_evolution step 162: f(x)= 9.44316\n",
      "differential_evolution step 163: f(x)= 9.44251\n",
      "differential_evolution step 164: f(x)= 9.43981\n",
      "differential_evolution step 165: f(x)= 9.43557\n",
      "differential_evolution step 166: f(x)= 9.43022\n",
      "differential_evolution step 167: f(x)= 9.41862\n",
      "differential_evolution step 168: f(x)= 9.41165\n",
      "differential_evolution step 169: f(x)= 9.40367\n",
      "differential_evolution step 170: f(x)= 9.38508\n",
      "differential_evolution step 171: f(x)= 9.36406\n",
      "differential_evolution step 172: f(x)= 9.32519\n",
      "differential_evolution step 173: f(x)= 9.29939\n",
      "differential_evolution step 174: f(x)= 9.29236\n",
      "differential_evolution step 175: f(x)= 9.28916\n"
     ]
    },
    {
     "name": "stdout",
     "output_type": "stream",
     "text": [
      "differential_evolution step 176: f(x)= 9.2389\n",
      "differential_evolution step 177: f(x)= 9.23478\n",
      "differential_evolution step 178: f(x)= 9.23249\n",
      "differential_evolution step 179: f(x)= 9.22821\n",
      "differential_evolution step 180: f(x)= 9.22473\n",
      "differential_evolution step 181: f(x)= 9.22166\n",
      "differential_evolution step 182: f(x)= 9.21355\n",
      "differential_evolution step 183: f(x)= 9.19948\n",
      "differential_evolution step 184: f(x)= 9.18151\n",
      "differential_evolution step 185: f(x)= 9.1621\n",
      "differential_evolution step 186: f(x)= 9.12734\n",
      "differential_evolution step 187: f(x)= 9.12323\n",
      "differential_evolution step 188: f(x)= 9.07683\n",
      "differential_evolution step 189: f(x)= 9.07027\n",
      "differential_evolution step 190: f(x)= 9.06517\n",
      "differential_evolution step 191: f(x)= 9.06431\n",
      "differential_evolution step 192: f(x)= 9.06431\n",
      "differential_evolution step 193: f(x)= 9.06431\n",
      "differential_evolution step 194: f(x)= 9.06431\n",
      "differential_evolution step 195: f(x)= 9.06396\n",
      "differential_evolution step 196: f(x)= 9.06396\n",
      "differential_evolution step 197: f(x)= 9.06396\n",
      "differential_evolution step 198: f(x)= 9.06338\n",
      "differential_evolution step 199: f(x)= 9.06295\n",
      "differential_evolution step 200: f(x)= 9.06248\n",
      "differential_evolution step 201: f(x)= 9.06114\n",
      "differential_evolution step 202: f(x)= 9.06061\n",
      "differential_evolution step 203: f(x)= 9.05954\n",
      "differential_evolution step 204: f(x)= 9.0589\n",
      "differential_evolution step 205: f(x)= 9.05624\n",
      "differential_evolution step 206: f(x)= 9.05508\n",
      "differential_evolution step 207: f(x)= 9.05397\n",
      "differential_evolution step 208: f(x)= 9.05252\n",
      "differential_evolution step 209: f(x)= 9.05187\n",
      "differential_evolution step 210: f(x)= 9.05173\n",
      "differential_evolution step 211: f(x)= 9.04384\n",
      "differential_evolution step 212: f(x)= 9.03726\n",
      "differential_evolution step 213: f(x)= 9.03654\n",
      "differential_evolution step 214: f(x)= 9.03592\n",
      "differential_evolution step 215: f(x)= 9.03547\n",
      "differential_evolution step 216: f(x)= 9.0343\n",
      "differential_evolution step 217: f(x)= 9.02832\n",
      "differential_evolution step 218: f(x)= 9.02455\n",
      "differential_evolution step 219: f(x)= 9.01826\n",
      "differential_evolution step 220: f(x)= 9.01056\n",
      "differential_evolution step 221: f(x)= 9.00725\n",
      "differential_evolution step 222: f(x)= 8.98766\n",
      "differential_evolution step 223: f(x)= 8.96135\n",
      "differential_evolution step 224: f(x)= 8.95475\n",
      "differential_evolution step 225: f(x)= 8.90281\n",
      "differential_evolution step 226: f(x)= 8.79553\n",
      "differential_evolution step 227: f(x)= 8.75623\n",
      "differential_evolution step 228: f(x)= 8.53378\n",
      "differential_evolution step 229: f(x)= 8.26251\n",
      "differential_evolution step 230: f(x)= 8.08175\n",
      "differential_evolution step 231: f(x)= 7.82138\n",
      "differential_evolution step 232: f(x)= 7.04043\n",
      "differential_evolution step 233: f(x)= 5.84112\n",
      "differential_evolution step 234: f(x)= 5.56741\n",
      "differential_evolution step 235: f(x)= 5.03451\n",
      "differential_evolution step 236: f(x)= 4.74166\n",
      "differential_evolution step 237: f(x)= 4.53376\n",
      "differential_evolution step 238: f(x)= 4.47037\n",
      "differential_evolution step 239: f(x)= 4.47037\n",
      "differential_evolution step 240: f(x)= 4.45074\n",
      "differential_evolution step 241: f(x)= 4.44851\n",
      "differential_evolution step 242: f(x)= 4.44397\n",
      "differential_evolution step 243: f(x)= 4.43612\n",
      "differential_evolution step 244: f(x)= 4.43159\n",
      "differential_evolution step 245: f(x)= 4.42577\n",
      "differential_evolution step 246: f(x)= 4.40797\n",
      "differential_evolution step 247: f(x)= 4.39503\n",
      "differential_evolution step 248: f(x)= 4.37634\n",
      "differential_evolution step 249: f(x)= 4.34583\n",
      "differential_evolution step 250: f(x)= 4.31737\n",
      "differential_evolution step 251: f(x)= 4.30909\n",
      "differential_evolution step 252: f(x)= 4.26009\n",
      "differential_evolution step 253: f(x)= 4.25278\n",
      "differential_evolution step 254: f(x)= 4.22231\n",
      "differential_evolution step 255: f(x)= 4.19908\n",
      "differential_evolution step 256: f(x)= 4.18656\n",
      "differential_evolution step 257: f(x)= 4.17376\n",
      "differential_evolution step 258: f(x)= 4.16273\n",
      "differential_evolution step 259: f(x)= 4.16192\n",
      "differential_evolution step 260: f(x)= 4.16109\n",
      "differential_evolution step 261: f(x)= 4.1603\n",
      "differential_evolution step 262: f(x)= 4.15794\n",
      "differential_evolution step 263: f(x)= 4.15635\n",
      "differential_evolution step 264: f(x)= 4.1544\n",
      "differential_evolution step 265: f(x)= 4.15233\n",
      "differential_evolution step 266: f(x)= 4.15156\n",
      "differential_evolution step 267: f(x)= 4.14994\n",
      "differential_evolution step 268: f(x)= 4.14931\n",
      "differential_evolution step 269: f(x)= 4.14911\n",
      "differential_evolution step 270: f(x)= 4.14898\n",
      "differential_evolution step 271: f(x)= 4.14888\n",
      "differential_evolution step 272: f(x)= 4.14886\n",
      "differential_evolution step 273: f(x)= 4.14883\n",
      "differential_evolution step 274: f(x)= 4.14883\n",
      "differential_evolution step 275: f(x)= 4.14881\n",
      "differential_evolution step 276: f(x)= 4.14879\n",
      "differential_evolution step 277: f(x)= 4.14879\n",
      "differential_evolution step 278: f(x)= 4.14878\n",
      "differential_evolution step 279: f(x)= 4.14877\n",
      "differential_evolution step 280: f(x)= 4.14877\n",
      "differential_evolution step 281: f(x)= 4.14877\n",
      "differential_evolution step 282: f(x)= 4.14877\n",
      "differential_evolution step 283: f(x)= 4.14877\n",
      "differential_evolution step 284: f(x)= 4.14877\n",
      "differential_evolution step 285: f(x)= 4.14877\n",
      "differential_evolution step 286: f(x)= 4.14876\n",
      "differential_evolution step 287: f(x)= 4.14876\n",
      "differential_evolution step 288: f(x)= 4.14876\n",
      "differential_evolution step 289: f(x)= 4.14875\n",
      "differential_evolution step 290: f(x)= 4.14875\n",
      "differential_evolution step 291: f(x)= 4.14875\n",
      "differential_evolution step 292: f(x)= 4.14874\n",
      "differential_evolution step 293: f(x)= 4.14873\n",
      "differential_evolution step 294: f(x)= 4.14871\n",
      "differential_evolution step 295: f(x)= 4.14869\n",
      "differential_evolution step 296: f(x)= 4.14866\n",
      "differential_evolution step 297: f(x)= 4.14865\n",
      "differential_evolution step 298: f(x)= 4.14864\n",
      "differential_evolution step 299: f(x)= 4.14862\n",
      "differential_evolution step 300: f(x)= 4.14856\n",
      "differential_evolution step 301: f(x)= 4.14854\n",
      "differential_evolution step 302: f(x)= 4.1484\n",
      "differential_evolution step 303: f(x)= 4.14833\n",
      "differential_evolution step 304: f(x)= 4.14815\n",
      "differential_evolution step 305: f(x)= 4.14793\n",
      "differential_evolution step 306: f(x)= 4.14775\n",
      "differential_evolution step 307: f(x)= 4.14735\n",
      "differential_evolution step 308: f(x)= 4.14668\n",
      "differential_evolution step 309: f(x)= 4.14654\n",
      "differential_evolution step 310: f(x)= 4.14644\n",
      "differential_evolution step 311: f(x)= 4.1457\n",
      "differential_evolution step 312: f(x)= 4.14477\n",
      "differential_evolution step 313: f(x)= 4.14416\n",
      "differential_evolution step 314: f(x)= 4.14322\n",
      "differential_evolution step 315: f(x)= 4.14273\n",
      "differential_evolution step 316: f(x)= 4.14183\n",
      "differential_evolution step 317: f(x)= 4.1412\n",
      "differential_evolution step 318: f(x)= 4.14096\n",
      "differential_evolution step 319: f(x)= 4.1406\n",
      "differential_evolution step 320: f(x)= 4.14056\n",
      "differential_evolution step 321: f(x)= 4.14051\n",
      "differential_evolution step 322: f(x)= 4.14042\n",
      "differential_evolution step 323: f(x)= 4.14031\n",
      "differential_evolution step 324: f(x)= 4.14016\n",
      "differential_evolution step 325: f(x)= 4.13999\n",
      "differential_evolution step 326: f(x)= 4.13995\n",
      "differential_evolution step 327: f(x)= 4.13951\n",
      "differential_evolution step 328: f(x)= 4.13915\n",
      "differential_evolution step 329: f(x)= 4.13849\n",
      "differential_evolution step 330: f(x)= 4.13775\n",
      "differential_evolution step 331: f(x)= 4.13703\n",
      "differential_evolution step 332: f(x)= 4.13526\n",
      "differential_evolution step 333: f(x)= 4.13456\n",
      "differential_evolution step 334: f(x)= 4.13301\n",
      "differential_evolution step 335: f(x)= 4.13158\n",
      "differential_evolution step 336: f(x)= 4.1313\n",
      "differential_evolution step 337: f(x)= 4.13088\n",
      "differential_evolution step 338: f(x)= 4.1288\n",
      "differential_evolution step 339: f(x)= 4.12554\n",
      "differential_evolution step 340: f(x)= 4.12472\n",
      "differential_evolution step 341: f(x)= 4.11993\n",
      "differential_evolution step 342: f(x)= 4.11758\n",
      "differential_evolution step 343: f(x)= 4.11639\n",
      "differential_evolution step 344: f(x)= 4.11523\n",
      "differential_evolution step 345: f(x)= 4.11455\n",
      "differential_evolution step 346: f(x)= 4.11403\n",
      "differential_evolution step 347: f(x)= 4.11384\n",
      "differential_evolution step 348: f(x)= 4.11381\n",
      "differential_evolution step 349: f(x)= 4.11379\n",
      "differential_evolution step 350: f(x)= 4.11378\n"
     ]
    },
    {
     "name": "stdout",
     "output_type": "stream",
     "text": [
      "differential_evolution step 351: f(x)= 4.11377\n",
      "differential_evolution step 352: f(x)= 4.11376\n",
      "differential_evolution step 353: f(x)= 4.11374\n",
      "differential_evolution step 354: f(x)= 4.11372\n",
      "differential_evolution step 355: f(x)= 4.11369\n",
      "differential_evolution step 356: f(x)= 4.11369\n",
      "differential_evolution step 357: f(x)= 4.11368\n",
      "differential_evolution step 358: f(x)= 4.11368\n",
      "differential_evolution step 359: f(x)= 4.11368\n",
      "differential_evolution step 360: f(x)= 4.11366\n",
      "differential_evolution step 361: f(x)= 4.11365\n",
      "differential_evolution step 362: f(x)= 4.11364\n",
      "differential_evolution step 363: f(x)= 4.11363\n",
      "differential_evolution step 364: f(x)= 4.11362\n",
      "differential_evolution step 365: f(x)= 4.11359\n",
      "differential_evolution step 366: f(x)= 4.11358\n",
      "differential_evolution step 367: f(x)= 4.11358\n",
      "differential_evolution step 368: f(x)= 4.11353\n",
      "differential_evolution step 369: f(x)= 4.11349\n",
      "differential_evolution step 370: f(x)= 4.11347\n",
      "differential_evolution step 371: f(x)= 4.11346\n",
      "differential_evolution step 372: f(x)= 4.11345\n",
      "differential_evolution step 373: f(x)= 4.11344\n",
      "differential_evolution step 374: f(x)= 4.11339\n",
      "differential_evolution step 375: f(x)= 4.1133\n",
      "differential_evolution step 376: f(x)= 4.11322\n",
      "differential_evolution step 377: f(x)= 4.11315\n",
      "differential_evolution step 378: f(x)= 4.11289\n",
      "differential_evolution step 379: f(x)= 4.11268\n",
      "differential_evolution step 380: f(x)= 4.11223\n",
      "differential_evolution step 381: f(x)= 4.11173\n",
      "differential_evolution step 382: f(x)= 4.11146\n",
      "differential_evolution step 383: f(x)= 4.11135\n",
      "differential_evolution step 384: f(x)= 4.11116\n",
      "differential_evolution step 385: f(x)= 4.11103\n",
      "differential_evolution step 386: f(x)= 4.11031\n",
      "differential_evolution step 387: f(x)= 4.11024\n",
      "differential_evolution step 388: f(x)= 4.10976\n",
      "differential_evolution step 389: f(x)= 4.10939\n",
      "differential_evolution step 390: f(x)= 4.10817\n",
      "differential_evolution step 391: f(x)= 4.10776\n",
      "differential_evolution step 392: f(x)= 4.10743\n",
      "differential_evolution step 393: f(x)= 4.10695\n",
      "differential_evolution step 394: f(x)= 4.10653\n",
      "differential_evolution step 395: f(x)= 4.10637\n",
      "differential_evolution step 396: f(x)= 4.10588\n",
      "differential_evolution step 397: f(x)= 4.10564\n",
      "differential_evolution step 398: f(x)= 4.1055\n",
      "differential_evolution step 399: f(x)= 4.10511\n",
      "differential_evolution step 400: f(x)= 4.10503\n",
      "differential_evolution step 401: f(x)= 4.10493\n",
      "differential_evolution step 402: f(x)= 4.10486\n",
      "differential_evolution step 403: f(x)= 4.10482\n",
      "differential_evolution step 404: f(x)= 4.10477\n",
      "differential_evolution step 405: f(x)= 4.10463\n",
      "differential_evolution step 406: f(x)= 4.10457\n",
      "differential_evolution step 407: f(x)= 4.10434\n",
      "differential_evolution step 408: f(x)= 4.10418\n",
      "differential_evolution step 409: f(x)= 4.10415\n",
      "differential_evolution step 410: f(x)= 4.10406\n",
      "differential_evolution step 411: f(x)= 4.10361\n",
      "differential_evolution step 412: f(x)= 4.10356\n",
      "differential_evolution step 413: f(x)= 4.10283\n",
      "differential_evolution step 414: f(x)= 4.10245\n",
      "differential_evolution step 415: f(x)= 4.10229\n",
      "differential_evolution step 416: f(x)= 4.10177\n",
      "differential_evolution step 417: f(x)= 4.10146\n",
      "differential_evolution step 418: f(x)= 4.10127\n",
      "differential_evolution step 419: f(x)= 4.10093\n",
      "differential_evolution step 420: f(x)= 4.10051\n",
      "differential_evolution step 421: f(x)= 4.10024\n",
      "differential_evolution step 422: f(x)= 4.09947\n",
      "differential_evolution step 423: f(x)= 4.0991\n",
      "differential_evolution step 424: f(x)= 4.09899\n",
      "differential_evolution step 425: f(x)= 4.09878\n",
      "differential_evolution step 426: f(x)= 4.09841\n",
      "differential_evolution step 427: f(x)= 4.09831\n",
      "differential_evolution step 428: f(x)= 4.09812\n",
      "differential_evolution step 429: f(x)= 4.0981\n",
      "differential_evolution step 430: f(x)= 4.09806\n",
      "differential_evolution step 431: f(x)= 4.09806\n",
      "differential_evolution step 432: f(x)= 4.09806\n",
      "differential_evolution step 433: f(x)= 4.09805\n",
      "differential_evolution step 434: f(x)= 4.09805\n",
      "differential_evolution step 435: f(x)= 4.09805\n",
      "differential_evolution step 436: f(x)= 4.09803\n",
      "differential_evolution step 437: f(x)= 4.09803\n",
      "differential_evolution step 438: f(x)= 4.09803\n",
      "differential_evolution step 439: f(x)= 4.09803\n",
      "differential_evolution step 440: f(x)= 4.09803\n",
      "differential_evolution step 441: f(x)= 4.09803\n",
      "differential_evolution step 442: f(x)= 4.09802\n",
      "differential_evolution step 443: f(x)= 4.09802\n",
      "differential_evolution step 444: f(x)= 4.09801\n",
      "differential_evolution step 445: f(x)= 4.098\n",
      "differential_evolution step 446: f(x)= 4.09799\n",
      "differential_evolution step 447: f(x)= 4.09798\n",
      "differential_evolution step 448: f(x)= 4.09797\n",
      "differential_evolution step 449: f(x)= 4.09795\n",
      "differential_evolution step 450: f(x)= 4.09791\n",
      "differential_evolution step 451: f(x)= 4.09787\n",
      "differential_evolution step 452: f(x)= 4.09784\n",
      "differential_evolution step 453: f(x)= 4.09771\n",
      "differential_evolution step 454: f(x)= 4.09752\n",
      "differential_evolution step 455: f(x)= 4.09732\n",
      "differential_evolution step 456: f(x)= 4.09723\n",
      "differential_evolution step 457: f(x)= 4.09686\n",
      "differential_evolution step 458: f(x)= 4.09645\n",
      "differential_evolution step 459: f(x)= 4.0961\n",
      "differential_evolution step 460: f(x)= 4.09554\n",
      "differential_evolution step 461: f(x)= 4.09471\n",
      "differential_evolution step 462: f(x)= 4.09365\n",
      "differential_evolution step 463: f(x)= 4.09303\n",
      "differential_evolution step 464: f(x)= 4.09292\n",
      "differential_evolution step 465: f(x)= 4.09271\n",
      "differential_evolution step 466: f(x)= 4.09255\n",
      "differential_evolution step 467: f(x)= 4.09248\n",
      "differential_evolution step 468: f(x)= 4.09248\n",
      "differential_evolution step 469: f(x)= 4.09243\n",
      "differential_evolution step 470: f(x)= 4.0924\n",
      "differential_evolution step 471: f(x)= 4.09235\n",
      "differential_evolution step 472: f(x)= 4.09225\n",
      "differential_evolution step 473: f(x)= 4.09212\n",
      "differential_evolution step 474: f(x)= 4.09196\n",
      "differential_evolution step 475: f(x)= 4.09174\n",
      "differential_evolution step 476: f(x)= 4.09158\n",
      "differential_evolution step 477: f(x)= 4.09151\n",
      "differential_evolution step 478: f(x)= 4.09148\n",
      "differential_evolution step 479: f(x)= 4.09144\n",
      "differential_evolution step 480: f(x)= 4.09144\n",
      "differential_evolution step 481: f(x)= 4.09139\n",
      "differential_evolution step 482: f(x)= 4.09132\n",
      "differential_evolution step 483: f(x)= 4.09125\n",
      "differential_evolution step 484: f(x)= 4.09108\n",
      "differential_evolution step 485: f(x)= 4.09108\n",
      "differential_evolution step 486: f(x)= 4.0908\n",
      "differential_evolution step 487: f(x)= 4.09068\n",
      "differential_evolution step 488: f(x)= 4.09056\n",
      "differential_evolution step 489: f(x)= 4.09003\n",
      "differential_evolution step 490: f(x)= 4.09003\n",
      "differential_evolution step 491: f(x)= 4.09001\n",
      "differential_evolution step 492: f(x)= 4.08996\n",
      "differential_evolution step 493: f(x)= 4.0899\n",
      "differential_evolution step 494: f(x)= 4.08988\n",
      "differential_evolution step 495: f(x)= 4.08987\n",
      "differential_evolution step 496: f(x)= 4.08987\n",
      "differential_evolution step 497: f(x)= 4.08987\n",
      "differential_evolution step 498: f(x)= 4.08986\n",
      "differential_evolution step 499: f(x)= 4.08985\n",
      "differential_evolution step 500: f(x)= 4.08984\n",
      "differential_evolution step 501: f(x)= 4.08983\n",
      "differential_evolution step 502: f(x)= 4.08982\n",
      "differential_evolution step 503: f(x)= 4.08982\n",
      "differential_evolution step 504: f(x)= 4.0898\n",
      "differential_evolution step 505: f(x)= 4.08978\n",
      "differential_evolution step 506: f(x)= 4.08977\n",
      "differential_evolution step 507: f(x)= 4.08977\n",
      "differential_evolution step 508: f(x)= 4.08977\n",
      "differential_evolution step 509: f(x)= 4.08977\n",
      "differential_evolution step 510: f(x)= 4.08976\n",
      "differential_evolution step 511: f(x)= 4.08974\n",
      "differential_evolution step 512: f(x)= 4.08974\n",
      "differential_evolution step 513: f(x)= 4.08971\n",
      "differential_evolution step 514: f(x)= 4.0897\n",
      "differential_evolution step 515: f(x)= 4.08969\n",
      "differential_evolution step 516: f(x)= 4.08968\n",
      "differential_evolution step 517: f(x)= 4.08966\n",
      "differential_evolution step 518: f(x)= 4.08966\n",
      "differential_evolution step 519: f(x)= 4.08964\n",
      "differential_evolution step 520: f(x)= 4.0896\n",
      "differential_evolution step 521: f(x)= 4.08953\n",
      "differential_evolution step 522: f(x)= 4.08948\n",
      "differential_evolution step 523: f(x)= 4.08943\n",
      "differential_evolution step 524: f(x)= 4.08942\n",
      "differential_evolution step 525: f(x)= 4.08931\n"
     ]
    },
    {
     "name": "stdout",
     "output_type": "stream",
     "text": [
      "differential_evolution step 526: f(x)= 4.08929\n",
      "differential_evolution step 527: f(x)= 4.08924\n",
      "differential_evolution step 528: f(x)= 4.08917\n",
      "differential_evolution step 529: f(x)= 4.08916\n",
      "differential_evolution step 530: f(x)= 4.08916\n",
      "differential_evolution step 531: f(x)= 4.08916\n",
      "differential_evolution step 532: f(x)= 4.08916\n",
      "differential_evolution step 533: f(x)= 4.08916\n",
      "differential_evolution step 534: f(x)= 4.08914\n",
      "differential_evolution step 535: f(x)= 4.08914\n",
      "differential_evolution step 536: f(x)= 4.08914\n",
      "differential_evolution step 537: f(x)= 4.08912\n",
      "differential_evolution step 538: f(x)= 4.0891\n",
      "differential_evolution step 539: f(x)= 4.0891\n",
      "differential_evolution step 540: f(x)= 4.0891\n",
      "differential_evolution step 541: f(x)= 4.0891\n",
      "differential_evolution step 542: f(x)= 4.08908\n",
      "differential_evolution step 543: f(x)= 4.08907\n",
      "differential_evolution step 544: f(x)= 4.08904\n",
      "differential_evolution step 545: f(x)= 4.08904\n",
      "differential_evolution step 546: f(x)= 4.08904\n",
      "differential_evolution step 547: f(x)= 4.08904\n",
      "differential_evolution step 548: f(x)= 4.08904\n",
      "differential_evolution step 549: f(x)= 4.08904\n",
      "differential_evolution step 550: f(x)= 4.08904\n",
      "differential_evolution step 551: f(x)= 4.08904\n",
      "differential_evolution step 552: f(x)= 4.08904\n",
      "differential_evolution step 553: f(x)= 4.08904\n",
      "differential_evolution step 554: f(x)= 4.08904\n",
      "differential_evolution step 555: f(x)= 4.08903\n",
      "differential_evolution step 556: f(x)= 4.08903\n",
      "differential_evolution step 557: f(x)= 4.08903\n",
      "differential_evolution step 558: f(x)= 4.08903\n",
      "differential_evolution step 559: f(x)= 4.08903\n",
      "differential_evolution step 560: f(x)= 4.08903\n",
      "differential_evolution step 561: f(x)= 4.08903\n",
      "differential_evolution step 562: f(x)= 4.08903\n",
      "differential_evolution step 563: f(x)= 4.08903\n",
      "differential_evolution step 564: f(x)= 4.08903\n",
      "differential_evolution step 565: f(x)= 4.08902\n",
      "differential_evolution step 566: f(x)= 4.08902\n",
      "differential_evolution step 567: f(x)= 4.08902\n",
      "differential_evolution step 568: f(x)= 4.08902\n",
      "differential_evolution step 569: f(x)= 4.08902\n",
      "differential_evolution step 570: f(x)= 4.08902\n",
      "differential_evolution step 571: f(x)= 4.08902\n",
      "differential_evolution step 572: f(x)= 4.08902\n",
      "differential_evolution step 573: f(x)= 4.08902\n",
      "differential_evolution step 574: f(x)= 4.08902\n",
      "differential_evolution step 575: f(x)= 4.08902\n",
      "differential_evolution step 576: f(x)= 4.08902\n",
      "differential_evolution step 577: f(x)= 4.08902\n",
      "differential_evolution step 578: f(x)= 4.08902\n",
      "differential_evolution step 579: f(x)= 4.08902\n",
      "differential_evolution step 580: f(x)= 4.08902\n",
      "differential_evolution step 581: f(x)= 4.08902\n",
      "differential_evolution step 582: f(x)= 4.08902\n",
      "differential_evolution step 583: f(x)= 4.08902\n",
      "differential_evolution step 584: f(x)= 4.08902\n",
      "differential_evolution step 585: f(x)= 4.08902\n",
      "differential_evolution step 586: f(x)= 4.08902\n",
      "differential_evolution step 587: f(x)= 4.08902\n",
      "differential_evolution step 588: f(x)= 4.08901\n",
      "differential_evolution step 589: f(x)= 4.08901\n",
      "differential_evolution step 590: f(x)= 4.08901\n",
      "differential_evolution step 591: f(x)= 4.08901\n",
      "differential_evolution step 592: f(x)= 4.08901\n",
      "differential_evolution step 593: f(x)= 4.08901\n",
      "differential_evolution step 594: f(x)= 4.08901\n",
      "differential_evolution step 595: f(x)= 4.08901\n",
      "differential_evolution step 596: f(x)= 4.08901\n",
      "differential_evolution step 597: f(x)= 4.08901\n",
      "differential_evolution step 598: f(x)= 4.08901\n",
      "differential_evolution step 599: f(x)= 4.08901\n",
      "differential_evolution step 600: f(x)= 4.08901\n",
      "differential_evolution step 601: f(x)= 4.089\n",
      "differential_evolution step 602: f(x)= 4.089\n",
      "differential_evolution step 603: f(x)= 4.089\n",
      "differential_evolution step 604: f(x)= 4.089\n",
      "differential_evolution step 605: f(x)= 4.089\n",
      "differential_evolution step 606: f(x)= 4.08899\n",
      "differential_evolution step 607: f(x)= 4.08899\n",
      "differential_evolution step 608: f(x)= 4.08899\n",
      "differential_evolution step 609: f(x)= 4.08898\n",
      "differential_evolution step 610: f(x)= 4.08897\n",
      "differential_evolution step 611: f(x)= 4.08897\n",
      "differential_evolution step 612: f(x)= 4.08897\n",
      "differential_evolution step 613: f(x)= 4.08896\n",
      "differential_evolution step 614: f(x)= 4.08896\n",
      "differential_evolution step 615: f(x)= 4.08896\n",
      "differential_evolution step 616: f(x)= 4.08896\n",
      "differential_evolution step 617: f(x)= 4.08895\n",
      "differential_evolution step 618: f(x)= 4.08895\n",
      "differential_evolution step 619: f(x)= 4.08895\n",
      "differential_evolution step 620: f(x)= 4.08894\n",
      "differential_evolution step 621: f(x)= 4.08894\n",
      "differential_evolution step 622: f(x)= 4.08894\n",
      "differential_evolution step 623: f(x)= 4.08894\n",
      "differential_evolution step 624: f(x)= 4.08893\n",
      "differential_evolution step 625: f(x)= 4.08893\n",
      "differential_evolution step 626: f(x)= 4.08892\n",
      "differential_evolution step 627: f(x)= 4.08891\n",
      "differential_evolution step 628: f(x)= 4.08889\n",
      "differential_evolution step 629: f(x)= 4.08889\n",
      "differential_evolution step 630: f(x)= 4.08889\n",
      "differential_evolution step 631: f(x)= 4.08888\n",
      "differential_evolution step 632: f(x)= 4.08887\n",
      "differential_evolution step 633: f(x)= 4.08885\n",
      "differential_evolution step 634: f(x)= 4.08884\n",
      "differential_evolution step 635: f(x)= 4.08883\n",
      "differential_evolution step 636: f(x)= 4.08881\n",
      "differential_evolution step 637: f(x)= 4.08881\n",
      "differential_evolution step 638: f(x)= 4.08878\n",
      "differential_evolution step 639: f(x)= 4.08874\n",
      "differential_evolution step 640: f(x)= 4.08873\n",
      "differential_evolution step 641: f(x)= 4.08869\n",
      "differential_evolution step 642: f(x)= 4.08867\n",
      "differential_evolution step 643: f(x)= 4.08866\n",
      "differential_evolution step 644: f(x)= 4.08865\n",
      "differential_evolution step 645: f(x)= 4.08863\n",
      "differential_evolution step 646: f(x)= 4.08863\n",
      "differential_evolution step 647: f(x)= 4.08861\n",
      "differential_evolution step 648: f(x)= 4.0886\n",
      "differential_evolution step 649: f(x)= 4.08858\n",
      "differential_evolution step 650: f(x)= 4.08858\n",
      "differential_evolution step 651: f(x)= 4.08858\n",
      "differential_evolution step 652: f(x)= 4.08858\n",
      "differential_evolution step 653: f(x)= 4.08855\n",
      "differential_evolution step 654: f(x)= 4.08855\n",
      "differential_evolution step 655: f(x)= 4.08853\n",
      "differential_evolution step 656: f(x)= 4.08851\n",
      "differential_evolution step 657: f(x)= 4.08847\n",
      "differential_evolution step 658: f(x)= 4.08846\n",
      "differential_evolution step 659: f(x)= 4.08843\n",
      "differential_evolution step 660: f(x)= 4.08842\n",
      "differential_evolution step 661: f(x)= 4.08842\n",
      "differential_evolution step 662: f(x)= 4.08842\n",
      "differential_evolution step 663: f(x)= 4.08842\n",
      "differential_evolution step 664: f(x)= 4.08842\n",
      "differential_evolution step 665: f(x)= 4.08841\n",
      "differential_evolution step 666: f(x)= 4.08841\n",
      "differential_evolution step 667: f(x)= 4.0884\n",
      "differential_evolution step 668: f(x)= 4.0884\n",
      "differential_evolution step 669: f(x)= 4.0884\n",
      "differential_evolution step 670: f(x)= 4.0884\n",
      "differential_evolution step 671: f(x)= 4.0884\n",
      "differential_evolution step 672: f(x)= 4.0884\n",
      "differential_evolution step 673: f(x)= 4.0884\n",
      "differential_evolution step 674: f(x)= 4.0884\n",
      "differential_evolution step 675: f(x)= 4.0884\n",
      "differential_evolution step 676: f(x)= 4.0884\n",
      "differential_evolution step 677: f(x)= 4.0884\n",
      "differential_evolution step 678: f(x)= 4.0884\n",
      "differential_evolution step 679: f(x)= 4.0884\n",
      "differential_evolution step 680: f(x)= 4.0884\n",
      "differential_evolution step 681: f(x)= 4.0884\n",
      "differential_evolution step 682: f(x)= 4.0884\n",
      "differential_evolution step 683: f(x)= 4.0884\n",
      "differential_evolution step 684: f(x)= 4.08839\n",
      "differential_evolution step 685: f(x)= 4.08839\n",
      "differential_evolution step 686: f(x)= 4.08839\n",
      "differential_evolution step 687: f(x)= 4.08839\n",
      "differential_evolution step 688: f(x)= 4.08839\n",
      "differential_evolution step 689: f(x)= 4.08839\n",
      "differential_evolution step 690: f(x)= 4.08839\n",
      "differential_evolution step 691: f(x)= 4.08839\n",
      "differential_evolution step 692: f(x)= 4.08839\n",
      "differential_evolution step 693: f(x)= 4.08839\n",
      "differential_evolution step 694: f(x)= 4.08838\n",
      "differential_evolution step 695: f(x)= 4.08838\n",
      "differential_evolution step 696: f(x)= 4.08838\n",
      "differential_evolution step 697: f(x)= 4.08838\n",
      "differential_evolution step 698: f(x)= 4.08838\n",
      "differential_evolution step 699: f(x)= 4.08837\n",
      "differential_evolution step 700: f(x)= 4.08837\n"
     ]
    },
    {
     "name": "stdout",
     "output_type": "stream",
     "text": [
      "differential_evolution step 701: f(x)= 4.08836\n",
      "differential_evolution step 702: f(x)= 4.08836\n",
      "differential_evolution step 703: f(x)= 4.08835\n",
      "differential_evolution step 704: f(x)= 4.08835\n",
      "differential_evolution step 705: f(x)= 4.08833\n",
      "differential_evolution step 706: f(x)= 4.08832\n",
      "differential_evolution step 707: f(x)= 4.0883\n",
      "differential_evolution step 708: f(x)= 4.0883\n",
      "differential_evolution step 709: f(x)= 4.0883\n",
      "differential_evolution step 710: f(x)= 4.08829\n",
      "differential_evolution step 711: f(x)= 4.08829\n",
      "differential_evolution step 712: f(x)= 4.08829\n",
      "differential_evolution step 713: f(x)= 4.08829\n",
      "differential_evolution step 714: f(x)= 4.08829\n",
      "differential_evolution step 715: f(x)= 4.08829\n",
      "differential_evolution step 716: f(x)= 4.08829\n",
      "differential_evolution step 717: f(x)= 4.08829\n",
      "differential_evolution step 718: f(x)= 4.08829\n",
      "differential_evolution step 719: f(x)= 4.08829\n",
      "differential_evolution step 720: f(x)= 4.08829\n",
      "differential_evolution step 721: f(x)= 4.08829\n",
      "differential_evolution step 722: f(x)= 4.08829\n",
      "differential_evolution step 723: f(x)= 4.08829\n",
      "differential_evolution step 724: f(x)= 4.08829\n",
      "differential_evolution step 725: f(x)= 4.08828\n",
      "differential_evolution step 726: f(x)= 4.08828\n",
      "differential_evolution step 727: f(x)= 4.08828\n",
      "differential_evolution step 728: f(x)= 4.08828\n",
      "differential_evolution step 729: f(x)= 4.08828\n",
      "differential_evolution step 730: f(x)= 4.08828\n",
      "differential_evolution step 731: f(x)= 4.08828\n",
      "differential_evolution step 732: f(x)= 4.08828\n",
      "differential_evolution step 733: f(x)= 4.08828\n",
      "differential_evolution step 734: f(x)= 4.08828\n",
      "differential_evolution step 735: f(x)= 4.08828\n",
      "differential_evolution step 736: f(x)= 4.08828\n",
      "differential_evolution step 737: f(x)= 4.08828\n",
      "differential_evolution step 738: f(x)= 4.08828\n",
      "differential_evolution step 739: f(x)= 4.08828\n",
      "differential_evolution step 740: f(x)= 4.08828\n",
      "differential_evolution step 741: f(x)= 4.08827\n",
      "differential_evolution step 742: f(x)= 4.08826\n",
      "differential_evolution step 743: f(x)= 4.08826\n",
      "differential_evolution step 744: f(x)= 4.08825\n",
      "differential_evolution step 745: f(x)= 4.08825\n",
      "differential_evolution step 746: f(x)= 4.08825\n",
      "differential_evolution step 747: f(x)= 4.08825\n",
      "differential_evolution step 748: f(x)= 4.08824\n",
      "differential_evolution step 749: f(x)= 4.08824\n",
      "differential_evolution step 750: f(x)= 4.08824\n",
      "differential_evolution step 751: f(x)= 4.08824\n",
      "differential_evolution step 752: f(x)= 4.08823\n",
      "differential_evolution step 753: f(x)= 4.08822\n",
      "differential_evolution step 754: f(x)= 4.08822\n",
      "differential_evolution step 755: f(x)= 4.08821\n",
      "differential_evolution step 756: f(x)= 4.08821\n",
      "differential_evolution step 757: f(x)= 4.08821\n",
      "differential_evolution step 758: f(x)= 4.08821\n",
      "differential_evolution step 759: f(x)= 4.08821\n",
      "differential_evolution step 760: f(x)= 4.08821\n",
      "differential_evolution step 761: f(x)= 4.08821\n",
      "differential_evolution step 762: f(x)= 4.08821\n",
      "differential_evolution step 763: f(x)= 4.08821\n",
      "differential_evolution step 764: f(x)= 4.08821\n",
      "differential_evolution step 765: f(x)= 4.08821\n",
      "differential_evolution step 766: f(x)= 4.0882\n",
      "differential_evolution step 767: f(x)= 4.0882\n",
      "differential_evolution step 768: f(x)= 4.0882\n",
      "differential_evolution step 769: f(x)= 4.0882\n",
      "differential_evolution step 770: f(x)= 4.0882\n",
      "differential_evolution step 771: f(x)= 4.08819\n",
      "differential_evolution step 772: f(x)= 4.08819\n",
      "differential_evolution step 773: f(x)= 4.08819\n",
      "differential_evolution step 774: f(x)= 4.08819\n",
      "differential_evolution step 775: f(x)= 4.08818\n",
      "differential_evolution step 776: f(x)= 4.08818\n",
      "differential_evolution step 777: f(x)= 4.08818\n",
      "differential_evolution step 778: f(x)= 4.08818\n",
      "differential_evolution step 779: f(x)= 4.08818\n",
      "differential_evolution step 780: f(x)= 4.08818\n",
      "differential_evolution step 781: f(x)= 4.08818\n",
      "differential_evolution step 782: f(x)= 4.08818\n",
      "differential_evolution step 783: f(x)= 4.08818\n",
      "differential_evolution step 784: f(x)= 4.08818\n",
      "differential_evolution step 785: f(x)= 4.08818\n",
      "differential_evolution step 786: f(x)= 4.08817\n",
      "differential_evolution step 787: f(x)= 4.08817\n",
      "differential_evolution step 788: f(x)= 4.08817\n",
      "differential_evolution step 789: f(x)= 4.08817\n",
      "differential_evolution step 790: f(x)= 4.08817\n",
      "differential_evolution step 791: f(x)= 4.08817\n",
      "differential_evolution step 792: f(x)= 4.08817\n",
      "differential_evolution step 793: f(x)= 4.08817\n",
      "differential_evolution step 794: f(x)= 4.08817\n",
      "differential_evolution step 795: f(x)= 4.08817\n",
      "differential_evolution step 796: f(x)= 4.08817\n",
      "differential_evolution step 797: f(x)= 4.08817\n",
      "differential_evolution step 798: f(x)= 4.08817\n",
      "differential_evolution step 799: f(x)= 4.08817\n",
      "differential_evolution step 800: f(x)= 4.08817\n",
      "differential_evolution step 801: f(x)= 4.08817\n",
      "differential_evolution step 802: f(x)= 4.08817\n",
      "differential_evolution step 803: f(x)= 4.08817\n",
      "differential_evolution step 804: f(x)= 4.08817\n",
      "differential_evolution step 805: f(x)= 4.08817\n",
      "differential_evolution step 806: f(x)= 4.08817\n",
      "differential_evolution step 807: f(x)= 4.08817\n",
      "differential_evolution step 808: f(x)= 4.08817\n",
      "differential_evolution step 809: f(x)= 4.08817\n",
      "differential_evolution step 810: f(x)= 4.08817\n",
      "differential_evolution step 811: f(x)= 4.08817\n",
      "differential_evolution step 812: f(x)= 4.08817\n",
      "differential_evolution step 813: f(x)= 4.08817\n",
      "differential_evolution step 814: f(x)= 4.08817\n",
      "differential_evolution step 815: f(x)= 4.08817\n",
      "differential_evolution step 816: f(x)= 4.08817\n",
      "differential_evolution step 817: f(x)= 4.08817\n",
      "differential_evolution step 818: f(x)= 4.08817\n",
      "differential_evolution step 819: f(x)= 4.08817\n",
      "differential_evolution step 820: f(x)= 4.08817\n",
      "differential_evolution step 821: f(x)= 4.08817\n",
      "differential_evolution step 822: f(x)= 4.08817\n",
      "differential_evolution step 823: f(x)= 4.08817\n",
      "differential_evolution step 824: f(x)= 4.08817\n",
      "differential_evolution step 825: f(x)= 4.08817\n",
      "differential_evolution step 826: f(x)= 4.08817\n",
      "differential_evolution step 827: f(x)= 4.08817\n",
      "differential_evolution step 828: f(x)= 4.08817\n",
      "differential_evolution step 829: f(x)= 4.08817\n",
      "differential_evolution step 830: f(x)= 4.08817\n",
      "differential_evolution step 831: f(x)= 4.08817\n",
      "differential_evolution step 832: f(x)= 4.08817\n",
      "differential_evolution step 833: f(x)= 4.08817\n",
      "differential_evolution step 834: f(x)= 4.08817\n",
      "differential_evolution step 835: f(x)= 4.08817\n",
      "differential_evolution step 836: f(x)= 4.08816\n",
      "differential_evolution step 837: f(x)= 4.08816\n",
      "differential_evolution step 838: f(x)= 4.08816\n",
      "differential_evolution step 839: f(x)= 4.08816\n",
      "differential_evolution step 840: f(x)= 4.08816\n",
      "differential_evolution step 841: f(x)= 4.08816\n",
      "differential_evolution step 842: f(x)= 4.08816\n",
      "differential_evolution step 843: f(x)= 4.08816\n",
      "differential_evolution step 844: f(x)= 4.08816\n",
      "differential_evolution step 845: f(x)= 4.08816\n",
      "differential_evolution step 846: f(x)= 4.08816\n",
      "differential_evolution step 847: f(x)= 4.08816\n",
      "differential_evolution step 848: f(x)= 4.08816\n",
      "differential_evolution step 849: f(x)= 4.08816\n",
      "differential_evolution step 850: f(x)= 4.08816\n",
      "differential_evolution step 851: f(x)= 4.08816\n",
      "differential_evolution step 852: f(x)= 4.08816\n",
      "differential_evolution step 853: f(x)= 4.08816\n",
      "differential_evolution step 854: f(x)= 4.08816\n",
      "differential_evolution step 855: f(x)= 4.08816\n",
      "differential_evolution step 856: f(x)= 4.08816\n",
      "differential_evolution step 857: f(x)= 4.08816\n",
      "differential_evolution step 858: f(x)= 4.08816\n",
      "differential_evolution step 859: f(x)= 4.08816\n",
      "differential_evolution step 860: f(x)= 4.08816\n",
      "differential_evolution step 861: f(x)= 4.08816\n",
      "differential_evolution step 862: f(x)= 4.08816\n",
      "differential_evolution step 863: f(x)= 4.08816\n",
      "differential_evolution step 864: f(x)= 4.08816\n",
      "differential_evolution step 865: f(x)= 4.08816\n",
      "differential_evolution step 866: f(x)= 4.08816\n",
      "differential_evolution step 867: f(x)= 4.08816\n",
      "differential_evolution step 868: f(x)= 4.08816\n",
      "differential_evolution step 869: f(x)= 4.08816\n",
      "differential_evolution step 870: f(x)= 4.08816\n",
      "differential_evolution step 871: f(x)= 4.08816\n",
      "differential_evolution step 872: f(x)= 4.08816\n",
      "differential_evolution step 873: f(x)= 4.08816\n",
      "differential_evolution step 874: f(x)= 4.08816\n",
      "differential_evolution step 875: f(x)= 4.08816\n"
     ]
    },
    {
     "name": "stdout",
     "output_type": "stream",
     "text": [
      "differential_evolution step 876: f(x)= 4.08816\n",
      "differential_evolution step 877: f(x)= 4.08816\n",
      "differential_evolution step 878: f(x)= 4.08816\n",
      "differential_evolution step 879: f(x)= 4.08816\n",
      "differential_evolution step 880: f(x)= 4.08816\n",
      "differential_evolution step 881: f(x)= 4.08816\n",
      "differential_evolution step 882: f(x)= 4.08816\n",
      "differential_evolution step 883: f(x)= 4.08816\n",
      "differential_evolution step 884: f(x)= 4.08816\n",
      "differential_evolution step 885: f(x)= 4.08816\n",
      "differential_evolution step 886: f(x)= 4.08816\n",
      "differential_evolution step 887: f(x)= 4.08815\n",
      "differential_evolution step 888: f(x)= 4.08815\n",
      "differential_evolution step 889: f(x)= 4.08815\n",
      "differential_evolution step 890: f(x)= 4.08815\n",
      "differential_evolution step 891: f(x)= 4.08815\n",
      "differential_evolution step 892: f(x)= 4.08815\n",
      "differential_evolution step 893: f(x)= 4.08815\n",
      "differential_evolution step 894: f(x)= 4.08815\n",
      "differential_evolution step 895: f(x)= 4.08815\n",
      "differential_evolution step 896: f(x)= 4.08815\n",
      "differential_evolution step 897: f(x)= 4.08815\n",
      "differential_evolution step 898: f(x)= 4.08815\n",
      "differential_evolution step 899: f(x)= 4.08815\n",
      "differential_evolution step 900: f(x)= 4.08815\n",
      "differential_evolution step 901: f(x)= 4.08815\n",
      "differential_evolution step 902: f(x)= 4.08815\n",
      "differential_evolution step 903: f(x)= 4.08814\n",
      "differential_evolution step 904: f(x)= 4.08814\n",
      "differential_evolution step 905: f(x)= 4.08814\n",
      "differential_evolution step 906: f(x)= 4.08814\n",
      "differential_evolution step 907: f(x)= 4.08814\n",
      "differential_evolution step 908: f(x)= 4.08814\n",
      "differential_evolution step 909: f(x)= 4.08814\n",
      "differential_evolution step 910: f(x)= 4.08813\n",
      "differential_evolution step 911: f(x)= 4.08813\n",
      "differential_evolution step 912: f(x)= 4.08812\n",
      "differential_evolution step 913: f(x)= 4.08812\n",
      "differential_evolution step 914: f(x)= 4.08812\n",
      "differential_evolution step 915: f(x)= 4.08811\n",
      "differential_evolution step 916: f(x)= 4.08811\n",
      "differential_evolution step 917: f(x)= 4.0881\n",
      "differential_evolution step 918: f(x)= 4.0881\n",
      "differential_evolution step 919: f(x)= 4.08809\n",
      "differential_evolution step 920: f(x)= 4.08808\n",
      "differential_evolution step 921: f(x)= 4.08808\n",
      "differential_evolution step 922: f(x)= 4.08808\n",
      "differential_evolution step 923: f(x)= 4.08808\n",
      "differential_evolution step 924: f(x)= 4.08808\n",
      "differential_evolution step 925: f(x)= 4.08808\n",
      "differential_evolution step 926: f(x)= 4.08808\n",
      "differential_evolution step 927: f(x)= 4.08808\n",
      "differential_evolution step 928: f(x)= 4.08808\n",
      "differential_evolution step 929: f(x)= 4.08808\n",
      "differential_evolution step 930: f(x)= 4.08808\n",
      "differential_evolution step 931: f(x)= 4.08808\n",
      "differential_evolution step 932: f(x)= 4.08808\n",
      "differential_evolution step 933: f(x)= 4.08808\n",
      "differential_evolution step 934: f(x)= 4.08808\n",
      "differential_evolution step 935: f(x)= 4.08807\n",
      "differential_evolution step 936: f(x)= 4.08807\n",
      "differential_evolution step 937: f(x)= 4.08807\n",
      "differential_evolution step 938: f(x)= 4.08807\n",
      "differential_evolution step 939: f(x)= 4.08807\n",
      "differential_evolution step 940: f(x)= 4.08807\n",
      "differential_evolution step 941: f(x)= 4.08807\n",
      "differential_evolution step 942: f(x)= 4.08807\n",
      "differential_evolution step 943: f(x)= 4.08807\n",
      "differential_evolution step 944: f(x)= 4.08807\n",
      "differential_evolution step 945: f(x)= 4.08806\n",
      "differential_evolution step 946: f(x)= 4.08806\n",
      "differential_evolution step 947: f(x)= 4.08806\n",
      "differential_evolution step 948: f(x)= 4.08806\n",
      "differential_evolution step 949: f(x)= 4.08805\n",
      "differential_evolution step 950: f(x)= 4.08805\n",
      "differential_evolution step 951: f(x)= 4.08805\n",
      "differential_evolution step 952: f(x)= 4.08805\n",
      "differential_evolution step 953: f(x)= 4.08805\n",
      "differential_evolution step 954: f(x)= 4.08805\n",
      "differential_evolution step 955: f(x)= 4.08804\n",
      "differential_evolution step 956: f(x)= 4.08804\n",
      "differential_evolution step 957: f(x)= 4.08803\n",
      "differential_evolution step 958: f(x)= 4.08803\n",
      "differential_evolution step 959: f(x)= 4.08803\n",
      "differential_evolution step 960: f(x)= 4.08803\n",
      "differential_evolution step 961: f(x)= 4.08803\n",
      "differential_evolution step 962: f(x)= 4.08803\n",
      "differential_evolution step 963: f(x)= 4.08803\n",
      "differential_evolution step 964: f(x)= 4.08803\n",
      "differential_evolution step 965: f(x)= 4.08803\n",
      "differential_evolution step 966: f(x)= 4.08803\n",
      "differential_evolution step 967: f(x)= 4.08803\n",
      "differential_evolution step 968: f(x)= 4.08803\n",
      "differential_evolution step 969: f(x)= 4.08803\n",
      "differential_evolution step 970: f(x)= 4.08803\n",
      "differential_evolution step 971: f(x)= 4.08803\n",
      "differential_evolution step 972: f(x)= 4.08803\n",
      "differential_evolution step 973: f(x)= 4.08803\n",
      "differential_evolution step 974: f(x)= 4.08802\n",
      "differential_evolution step 975: f(x)= 4.08802\n",
      "differential_evolution step 976: f(x)= 4.08802\n",
      "differential_evolution step 977: f(x)= 4.08802\n",
      "differential_evolution step 978: f(x)= 4.08802\n",
      "differential_evolution step 979: f(x)= 4.08802\n",
      "differential_evolution step 980: f(x)= 4.08802\n",
      "differential_evolution step 981: f(x)= 4.08802\n",
      "differential_evolution step 982: f(x)= 4.08802\n",
      "differential_evolution step 983: f(x)= 4.08802\n",
      "differential_evolution step 984: f(x)= 4.08802\n",
      "differential_evolution step 985: f(x)= 4.08802\n",
      "differential_evolution step 986: f(x)= 4.08802\n",
      "differential_evolution step 987: f(x)= 4.08802\n",
      "differential_evolution step 988: f(x)= 4.08802\n",
      "differential_evolution step 989: f(x)= 4.08802\n",
      "differential_evolution step 990: f(x)= 4.08802\n",
      "differential_evolution step 991: f(x)= 4.08802\n",
      "differential_evolution step 992: f(x)= 4.08802\n",
      "differential_evolution step 993: f(x)= 4.08802\n",
      "differential_evolution step 994: f(x)= 4.08802\n",
      "differential_evolution step 995: f(x)= 4.08802\n",
      "differential_evolution step 996: f(x)= 4.08802\n",
      "differential_evolution step 997: f(x)= 4.08802\n",
      "differential_evolution step 998: f(x)= 4.08802\n",
      "differential_evolution step 999: f(x)= 4.08802\n",
      "differential_evolution step 1000: f(x)= 4.08802\n"
     ]
    }
   ],
   "source": [
    "tf_fit = kontrol.model.fit.noise2zpk(f=f[1:], noise_data=data[1:], max_order=10, bounds=(min(f[1:])*1e-1, max(f[1:])))"
   ]
  },
  {
   "cell_type": "code",
   "execution_count": 193,
   "metadata": {},
   "outputs": [
    {
     "data": {
      "text/latex": [
       "$$\\frac{7.875 \\times 10^{-20} s^{10} + 1.98 \\times 10^{-16} s^9 + 2.099 \\times 10^{-13} s^8 + 1.225 \\times 10^{-10} s^7 + 4.299 \\times 10^{-8} s^6 + 9.281 \\times 10^{-6} s^5 + 0.001205 s^4 + 0.08666 s^3 + 2.759 s^2 + 11.53 s + 8.471}{4.984 \\times 10^{-18} s^{10} + 1.141 \\times 10^{-14} s^9 + 1.112 \\times 10^{-11} s^8 + 6.015 \\times 10^{-9} s^7 + 1.976 \\times 10^{-6} s^6 + 0.0004036 s^5 + 0.0501 s^4 + 3.459 s^3 + 102.1 s^2 + 30.68 s + 1}$$"
      ],
      "text/plain": [
       "\n",
       "7.875e-20 s^10 + 1.98e-16 s^9 + 2.099e-13 s^8 + 1.225e-10 s^7 + 4.299e-08 s^6 + 9.281e-06 s^5 + 0.001205 s^4 + 0.08666 s^3 + 2.759 s^2 + 11.53 s + 8.471\n",
       "--------------------------------------------------------------------------------------------------------------------------------------------------------\n",
       "    4.984e-18 s^10 + 1.141e-14 s^9 + 1.112e-11 s^8 + 6.015e-09 s^7 + 1.976e-06 s^6 + 0.0004036 s^5 + 0.0501 s^4 + 3.459 s^3 + 102.1 s^2 + 30.68 s + 1"
      ]
     },
     "execution_count": 193,
     "metadata": {},
     "output_type": "execute_result"
    }
   ],
   "source": [
    "tf_fit"
   ]
  },
  {
   "cell_type": "code",
   "execution_count": 201,
   "metadata": {
    "scrolled": true
   },
   "outputs": [
    {
     "data": {
      "text/plain": [
       "[<matplotlib.lines.Line2D at 0x7fc279b7be80>]"
      ]
     },
     "execution_count": 201,
     "metadata": {},
     "output_type": "execute_result"
    },
    {
     "data": {
      "image/png": "[encoded data removed]",
      "text/plain": [
       "<Figure size 432x288 with 1 Axes>"
      ]
     },
     "metadata": {
      "needs_background": "light"
     },
     "output_type": "display_data"
    }
   ],
   "source": [
    "import matplotlib.pyplot as plt\n",
    "_f = np.logspace(-6, 6, 1000000)\n",
    "plt.loglog(f[1:],data[1:])\n",
    "plt.loglog(f[1:], abs(tf_fit.horner(2*np.pi*1j*f[1:])[0][0]))"
   ]
  },
  {
   "cell_type": "code",
   "execution_count": 145,
   "metadata": {},
   "outputs": [
    {
     "data": {
      "text/plain": [
       "100.0078125"
      ]
     },
     "execution_count": 145,
     "metadata": {},
     "output_type": "execute_result"
    }
   ],
   "source": [
    "max(f)"
   ]
  },
  {
   "cell_type": "code",
   "execution_count": 144,
   "metadata": {},
   "outputs": [
    {
     "data": {
      "text/plain": [
       "array([-1.01728215e+04  +0.j        , -1.01238103e+04+121.14422019j,\n",
       "       -1.01238103e+04-121.14422019j, -1.00025157e+04+173.98511007j,\n",
       "       -1.00025157e+04-173.98511007j, -9.87775794e+03+124.61894867j,\n",
       "       -9.87775794e+03-124.61894867j, -9.82526033e+03  +0.j        ,\n",
       "       -2.73932889e+02  +0.j        , -7.82236926e-04  +0.j        ])"
      ]
     },
     "execution_count": 144,
     "metadata": {},
     "output_type": "execute_result"
    }
   ],
   "source": [
    "tf_fit.pole()/2/np.pi"
   ]
  },
  {
   "cell_type": "code",
   "execution_count": 61,
   "metadata": {},
   "outputs": [
    {
     "data": {
      "text/plain": [
       "4.66451"
      ]
     },
     "execution_count": 61,
     "metadata": {},
     "output_type": "execute_result"
    }
   ],
   "source": [
    "data[1]"
   ]
  },
  {
   "cell_type": "code",
   "execution_count": 22,
   "metadata": {},
   "outputs": [
    {
     "data": {
      "text/latex": [
       "$$\\frac{2.536 \\times 10^{-50} s^{10} + 1.275 \\times 10^{-43} s^9 + 2.807 \\times 10^{-37} s^8 + 3.531 \\times 10^{-31} s^7 + 2.777 \\times 10^{-25} s^6 + 1.399 \\times 10^{-19} s^5 + 4.409 \\times 10^{-14} s^4 + 7.969 \\times 10^{-9} s^3 + 0.0006383 s^2 + 1.733 s + 11.04}{5.799 \\times 10^{-51} s^{10} + 3.279 \\times 10^{-44} s^9 + 8.243 \\times 10^{-38} s^8 + 1.209 \\times 10^{-31} s^7 + 1.139 \\times 10^{-25} s^6 + 7.158 \\times 10^{-20} s^5 + 2.999 \\times 10^{-14} s^4 + 8.075 \\times 10^{-9} s^3 + 0.001269 s^2 + 88.57 s + 1}$$"
      ],
      "text/plain": [
       "\n",
       "2.536e-50 s^10 + 1.275e-43 s^9 + 2.807e-37 s^8 + 3.531e-31 s^7 + 2.777e-25 s^6 + 1.399e-19 s^5 + 4.409e-14 s^4 + 7.969e-09 s^3 + 0.0006383 s^2 + 1.733 s + 11.04\n",
       "----------------------------------------------------------------------------------------------------------------------------------------------------------------\n",
       "  5.799e-51 s^10 + 3.279e-44 s^9 + 8.243e-38 s^8 + 1.209e-31 s^7 + 1.139e-25 s^6 + 7.158e-20 s^5 + 2.999e-14 s^4 + 8.075e-09 s^3 + 0.001269 s^2 + 88.57 s + 1"
      ]
     },
     "execution_count": 22,
     "metadata": {},
     "output_type": "execute_result"
    }
   ],
   "source": [
    "tf_fit"
   ]
  },
  {
   "cell_type": "code",
   "execution_count": 26,
   "metadata": {},
   "outputs": [
    {
     "data": {
      "text/plain": [
       "[<matplotlib.lines.Line2D at 0x7fc25bca5b50>]"
      ]
     },
     "execution_count": 26,
     "metadata": {},
     "output_type": "execute_result"
    },
    {
     "data": {
      "image/png": "[encoded data removed]",
      "text/plain": [
       "<Figure size 432x288 with 1 Axes>"
      ]
     },
     "metadata": {
      "needs_background": "light"
     },
     "output_type": "display_data"
    }
   ],
   "source": [
    "coh = dg.items.results.COH['K1:VIS-SR2_IP_BLEND_ACCL_IN1'].coherence[2]\n",
    "plt.semilogx(f,coh)"
   ]
  },
  {
   "cell_type": "code",
   "execution_count": 161,
   "metadata": {
    "scrolled": true
   },
   "outputs": [],
   "source": [
    "choice = np.random.choice(np.logspace(np.log10(min(f[1:])), np.log10(max(f[1:])), len(f[1:])), 20)"
   ]
  },
  {
   "cell_type": "code",
   "execution_count": 162,
   "metadata": {},
   "outputs": [
    {
     "data": {
      "text/plain": [
       "[<matplotlib.lines.Line2D at 0x7fc297352bb0>]"
      ]
     },
     "execution_count": 162,
     "metadata": {},
     "output_type": "execute_result"
    },
    {
     "data": {
      "image/png": "[encoded data removed]",
      "text/plain": [
       "<Figure size 432x288 with 1 Axes>"
      ]
     },
     "metadata": {
      "needs_background": "light"
     },
     "output_type": "display_data"
    }
   ],
   "source": [
    "plt.loglog(choice)"
   ]
  }
 ],
 "metadata": {
  "kernelspec": {
   "display_name": "Python 3",
   "language": "python",
   "name": "python3"
  },
  "language_info": {
   "codemirror_mode": {
    "name": "ipython",
    "version": 3
   },
   "file_extension": ".py",
   "mimetype": "text/x-python",
   "name": "python",
   "nbconvert_exporter": "python",
   "pygments_lexer": "ipython3",
   "version": "3.9.0"
  }
 },
 "nbformat": 4,
 "nbformat_minor": 4
}
