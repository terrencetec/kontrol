{
 "cells": [
  {
   "cell_type": "code",
   "execution_count": 5,
   "metadata": {},
   "outputs": [],
   "source": [
    "from control import *\n",
    "import numpy as np\n",
    "import matplotlib.pyplot as plt\n",
    "## Using BS data for reference.\n",
    "K=1000\n",
    "r_L = (996+230) /1000  # length from optic to lens\n",
    "r_P = (996+120+185) / 1000  # length from optic to tilt QPD\n",
    "alpha = 36.9 * np.pi/180\n",
    "beta = 0\n",
    "r_Y = r_P * np.cos(alpha) \n",
    "theta_tilt = 2.154 * np.pi/180\n",
    "theta_len = -3.09 * np.pi/180\n",
    "delta_P = -0.14\n",
    "delta_Y = 0.02494\n",
    "f = 300/1000\n",
    "C_Tx=0.004063\n",
    "C_Ty=0.004534\n",
    "C_Lx=0.002451\n",
    "C_Ly=0.002471\n",
    "def OL2EUL(r_L=r_L, r_P=r_P, r_Y=r_Y, \n",
    "           theta_tilt=theta_tilt, theta_len=theta_len, \n",
    "           alpha=alpha, beta=beta, \n",
    "           delta_Y=delta_Y, delta_P=delta_P, f=f):\n",
    "    A = np.array(\n",
    "            [\n",
    "                [2*np.sin(beta), 2*delta_P*np.sin(beta), 2*r_Y+2*delta_Y*np.sin(beta)],\n",
    "                [2*np.sin(alpha), 2*r_P+2*delta_P*np.sin(alpha), 2*delta_Y*np.sin(alpha)],\n",
    "                [-2*f*np.sin(alpha)/(r_L-f), -2*delta_P*f*np.sin(alpha)/(r_L-f), -2*delta_Y*f*np.sin(alpha)/(r_L-f)]\n",
    "            ])\n",
    "    R = np.array(\n",
    "            [\n",
    "                [np.cos(theta_tilt), np.sin(theta_tilt), 0, 0],\n",
    "                [-np.sin(theta_tilt), np.cos(theta_tilt), 0, 0],\n",
    "                [0, 0, -np.sin(theta_len), np.cos(theta_len)]\n",
    "            ]\n",
    "        )\n",
    "#     cal = np.array(\n",
    "#             [\n",
    "#                 [C_Tx, 0, 0, 0],\n",
    "#                 [0, C_Ty, 0, 0],\n",
    "#                 [0, 0, C_Lx, 0],\n",
    "#                 [0, 0, 0, C_Ly]\n",
    "#             ]\n",
    "#         )\n",
    "    return(np.matmul(np.linalg.inv(A), R))\n",
    "\n",
    "# OL2EUL()[:,0], OL2EUL()[:, 2] = OL2EUL()[:, 2], OL2EUL()[:, 0].copy\n",
    "# OL2EUL()[:,1], OL2EUL()[:, 3] = OL2EUL()[:, 1], OL2EUL()[:, 3].copy\n",
    "# A=OL2EUL()\n",
    "# # A[:,0], A[:, 2] = A[:, 2], np.copy(A[:, 0])\n",
    "# # A[:,1], A[:, 3] = A[:, 3], np.copy(A[:, 1])\n",
    "# A[:,0], A[:, 1] = A[:, 1], np.copy(A[:, 0])\n",
    "# A[:,2], A[:, 3] = A[:, 3], np.copy(A[:, 2])\n",
    "# A=A*1000\n",
    "# A\n",
    "# cal=np.matrix([[C_Ty,0,0,0],[0,C_Tx,0,0],[0,0,C_Ly,0],[0,0,0,C_Lx]])\n",
    "\n",
    "# rot=K*np.matrix([[np.sin(theta_tilt),np.cos(theta_tilt),0,0],[np.cos(theta_tilt),-np.sin(theta_tilt),0,0],[0,0,np.cos(theta_len),-np.sin(theta_len)]])\n",
    "# arm=np.matrix([[2*np.sin(beta),2*delta_P*np.sin(beta),2*r_Y+2*delta_Y*np.sin(beta)],[2*np.sin(alpha),2*r_P+2*delta_P*np.sin(alpha),2*delta_Y*np.sin(alpha)],[(-2*f*np.sin(alpha)/(r_L-f)),(-2*f*np.sin(alpha)/(r_L-f))*delta_P,(-2*f*np.sin(alpha)/(r_L-f))*delta_Y]])\n",
    "# print(arm.I*rot*cal)\n",
    "# print(np.linalg.pinv(OL2EUL()))\n",
    "def LPY2QPD(L, P, Y):\n",
    "    X = np.array([[L],[P],[Y]])\n",
    "    return(np.matmul(np.linalg.pinv(OL2EUL()), X))\n",
    "\n"
   ]
  },
  {
   "cell_type": "code",
   "execution_count": 3,
   "metadata": {},
   "outputs": [
    {
     "data": {
      "text/plain": [
       "array([[ 1.00000000e+00],\n",
       "       [-5.85902854e-16],\n",
       "       [-5.89805982e-17]])"
      ]
     },
     "execution_count": 3,
     "metadata": {},
     "output_type": "execute_result"
    }
   ],
   "source": [
    "np.matmul(OL2EUL(),LPY2QPD(1,0,0))"
   ]
  },
  {
   "cell_type": "code",
   "execution_count": 6,
   "metadata": {},
   "outputs": [
    {
     "data": {
      "text/plain": [
       "[<matplotlib.lines.Line2D at 0x259744506d8>]"
      ]
     },
     "execution_count": 6,
     "metadata": {},
     "output_type": "execute_result"
    },
    {
     "data": {
      "image/png": "[encoded data removed]",
      "text/plain": [
       "<Figure size 432x288 with 1 Axes>"
      ]
     },
     "metadata": {
      "needs_background": "light"
     },
     "output_type": "display_data"
    }
   ],
   "source": [
    "f = np.linspace(0.1,10,1000)\n",
    "L_tf = tf([(0.65*2*np.pi)**2],[1,0.65*2*np.pi/10,(0.65*2*np.pi)**2])\n",
    "plt.loglog(f, abs(L_tf.horner(2*np.pi*f*1j)[0][0]))"
   ]
  }
 ],
 "metadata": {
  "kernelspec": {
   "display_name": "Python 3",
   "language": "python",
   "name": "python3"
  },
  "language_info": {
   "codemirror_mode": {
    "name": "ipython",
    "version": 3
   },
   "file_extension": ".py",
   "mimetype": "text/x-python",
   "name": "python",
   "nbconvert_exporter": "python",
   "pygments_lexer": "ipython3",
   "version": "3.6.3"
  }
 },
 "nbformat": 4,
 "nbformat_minor": 4
}
