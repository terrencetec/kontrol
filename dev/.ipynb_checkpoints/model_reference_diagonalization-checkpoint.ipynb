{
 "cells": [
  {
   "cell_type": "code",
   "execution_count": 17,
   "metadata": {},
   "outputs": [
    {
     "data": {
      "text/plain": [
       "array([[ 2.47441689e-04, -5.82233846e-05, -7.20013448e+00,\n",
       "        -3.85539037e-01],\n",
       "       [ 1.78237464e-03, -6.00747590e-05,  3.64222464e+00,\n",
       "         1.95026882e-01],\n",
       "       [ 8.38316407e-05,  1.99731028e-03,  0.00000000e+00,\n",
       "         0.00000000e+00]])"
      ]
     },
     "execution_count": 17,
     "metadata": {},
     "output_type": "execute_result"
    }
   ],
   "source": [
    "import control\n",
    "import numpy as np\n",
    "\n",
    "## Using BS data for reference.\n",
    "\n",
    "r_L = (996+130) /1000  # length from optic to lens\n",
    "r_P = (966+120+185) / 1000  # length from optic to tilt QPD\n",
    "alpha = 36.9 * np.pi/180\n",
    "beta = 0\n",
    "r_Y = r_P * np.cos(alpha) \n",
    "theta_tilt = 2.154 * np.pi/180\n",
    "theta_len = -3.09 * np.pi/180\n",
    "delta_P = -0.14\n",
    "delta_Y = 0.02494\n",
    "f = 300/1000\n",
    "C_Tx=0.004063\n",
    "C_Ty=0.004534\n",
    "C_Lx=0.002451\n",
    "C_Ly=0.002471\n",
    "def OL2EUL(r_L=r_L, r_P=r_P, r_Y=r_Y, \n",
    "           theta_tilt=theta_tilt, theta_len=theta_len, \n",
    "           alpha=alpha, beta=beta, \n",
    "           delta_Y=delta_Y, delta_P=delta_P, f=f):\n",
    "    A = np.array(\n",
    "            [\n",
    "                [2*np.sin(beta), 2*delta_P*np.sin(beta), 2*r_Y+2*delta_Y*np.sin(beta)],\n",
    "                [2*np.sin(alpha), 2*r_P+2*delta_P*np.sin(alpha), 2*delta_Y*np.sin(alpha)],\n",
    "                [-2*f*np.sin(alpha)/(r_L-f), -2*delta_P*f*np.sin(alpha)/(r_L-f), -2*delta_Y*f*np.sin(alpha)/(r_L-f)]\n",
    "            ])\n",
    "    R = np.array(\n",
    "            [\n",
    "                [np.cos(theta_tilt), np.sin(theta_tilt), 0, 0],\n",
    "                [-np.sin(theta_tilt), np.cos(theta_tilt), 0, 0],\n",
    "                [0, 0, -np.sin(theta_len), np.cos(theta_len)]\n",
    "            ]\n",
    "        )\n",
    "    cal = np.array(\n",
    "            [\n",
    "                [C_Tx, 0, 0, 0],\n",
    "                [0, C_Ty, 0, 0],\n",
    "                [0, 0, C_Lx, 0],\n",
    "                [0, 0, 0, C_Ly]\n",
    "            ]\n",
    "        )\n",
    "    return(np.matmul(np.linalg.inv(A),np.matmul(R,cal)))\n",
    "\n",
    "# OL2EUL()[:,0], OL2EUL()[:, 2] = OL2EUL()[:, 2], OL2EUL()[:, 0].copy\n",
    "# OL2EUL()[:,1], OL2EUL()[:, 3] = OL2EUL()[:, 1], OL2EUL()[:, 3].copy\n",
    "A=OL2EUL()\n",
    "# A[:,0], A[:, 2] = A[:, 2], np.copy(A[:, 0])\n",
    "# A[:,1], A[:, 3] = A[:, 3], np.copy(A[:, 1])\n",
    "A[:,0], A[:, 1] = A[:, 1], np.copy(A[:, 0])\n",
    "A[:,2], A[:, 3] = A[:, 3], np.copy(A[:, 2])\n",
    "A\n",
    "# def LPY2QPD(L, P, Y):\n",
    "    \n",
    "    "
   ]
  }
 ],
 "metadata": {
  "kernelspec": {
   "display_name": "Python 3",
   "language": "python",
   "name": "python3"
  },
  "language_info": {
   "codemirror_mode": {
    "name": "ipython",
    "version": 3
   },
   "file_extension": ".py",
   "mimetype": "text/x-python",
   "name": "python",
   "nbconvert_exporter": "python",
   "pygments_lexer": "ipython3",
   "version": "3.6.3"
  }
 },
 "nbformat": 4,
 "nbformat_minor": 4
}
