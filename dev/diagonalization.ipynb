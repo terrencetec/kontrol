{
 "cells": [
  {
   "cell_type": "code",
   "execution_count": 1,
   "metadata": {},
   "outputs": [],
   "source": [
    "import numpy as np\n",
    "\n",
    "def rediagonalization(current_matrix, coupling_matrix, type = 'sensing'):\n",
    "    \"\"\"Refine existing diagonalization matrix given a coupling matrix.\n",
    "\n",
    "    Parameters\n",
    "    ----------\n",
    "        current_matrix: list of (list of int/float) or 2D numpy.ndarray\n",
    "            The matrix to be refined.\n",
    "        coupling_matrix: list of (list of int/float) or 2D numpy.ndarray\n",
    "            The measured coupling. For sensing matrix, coupling_matrix[i][j] is\n",
    "            the coupling ratio between the i-th component and j-th component\n",
    "            of the displacement vector. Hence, the diagonal elements should be\n",
    "            1. For actuation matrix, coupling matrix[i][j] is the ratio\n",
    "            between the i-th component of displacement and j-th component in\n",
    "            actuation. The diagonal elements should be comparable to the\n",
    "            actuation efficiency of the particular DoF.\n",
    "        type: string\n",
    "            Specifying what kind of matrix we are diagonalizing. Either\n",
    "            'sensing' or 'actuation'\n",
    "\n",
    "    Returns\n",
    "    -------\n",
    "        numpy.ndarray\n",
    "            The refined diagonalziation matrix.\n",
    "    \"\"\"\n",
    "    current_matrix = np.array(current_matrix)\n",
    "    coupling_matrix = np.array(coupling_matrix)\n",
    "    diagonal_coupling = np.array(np.diag(np.diag(coupling_matrix)))\n",
    "    if type == 'sensing':\n",
    "        new_matrix = np.matmul(np.linalg.inv(coupling_matrix), current_matrix)\n",
    "        return(new_matrix)\n",
    "    elif type == 'actuation':\n",
    "        new_matrix = np.matmul(current_matrix,\n",
    "            np.matmul(np.linalg.inv(coupling_matrix), diagonal_coupling))\n",
    "        return(new_matrix)\n",
    "    else:\n",
    "        print(\"Please specify type, either 'sensing' or 'actuation'.\")\n",
    "        return(None)\n",
    "    \n",
    "    "
   ]
  },
  {
   "cell_type": "code",
   "execution_count": 37,
   "metadata": {},
   "outputs": [
    {
     "data": {
      "text/plain": [
       "array([[-0.00430858, -0.02190462, -3.84803538,  0.        ],\n",
       "       [ 2.56864954,  0.05081505,  1.5915031 ,  0.        ],\n",
       "       [-0.03155635,  3.2813798 ,  0.07889281,  0.        ]])"
      ]
     },
     "execution_count": 37,
     "metadata": {},
     "output_type": "execute_result"
    }
   ],
   "source": [
    "# sensing SRM OL2EUL\n",
    "\n",
    "ol2eul=np.array([[-0.04892, -0.03073, -3.8702, 0], \n",
    "                 [2.56819, 0.05846, 1.26304, 0], \n",
    "                 [-0.02427, 3.28096, -0.01598, 0]])\n",
    "coupling_matrix = np.array([[1, -0.0174, -0.00243],\n",
    "                            [0, 1, 0.0029],\n",
    "                            [0.0256, 0.00288, 1]])\n",
    "C = np.array([[1,0,0],[(-69.3216+78.0996)/(120.5889-17.8238),1,0],[0,0,1]])\n",
    "# np.matmul(C,coupling_matrix)\n",
    "# (-69.3216+78.0996)/(120.5889-17.8238)\n",
    "new_ol2eul = rediagonalization(current_matrix = ol2eul, coupling_matrix = coupling_matrix, type = 'sensing')\n",
    "new_ol2eul = rediagonalization(current_matrix = new_ol2eul, coupling_matrix = C, type = 'sensing')\n",
    "new_ol2eul"
   ]
  },
  {
   "cell_type": "code",
   "execution_count": 38,
   "metadata": {},
   "outputs": [
    {
     "data": {
      "text/plain": [
       "array([[ 0.27037208,  1.17360037, -1.10256781],\n",
       "       [ 0.25877144, -0.95733506, -0.9482441 ],\n",
       "       [ 0.25140669, -0.94429223,  1.01847005],\n",
       "       [ 0.2223493 ,  0.94456124,  0.94518626]])"
      ]
     },
     "execution_count": 38,
     "metadata": {},
     "output_type": "execute_result"
    }
   ],
   "source": [
    "# actuation SRM TM_EUL2OSEM\n",
    "\n",
    "coupling_matrix = np.array([[0.0003736428499, 0.00017566015, -2.71734459e-6],\n",
    "                            [-4.90803115e-5, 0.0184034, 6.434345769e-5],\n",
    "                            [-5.651684397e-5, 0.0002424936, 0.00703429]])\n",
    "coupling_matrix = coupling_matrix.T\n",
    "eul2osem = np.array([[0.282, 1.128, -1.128],\n",
    "                     [0.25, -1, -1],\n",
    "                     [0.242, -0.968, 0.968],\n",
    "                     [0.231, 0.924, 0.924]])\n",
    "new_eul2osem = rediagonalization(current_matrix=eul2osem, coupling_matrix=coupling_matrix, type = 'actuation')\n",
    "new_eul2osem"
   ]
  },
  {
   "cell_type": "code",
   "execution_count": 41,
   "metadata": {},
   "outputs": [
    {
     "data": {
      "text/plain": [
       "array([[1., 1., 1.],\n",
       "       [1., 1., 1.]])"
      ]
     },
     "execution_count": 41,
     "metadata": {},
     "output_type": "execute_result"
    }
   ],
   "source": [
    "np.ones((2,3))"
   ]
  }
 ],
 "metadata": {
  "kernelspec": {
   "display_name": "Python 3",
   "language": "python",
   "name": "python3"
  },
  "language_info": {
   "codemirror_mode": {
    "name": "ipython",
    "version": 3
   },
   "file_extension": ".py",
   "mimetype": "text/x-python",
   "name": "python",
   "nbconvert_exporter": "python",
   "pygments_lexer": "ipython3",
   "version": "3.8.4"
  }
 },
 "nbformat": 4,
 "nbformat_minor": 4
}
