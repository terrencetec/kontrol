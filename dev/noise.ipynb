{
 "cells": [
  {
   "cell_type": "code",
   "execution_count": 87,
   "metadata": {},
   "outputs": [],
   "source": [
    "import numpy as np\n",
    "def piecewise_noise(f, n0, exp=[0], fc=[0]):\n",
    "    \"\"\"Piecewise noise specified corner frequencies and exponents\n",
    "\n",
    "    Parameters\n",
    "    ----------\n",
    "        f: list of int/float or numpy.ndarray or int/float\n",
    "            The frequency axis of the noise. Or, the frequency at which the\n",
    "            noise is evaluated.\n",
    "        n0: int/float\n",
    "            The noise level at 1 Hz with the first exponent.\n",
    "        exp: list of int/float\n",
    "            The list of exponents of each section of noise separated by the \\\n",
    "            corner frequencies.\n",
    "        fc: list of int/float\n",
    "            The list of corner frequencies in increaing order. The length of \\\n",
    "            fc must be 1 less then the length of exp\n",
    "\n",
    "    Returns\n",
    "    -------\n",
    "        noise: numpy.ndarray\n",
    "            The piecewise noise array.\n",
    "    \"\"\"\n",
    "\n",
    "    list(fc)\n",
    "    if fc[-1] < np.inf:\n",
    "        fc.append(np.inf)\n",
    "\n",
    "    noise = np.zeros_like(f)\n",
    "    fc_index = 0\n",
    "    for i in range(len(f)):\n",
    "        if f[i] >= fc[fc_index]:\n",
    "            fc_index += 1\n",
    "            n0 = n0 * fc[fc_index-1]**(exp[fc_index-1]-exp[fc_index])\n",
    "        noise[i] = n0 * f[i]**exp[fc_index]\n",
    "        # print(fc_index)\n",
    "    return(np.array(noise))\n",
    "\n",
    "def lvdt_noise(f, n0, fc):\n",
    "    \"\"\"LVDT noise\n",
    "\n",
    "    Parameters\n",
    "    ----------\n",
    "        f: list of int/float or numpy.ndarray\n",
    "            The frequency axis of the noise.\n",
    "        n0: int/float\n",
    "            The noise level at 1 Hz with the exponent of -0.5.\n",
    "        fc: int/float\n",
    "            The corner frequency at which the exponent changes from -0.5 to 0.\n",
    "    Returns\n",
    "    -------\n",
    "        noise: numpy.ndarray\n",
    "            The piecewise noise array.\n",
    "\n",
    "    Notes\n",
    "    -----\n",
    "        The LVDT noise noise typically has a :math:`f^{-0.5}` dependency \\\n",
    "        before the corner frequency and is flat after that.\n",
    "    \"\"\"\n",
    "\n",
    "    return(piecewise_noise(f, n0, exp=[-0.5, 0], fc=[fc]))\n",
    "from scipy.optimize import minimize\n",
    "from inspect import signature\n",
    "def noise_fit(noise_model, f, noise_data, weight=None, x0=None, **kwargs):\n",
    "    \"\"\"Noise model fit, follow the argument format of scipy.optimize.curve_fit\n",
    "\n",
    "    Parameters\n",
    "    ----------\n",
    "\n",
    "    \"\"\"\n",
    "    if weight is None:\n",
    "        weight = np.ones_like(noise_data)\n",
    "    if x0 is None:\n",
    "        no_of_params = str(signature(noise_model)).count(',')\n",
    "        x0 = np.ones(no_of_params)\n",
    "    def cost(args):\n",
    "        return(sum(np.sqrt((noise_model(f, *args)/noise_data - np.ones_like(noise_data))**2)*weight))\n",
    "    res = minimize(cost, x0, **kwargs, options={'disp':True}, method='Nelder-Mead')\n",
    "    return(res.x)"
   ]
  },
  {
   "cell_type": "code",
   "execution_count": 94,
   "metadata": {},
   "outputs": [
    {
     "ename": "NameError",
     "evalue": "name 'geophone_noise' is not defined",
     "output_type": "error",
     "traceback": [
      "\u001b[1;31m---------------------------------------------------------------------------\u001b[0m",
      "\u001b[1;31mNameError\u001b[0m                                 Traceback (most recent call last)",
      "\u001b[1;32m<ipython-input-94-0bb31d3fd00b>\u001b[0m in \u001b[0;36m<module>\u001b[1;34m\u001b[0m\n\u001b[1;32m----> 1\u001b[1;33m \u001b[0margs\u001b[0m \u001b[1;33m=\u001b[0m \u001b[0mnoise_fit\u001b[0m\u001b[1;33m(\u001b[0m\u001b[0mlvdt_noise\u001b[0m\u001b[1;33m,\u001b[0m \u001b[0mf\u001b[0m\u001b[1;33m,\u001b[0m \u001b[0mgeophone_noise\u001b[0m\u001b[1;33m(\u001b[0m\u001b[0mf\u001b[0m\u001b[1;33m,\u001b[0m\u001b[1;36m1e-5\u001b[0m\u001b[1;33m,\u001b[0m\u001b[1;36m1\u001b[0m\u001b[1;33m)\u001b[0m\u001b[1;33m)\u001b[0m\u001b[1;33m\u001b[0m\u001b[0m\n\u001b[0m",
      "\u001b[1;31mNameError\u001b[0m: name 'geophone_noise' is not defined"
     ]
    }
   ],
   "source": [
    "args = noise_fit(lvdt_noise, f, geophone_noise(f,1e-5,1))"
   ]
  },
  {
   "cell_type": "code",
   "execution_count": 89,
   "metadata": {
    "scrolled": false
   },
   "outputs": [
    {
     "data": {
      "text/plain": [
       "array([1.00000195e-05, 1.00000389e+00])"
      ]
     },
     "execution_count": 89,
     "metadata": {},
     "output_type": "execute_result"
    }
   ],
   "source": [
    "a"
   ]
  },
  {
   "cell_type": "code",
   "execution_count": 32,
   "metadata": {},
   "outputs": [
    {
     "data": {
      "text/plain": [
       "array([1., 1.])"
      ]
     },
     "execution_count": 32,
     "metadata": {},
     "output_type": "execute_result"
    }
   ],
   "source": [
    "from inspect import signature\n",
    "para=str(signature(lvdt_noise)).count(',')\n",
    "np.ones(para)"
   ]
  },
  {
   "cell_type": "code",
   "execution_count": 37,
   "metadata": {
    "scrolled": true
   },
   "outputs": [
    {
     "data": {
      "text/plain": [
       "2.0100000000000002"
      ]
     },
     "execution_count": 37,
     "metadata": {},
     "output_type": "execute_result"
    }
   ],
   "source": [
    "sum((np.array([1,2,3])-np.array([2,3,3.1]))**2)"
   ]
  },
  {
   "cell_type": "code",
   "execution_count": null,
   "metadata": {},
   "outputs": [],
   "source": []
  },
  {
   "cell_type": "code",
   "execution_count": 93,
   "metadata": {},
   "outputs": [
    {
     "data": {
      "text/plain": [
       "[<matplotlib.lines.Line2D at 0x190d5240588>]"
      ]
     },
     "execution_count": 93,
     "metadata": {},
     "output_type": "execute_result"
    },
    {
     "data": {
      "image/png": "[encoded data removed]",
      "text/plain": [
       "<Figure size 432x288 with 1 Axes>"
      ]
     },
     "metadata": {
      "needs_background": "light"
     },
     "output_type": "display_data"
    }
   ],
   "source": [
    "import matplotlib.pyplot as plt\n",
    "f = np.linspace(0.01,10,1000)\n",
    "# lvdt_noise = piecewise_noise(f, 1e-6, exp=[-0.5, 0, 1, -3], fc=[0.1,1,2])\n",
    "\n",
    "plt.loglog(f, lvdt_noise(f, *args))\n",
    "plt.loglog(f, lvdt_noise(f,1e-5,1))\n",
    "# plt.loglog(f,nn(f))"
   ]
  },
  {
   "cell_type": "code",
   "execution_count": 3,
   "metadata": {},
   "outputs": [
    {
     "data": {
      "text/plain": [
       "<function __main__.lvdt_noise(f, n0, fc)>"
      ]
     },
     "execution_count": 3,
     "metadata": {},
     "output_type": "execute_result"
    }
   ],
   "source": [
    "lvdt_noise"
   ]
  },
  {
   "cell_type": "code",
   "execution_count": 97,
   "metadata": {},
   "outputs": [],
   "source": [
    "data=np.loadtxt('BS_IP_noise.txt')\n",
    "f, seisl, seist, lvdtl, lvdtt, geol, geot = data[:,0],data[:,1],data[:,2],data[:,3],data[:,4],data[:,5],data[:,6]\n",
    "mask = f>1e-2\n",
    "f=f[mask]\n",
    "seisl=seisl[mask]\n",
    "seist=seist[mask]\n",
    "lvdtl=lvdtl[mask]\n",
    "lvdtt=lvdtt[mask]\n",
    "geol=geol[mask]\n",
    "geot=geot[mask]\n",
    "weight = np.ones_like(f)\n",
    "for i in range(len(f)):\n",
    "    if f[i]>0.04 and f[i]<0.5:\n",
    "        weight[i]=0"
   ]
  },
  {
   "cell_type": "code",
   "execution_count": 98,
   "metadata": {},
   "outputs": [
    {
     "name": "stdout",
     "output_type": "stream",
     "text": [
      "Optimization terminated successfully.\n",
      "         Current function value: 4361.257803\n",
      "         Iterations: 102\n",
      "         Function evaluations: 195\n"
     ]
    }
   ],
   "source": [
    "args=noise_fit(lvdt_noise, f, lvdtl)"
   ]
  },
  {
   "cell_type": "code",
   "execution_count": 102,
   "metadata": {},
   "outputs": [
    {
     "data": {
      "text/plain": [
       "[<matplotlib.lines.Line2D at 0x190d58b3208>]"
      ]
     },
     "execution_count": 102,
     "metadata": {},
     "output_type": "execute_result"
    },
    {
     "data": {
      "image/png": "[encoded data removed]",
      "text/plain": [
       "<Figure size 432x288 with 1 Axes>"
      ]
     },
     "metadata": {
      "needs_background": "light"
     },
     "output_type": "display_data"
    }
   ],
   "source": [
    "plt.loglog(f, lvdt_noise(f, *args))\n",
    "plt.loglog(f, lvdtl)\n",
    "plt.loglog(f, seisl)"
   ]
  },
  {
   "cell_type": "code",
   "execution_count": 104,
   "metadata": {},
   "outputs": [
    {
     "ename": "IndexError",
     "evalue": "list assignment index out of range",
     "output_type": "error",
     "traceback": [
      "\u001b[1;31m---------------------------------------------------------------------------\u001b[0m",
      "\u001b[1;31mIndexError\u001b[0m                                Traceback (most recent call last)",
      "\u001b[1;32m<ipython-input-104-7f9edf9b3300>\u001b[0m in \u001b[0;36m<module>\u001b[1;34m\u001b[0m\n\u001b[0;32m      1\u001b[0m \u001b[0mP_num\u001b[0m \u001b[1;33m=\u001b[0m \u001b[1;33m[\u001b[0m\u001b[1;33m[\u001b[0m\u001b[1;33m]\u001b[0m\u001b[1;33m,\u001b[0m\u001b[1;33m[\u001b[0m\u001b[1;33m]\u001b[0m\u001b[1;33m]\u001b[0m\u001b[1;33m\u001b[0m\u001b[0m\n\u001b[0;32m      2\u001b[0m \u001b[0mP_den\u001b[0m \u001b[1;33m=\u001b[0m \u001b[1;33m[\u001b[0m\u001b[1;33m[\u001b[0m\u001b[1;33m]\u001b[0m\u001b[1;33m,\u001b[0m\u001b[1;33m[\u001b[0m\u001b[1;33m]\u001b[0m\u001b[1;33m]\u001b[0m\u001b[1;33m\u001b[0m\u001b[0m\n\u001b[1;32m----> 3\u001b[1;33m \u001b[0mP_num\u001b[0m\u001b[1;33m[\u001b[0m\u001b[1;36m0\u001b[0m\u001b[1;33m]\u001b[0m\u001b[1;33m[\u001b[0m\u001b[1;36m0\u001b[0m\u001b[1;33m]\u001b[0m\u001b[1;33m=\u001b[0m\u001b[1;36m1\u001b[0m\u001b[1;33m\u001b[0m\u001b[0m\n\u001b[0m\u001b[0;32m      4\u001b[0m \u001b[0mP_num\u001b[0m\u001b[1;33m[\u001b[0m\u001b[1;36m0\u001b[0m\u001b[1;33m]\u001b[0m\u001b[1;33m[\u001b[0m\u001b[1;36m1\u001b[0m\u001b[1;33m]\u001b[0m\u001b[1;33m=\u001b[0m\u001b[1;36m2\u001b[0m\u001b[1;33m\u001b[0m\u001b[0m\n\u001b[0;32m      5\u001b[0m \u001b[0mP_num\u001b[0m\u001b[1;33m\u001b[0m\u001b[0m\n",
      "\u001b[1;31mIndexError\u001b[0m: list assignment index out of range"
     ]
    }
   ],
   "source": [
    "P_num = [[],[]]\n",
    "P_den = [[],[]]\n",
    "P_num[0][0]=1\n",
    "P_num[0][1]=2\n",
    "P_num"
   ]
  },
  {
   "cell_type": "code",
   "execution_count": 105,
   "metadata": {},
   "outputs": [
    {
     "ename": "NameError",
     "evalue": "name 'wL' is not defined",
     "output_type": "error",
     "traceback": [
      "\u001b[1;31m---------------------------------------------------------------------------\u001b[0m",
      "\u001b[1;31mNameError\u001b[0m                                 Traceback (most recent call last)",
      "\u001b[1;32m<ipython-input-105-707460b0c599>\u001b[0m in \u001b[0;36m<module>\u001b[1;34m\u001b[0m\n\u001b[1;32m----> 1\u001b[1;33m \u001b[0mP\u001b[0m\u001b[1;33m=\u001b[0m\u001b[1;33m[\u001b[0m\u001b[1;33m[\u001b[0m\u001b[0mwL\u001b[0m\u001b[1;33m,\u001b[0m \u001b[1;33m-\u001b[0m\u001b[0mwL\u001b[0m\u001b[1;33m]\u001b[0m\u001b[1;33m,\u001b[0m\u001b[1;33m[\u001b[0m\u001b[1;36m0\u001b[0m\u001b[1;33m,\u001b[0m \u001b[1;33m-\u001b[0m\u001b[0mwH\u001b[0m\u001b[1;33m]\u001b[0m\u001b[1;33m,\u001b[0m\u001b[1;33m[\u001b[0m\u001b[1;36m1\u001b[0m\u001b[1;33m,\u001b[0m\u001b[1;36m0\u001b[0m\u001b[1;33m]\u001b[0m\u001b[1;33m]\u001b[0m\u001b[1;33m\u001b[0m\u001b[0m\n\u001b[0m\u001b[0;32m      2\u001b[0m \u001b[0mtf\u001b[0m\u001b[1;33m(\u001b[0m\u001b[0mP\u001b[0m\u001b[1;33m)\u001b[0m\u001b[1;33m\u001b[0m\u001b[0m\n",
      "\u001b[1;31mNameError\u001b[0m: name 'wL' is not defined"
     ]
    }
   ],
   "source": []
  }
 ],
 "metadata": {
  "kernelspec": {
   "display_name": "Python 3",
   "language": "python",
   "name": "python3"
  },
  "language_info": {
   "codemirror_mode": {
    "name": "ipython",
    "version": 3
   },
   "file_extension": ".py",
   "mimetype": "text/x-python",
   "name": "python",
   "nbconvert_exporter": "python",
   "pygments_lexer": "ipython3",
   "version": "3.8.4"
  }
 },
 "nbformat": 4,
 "nbformat_minor": 4
}
